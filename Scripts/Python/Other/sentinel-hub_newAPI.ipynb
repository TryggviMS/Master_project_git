{
 "cells": [
  {
   "cell_type": "markdown",
   "metadata": {},
   "source": [
    "Nota gee_env for now\n",
    "\n",
    "to to: make an env file for you"
   ]
  },
  {
   "cell_type": "code",
   "execution_count": 1,
   "metadata": {},
   "outputs": [
    {
     "name": "stderr",
     "output_type": "stream",
     "text": [
      "c:\\Users\\trygg\\miniconda3\\envs\\sentinelHub_env\\lib\\site-packages\\tqdm\\auto.py:21: TqdmWarning: IProgress not found. Please update jupyter and ipywidgets. See https://ipywidgets.readthedocs.io/en/stable/user_install.html\n",
      "  from .autonotebook import tqdm as notebook_tqdm\n"
     ]
    }
   ],
   "source": [
    "import os\n",
    "import datetime\n",
    "import numpy as np\n",
    "import matplotlib.pyplot as plt\n",
    "import pandas as pd\n",
    "import requests\n",
    "\n",
    "from sentinelhub import (SHConfig, DataCollection, SentinelHubCatalog, SentinelHubRequest, BBox, bbox_to_dimensions, CRS, MimeType, Geometry)\n",
    "\n"
   ]
  },
  {
   "cell_type": "code",
   "execution_count": 2,
   "metadata": {},
   "outputs": [],
   "source": [
    "# # Import credentials\n",
    "# from creds import *\n",
    "\n",
    "def get_keycloak(username: str, password: str) -> str:\n",
    "    data = {\n",
    "        \"client_id\": \"cdse-public\",\n",
    "        \"username\": username,\n",
    "        \"password\": password,\n",
    "        \"grant_type\": \"password\",\n",
    "        }\n",
    "    try:\n",
    "        r = requests.post(\"https://identity.dataspace.copernicus.eu/auth/realms/CDSE/protocol/openid-connect/token\",\n",
    "        data=data,\n",
    "        )\n",
    "        r.raise_for_status()\n",
    "    except Exception as e:\n",
    "        raise Exception(\n",
    "            f\"Keycloak token creation failed. Reponse from the server was: {r.json()}\"\n",
    "            )\n",
    "    return r.json()[\"access_token\"]\n",
    "        \n",
    "\n",
    "username = 'tryggvims@hotmail.com'\n",
    "password = 'Mamamia.854288'\n",
    "\n",
    "keycloak_token = get_keycloak(username, password)"
   ]
  },
  {
   "cell_type": "code",
   "execution_count": 3,
   "metadata": {},
   "outputs": [],
   "source": [
    "start_date = \"2021-06-01\"\n",
    "end_date = \"2021-06-10\"\n",
    "data_collection = \"SENTINEL-1\"\n",
    "aoi = \"POLYGON((4.220581 50.958859,4.521264 50.953236,4.545977 50.906064,4.541858 50.802029,4.489685 50.763825,4.23843 50.767734,4.192435 50.806369,4.189689 50.907363,4.220581 50.958859))'\""
   ]
  },
  {
   "cell_type": "code",
   "execution_count": 9,
   "metadata": {},
   "outputs": [],
   "source": [
    "jsonx = requests.get(f\"https://catalogue.dataspace.copernicus.eu/odata/v1/Products?$filter=Collection/Name eq '{data_collection}' and OData.CSC.Intersects(area=geography'SRID=4326;{aoi}) and ContentDate/Start gt {start_date}T00:00:00.000Z and ContentDate/Start lt {end_date}T00:00:00.000Z\").json()\n",
    "json = pd.DataFrame.from_dict(jsonx['value']).head(10)"
   ]
  },
  {
   "cell_type": "code",
   "execution_count": 11,
   "metadata": {},
   "outputs": [
    {
     "name": "stdout",
     "output_type": "stream",
     "text": [
      "    @odata.mediaContentType                                    Id  \\\n",
      "0  application/octet-stream  da5616a3-bc8f-5ea8-a6b4-ea42c2f81c48   \n",
      "4  application/octet-stream  01ad16b9-ada2-5a02-9f82-c162bd4673d6   \n",
      "2  application/octet-stream  15b32cb7-a88c-5f03-868e-a69ef5743034   \n",
      "1  application/octet-stream  1e470af2-8213-527c-8a34-8f59f16af06f   \n",
      "9  application/octet-stream  52c2bdfe-0fb9-5ddb-ac7d-4c9054668bad   \n",
      "7  application/octet-stream  3c8fcfdf-4131-5919-ab89-152a11084d5a   \n",
      "5  application/octet-stream  e406f705-9a3e-5fc4-b952-c468795be575   \n",
      "6  application/octet-stream  1caf133b-99ad-5024-9138-43718321d7fd   \n",
      "3  application/octet-stream  63be5b46-51ca-448a-998b-efe292034088   \n",
      "8  application/octet-stream  f0ad2be3-6f28-4b8d-8d7d-050ba7bc131c   \n",
      "\n",
      "                                                Name  \\\n",
      "0  S1A_20210605T173256__S1B_20210530T173205_20210...   \n",
      "4  S1B_20210608T055802__S1A_20210602T055832_20210...   \n",
      "2  S1A_IW_GRDH_1SDV_20210605T173257_20210605T1733...   \n",
      "1  S1A_IW_SLC__1SDV_20210605T173256_20210605T1733...   \n",
      "9  S1B_IW_RAW__0SDV_20210608T055759_20210608T0558...   \n",
      "7  S1B_IW_GRDH_1SDV_20210608T055803_20210608T0558...   \n",
      "5  S1B_IW_SLC__1SDV_20210608T055802_20210608T0558...   \n",
      "6  S1B_IW_OCN__2SDV_20210608T055803_20210608T0558...   \n",
      "3  S1A_IW_GRDH_1SDV_20210605T173257_20210605T1733...   \n",
      "8  S1B_IW_GRDH_1SDV_20210608T055803_20210608T0558...   \n",
      "\n",
      "                ContentType  ContentLength                OriginDate  \\\n",
      "0  application/octet-stream              0  2018-04-01T00:00:00.000Z   \n",
      "4  application/octet-stream              0  2018-04-01T00:00:00.000Z   \n",
      "2  application/octet-stream              0  2021-06-05T19:14:04.644Z   \n",
      "1  application/octet-stream              0  2021-06-05T19:30:00.320Z   \n",
      "9  application/octet-stream              0  2021-06-08T07:14:03.854Z   \n",
      "7  application/octet-stream              0  2021-06-08T08:24:15.880Z   \n",
      "5  application/octet-stream              0  2021-06-08T08:58:31.512Z   \n",
      "6  application/octet-stream              0  2021-06-08T09:17:10.381Z   \n",
      "3  application/octet-stream     1249005520  2023-05-31T00:49:55.301Z   \n",
      "8  application/octet-stream     1093648148  2023-05-31T00:50:06.925Z   \n",
      "\n",
      "            PublicationDate          ModificationDate  Online EvictionDate  \\\n",
      "0  2021-07-15T09:23:00.956Z  2021-07-15T09:23:00.956Z    True                \n",
      "4  2021-07-12T19:42:40.076Z  2021-07-12T19:42:40.076Z    True                \n",
      "2  2021-06-05T19:18:27.528Z  2021-06-05T19:18:27.528Z    True                \n",
      "1  2021-06-05T19:37:14.873Z  2021-06-05T19:37:14.873Z    True                \n",
      "9  2021-06-08T07:11:27.972Z  2021-06-08T07:11:27.972Z    True                \n",
      "7  2021-06-08T08:27:41.317Z  2021-06-08T08:27:41.317Z    True                \n",
      "5  2021-06-08T09:17:41.669Z  2021-06-08T09:17:41.669Z    True                \n",
      "6  2021-06-08T09:18:01.395Z  2021-06-08T09:18:01.395Z    True                \n",
      "3  2023-07-16T05:10:03.268Z  2023-07-18T16:24:28.581Z    True                \n",
      "8  2023-07-16T05:10:08.268Z  2023-07-18T16:24:26.911Z    True                \n",
      "\n",
      "                                              S3Path Checksum  \\\n",
      "0  /eodata/Sentinel-1/SAR/CARD-COH6/2021/06/05/S1...       []   \n",
      "4  /eodata/Sentinel-1/SAR/CARD-COH6/2021/06/08/S1...       []   \n",
      "2  /eodata/Sentinel-1/SAR/GRD/2021/06/05/S1A_IW_G...       []   \n",
      "1  /eodata/Sentinel-1/SAR/SLC/2021/06/05/S1A_IW_S...       []   \n",
      "9  /eodata/Sentinel-1/SAR/RAW/2021/06/08/S1B_IW_R...       []   \n",
      "7  /eodata/Sentinel-1/SAR/GRD/2021/06/08/S1B_IW_G...       []   \n",
      "5  /eodata/Sentinel-1/SAR/SLC/2021/06/08/S1B_IW_S...       []   \n",
      "6  /eodata/Sentinel-1/SAR/OCN/2021/06/08/S1B_IW_O...       []   \n",
      "3  /eodata/Sentinel-1/SAR/IW_GRDH_1S-COG/2021/06/...       []   \n",
      "8  /eodata/Sentinel-1/SAR/IW_GRDH_1S-COG/2021/06/...       []   \n",
      "\n",
      "                                         ContentDate  \\\n",
      "0  {'Start': '2021-06-05T17:32:56.954Z', 'End': '...   \n",
      "4  {'Start': '2021-06-08T05:58:02.141Z', 'End': '...   \n",
      "2  {'Start': '2021-06-05T17:32:57.769Z', 'End': '...   \n",
      "1  {'Start': '2021-06-05T17:32:56.954Z', 'End': '...   \n",
      "9  {'Start': '2021-06-08T05:57:59.437Z', 'End': '...   \n",
      "7  {'Start': '2021-06-08T05:58:03.136Z', 'End': '...   \n",
      "5  {'Start': '2021-06-08T05:58:02.141Z', 'End': '...   \n",
      "6  {'Start': '2021-06-08T05:58:03.136Z', 'End': '...   \n",
      "3  {'Start': '2021-06-05T17:32:57.769Z', 'End': '...   \n",
      "8  {'Start': '2021-06-08T05:58:03.136Z', 'End': '...   \n",
      "\n",
      "                                           Footprint  \\\n",
      "0  geography'SRID=4326;MULTIPOLYGON (((2.543598 4...   \n",
      "4  geography'SRID=4326;MULTIPOLYGON (((5.264189 5...   \n",
      "2  geography'SRID=4326;MULTIPOLYGON (((2.527531 4...   \n",
      "1  geography'SRID=4326;MULTIPOLYGON (((2.543598 4...   \n",
      "9  geography'SRID=4326;MULTIPOLYGON (((5.197 49.9...   \n",
      "7  geography'SRID=4326;MULTIPOLYGON (((5.279945 5...   \n",
      "5  geography'SRID=4326;MULTIPOLYGON (((5.264189 5...   \n",
      "6  geography'SRID=4326;MULTIPOLYGON (((5.279945 5...   \n",
      "3  geography'SRID=4326;MULTIPOLYGON (((2.527531 4...   \n",
      "8  geography'SRID=4326;MULTIPOLYGON (((5.279945 5...   \n",
      "\n",
      "                                        GeoFootprint  \n",
      "0  {'type': 'MultiPolygon', 'coordinates': [[[[2....  \n",
      "4  {'type': 'MultiPolygon', 'coordinates': [[[[5....  \n",
      "2  {'type': 'MultiPolygon', 'coordinates': [[[[2....  \n",
      "1  {'type': 'MultiPolygon', 'coordinates': [[[[2....  \n",
      "9  {'type': 'MultiPolygon', 'coordinates': [[[[5....  \n",
      "7  {'type': 'MultiPolygon', 'coordinates': [[[[5....  \n",
      "5  {'type': 'MultiPolygon', 'coordinates': [[[[5....  \n",
      "6  {'type': 'MultiPolygon', 'coordinates': [[[[5....  \n",
      "3  {'type': 'MultiPolygon', 'coordinates': [[[[2....  \n",
      "8  {'type': 'MultiPolygon', 'coordinates': [[[[5....  \n"
     ]
    }
   ],
   "source": [
    "import pandas as pd\n",
    "\n",
    "# Assuming your DataFrame is named 'json'\n",
    "# Replace 'json' with the actual name of your DataFrame\n",
    "\n",
    "# Sort DataFrame by 'OriginDate' column\n",
    "json_sorted = json.sort_values(by='OriginDate')\n",
    "\n",
    "# Display every line in the sorted DataFrame\n",
    "pd.set_option('display.max_rows', None)  # Set to display all rows\n",
    "print(json_sorted)\n",
    "\n",
    "# Reset display options if needed\n",
    "# pd.reset_option('display.max_rows')\n"
   ]
  },
  {
   "cell_type": "code",
   "execution_count": null,
   "metadata": {},
   "outputs": [],
   "source": [
    "session = requests.Session()\n",
    "session.headers.update({'Authorization': f'Bearer {keycloak_token}'})\n",
    "url = f\"https://catalogue.dataspace.copernicus.eu/odata/v1/Products(6f77dc3e-c918-5b42-911a-e8213eab8929)/$value\"\n",
    "response = session.get(url, allow_redirects=False)\n",
    "while response.status_code in (301, 302, 303, 307):\n",
    "    url = response.headers['Location']\n",
    "    response = session.get(url, allow_redirects=False)\n",
    "\n",
    "file = session.get(url, verify=False, allow_redirects=True)\n",
    "\n",
    "with open(f\"outputs/test.zip\", 'wb') as p:\n",
    "    p.write(file.content)"
   ]
  },
  {
   "cell_type": "markdown",
   "metadata": {},
   "source": [
    "### Downloading SLCs\n",
    "\n",
    " 1e470af2-8213-527c-8a34-8f59f16af06f er SLC. Það tók 114 mín að hala því niður"
   ]
  },
  {
   "cell_type": "code",
   "execution_count": 40,
   "metadata": {},
   "outputs": [],
   "source": [
    "### nýtt download dæmi\n",
    "\n",
    "import requests\n",
    "id_product = \"6f77dc3e-c918-5b42-911a-e8213eab8929\"\n",
    "access_token = keycloak_token\n",
    "\n",
    "url = f\"https://zipper.dataspace.copernicus.eu/odata/v1/Products(1e470af2-8213-527c-8a34-8f59f16af06f)/$value\"\n",
    "\n",
    "headers = {\"Authorization\": f\"Bearer {access_token}\"}\n",
    "\n",
    "session = requests.Session()\n",
    "session.headers.update(headers)\n",
    "response = session.get(url, headers=headers, stream=True)\n",
    "\n",
    "with open(\"outputs/product_newdownloadtestSLC.zip\", \"wb\") as file:\n",
    "    for chunk in response.iter_content(chunk_size=8192):\n",
    "        if chunk:\n",
    "            file.write(chunk)"
   ]
  },
  {
   "cell_type": "code",
   "execution_count": null,
   "metadata": {},
   "outputs": [],
   "source": [
    "json = requests.get(\"https://catalogue.dataspace.copernicus.eu/odata/v1/Products?$filter=contains(Name,'S1') and ContentDate/Start gt 2022-05-03T00:00:00.000Z and ContentDate/Start lt 2022-05-03T00:10:00.000Z&$orderby=ContentDate/Start&$top=100\").json()\n",
    "df = pd.DataFrame.from_dict(json['value'])\n",
    "\n",
    "# Print only specific columns\n",
    "columns_to_print = ['Id', 'Name','S3Path','GeoFootprint']  \n",
    "df[columns_to_print].head(3)"
   ]
  },
  {
   "cell_type": "code",
   "execution_count": null,
   "metadata": {},
   "outputs": [],
   "source": [
    "json = requests.get(\"https://catalogue.dataspace.copernicus.eu/odata/v1/Products?$filter=Collection/Name eq 'SENTINEL-1' and ContentDate/Start gt 2022-05-03T00:00:00.000Z and ContentDate/Start lt 2023-05-03T00:11:00.000Z\").json()\n",
    "df = pd.DataFrame.from_dict(json['value'])\n",
    "\n",
    "# Print only specific columns\n",
    "columns_to_print = ['Id', 'Name','S3Path','GeoFootprint']  \n",
    "df[columns_to_print].head(10)"
   ]
  }
 ],
 "metadata": {
  "kernelspec": {
   "display_name": "gee_env",
   "language": "python",
   "name": "python3"
  },
  "language_info": {
   "codemirror_mode": {
    "name": "ipython",
    "version": 3
   },
   "file_extension": ".py",
   "mimetype": "text/x-python",
   "name": "python",
   "nbconvert_exporter": "python",
   "pygments_lexer": "ipython3",
   "version": "3.9.18"
  }
 },
 "nbformat": 4,
 "nbformat_minor": 2
}
