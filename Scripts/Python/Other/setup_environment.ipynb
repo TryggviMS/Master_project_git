{
 "cells": [
  {
   "cell_type": "markdown",
   "metadata": {},
   "source": [
    "#### Setting up a Conda environment from YAML\n",
    "\n",
    "Workspace directory is changed dependig on work or home computer\n",
    "YAML file has to be updated according to relevent usage and packages\n",
    "A command will run it and create a kernel ready to be used"
   ]
  },
  {
   "cell_type": "code",
   "execution_count": 1,
   "metadata": {},
   "outputs": [],
   "source": [
    "import subprocess\n",
    "import os"
   ]
  },
  {
   "cell_type": "code",
   "execution_count": 3,
   "metadata": {},
   "outputs": [],
   "source": [
    "# workspace_directory = r'C:\\Users\\trygg\\Documents\\Master_project\\Scripts'\n",
    "workspace_directory = r'C:\\Users\\tryggvisi\\Documents\\my-awesome-masters-project\\Scripts' #work\n",
    "os.chdir(workspace_directory)\n",
    "yaml_file_path = 'YAML/everything_else.yml'"
   ]
  },
  {
   "cell_type": "code",
   "execution_count": 4,
   "metadata": {},
   "outputs": [
    {
     "name": "stdout",
     "output_type": "stream",
     "text": [
      "Finished\n"
     ]
    }
   ],
   "source": [
    "# Activate environment from YAML file\n",
    "activate_cmd = f\"conda env create -f {yaml_file_path}\"\n",
    "subprocess.run(activate_cmd, shell=True)\n",
    "print('Finished')"
   ]
  }
 ],
 "metadata": {
  "kernelspec": {
   "display_name": "base",
   "language": "python",
   "name": "python3"
  },
  "language_info": {
   "codemirror_mode": {
    "name": "ipython",
    "version": 3
   },
   "file_extension": ".py",
   "mimetype": "text/x-python",
   "name": "python",
   "nbconvert_exporter": "python",
   "pygments_lexer": "ipython3",
   "version": "3.9.18"
  }
 },
 "nbformat": 4,
 "nbformat_minor": 2
}
