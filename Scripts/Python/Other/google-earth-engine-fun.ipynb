{
 "cells": [
  {
   "cell_type": "markdown",
   "metadata": {},
   "source": [
    "#### This notebook is intended for basic GEE stuff. It was the first one I created and it was based at first on the S1 change detection guide\n",
    "\n",
    "Kernel: home_town"
   ]
  },
  {
   "cell_type": "code",
   "execution_count": null,
   "metadata": {},
   "outputs": [],
   "source": [
    "import ee\n",
    "import IPython.display as disp\n",
    "import folium\n",
    "from IPython.display import display, Image\n",
    "from datetime import datetime\n",
    "\n",
    "import matplotlib.pyplot as plt\n",
    "import numpy as np\n",
    "\n",
    "from scipy.stats import norm, gamma, f, chi2\n"
   ]
  },
  {
   "cell_type": "code",
   "execution_count": null,
   "metadata": {},
   "outputs": [],
   "source": [
    "# Trigger the authentication flow.\n",
    "ee.Authenticate()\n",
    "# Initialize the library.\n",
    "ee.Initialize()"
   ]
  },
  {
   "cell_type": "markdown",
   "metadata": {},
   "source": [
    "#### single image processing"
   ]
  },
  {
   "cell_type": "code",
   "execution_count": null,
   "metadata": {},
   "outputs": [],
   "source": [
    "#Vindefjallen\n",
    "geoJSON = {\n",
    "  \"type\": \"FeatureCollection\",\n",
    "  \"features\": [\n",
    "    {\n",
    "      \"type\": \"Feature\",\n",
    "      \"properties\": {},\n",
    "      \"geometry\": {\n",
    "        \"coordinates\": [\n",
    "          [\n",
    "            [\n",
    "              16.089696198355398,\n",
    "              66.09725541788251\n",
    "            ],\n",
    "            [\n",
    "              16.026316207001685,\n",
    "              66.09725541788251\n",
    "            ],\n",
    "            [\n",
    "              16.026316207001685,\n",
    "              66.06875216004511\n",
    "            ],\n",
    "            [\n",
    "              16.089696198355398,\n",
    "              66.06875216004511\n",
    "            ],\n",
    "            [\n",
    "              16.089696198355398,\n",
    "              66.09725541788251\n",
    "            ]\n",
    "          ]\n",
    "        ],\n",
    "        \"type\": \"Polygon\"\n",
    "      }\n",
    "    }\n",
    "  ]\n",
    "}\n",
    "\n",
    "coords = geoJSON['features'][0]['geometry']['coordinates']\n",
    "aoi = ee.Geometry.Polygon(coords)"
   ]
  },
  {
   "cell_type": "code",
   "execution_count": null,
   "metadata": {},
   "outputs": [],
   "source": [
    "# ffa_db = ee.Image(ee.ImageCollection('COPERNICUS/S1_GRD') \n",
    "#                        .filterBounds(aoi) \n",
    "#                        .filterDate(ee.Date('2022-01-01'),ee.Date('2022-02-28')) \n",
    "#                        .first() \n",
    "#                        .clip(aoi))\n",
    "# print(ffa_db.bandNames().getInfo())\n",
    "ffa_fl = ee.Image(ee.ImageCollection('COPERNICUS/S1_GRD_FLOAT') \n",
    "                       .filterBounds(aoi) \n",
    "                       .filterDate(ee.Date('2020-08-01'), ee.Date('2020-08-31')) \n",
    "                       .first() \n",
    "                       .clip(aoi))\n",
    "print(ffa_fl.bandNames().getInfo())"
   ]
  },
  {
   "cell_type": "code",
   "execution_count": null,
   "metadata": {},
   "outputs": [],
   "source": [
    "# #get orbit number   \n",
    "# orbitproperties = ffa_db.get('orbitProperties_pass').getInfo()\n",
    "# relativeOrbitNumber = ffa_db.get('relativeOrbitNumber_start').getInfo()\n",
    "# #print both\n",
    "# print(orbitproperties)\n",
    "# print(relativeOrbitNumber)\n",
    "\n",
    "orbitproperties = ffa_fl.get('orbitProperties_pass').getInfo()\n",
    "relativeOrbitNumber = ffa_fl.get('relativeOrbitNumber_start').getInfo()\n",
    "#print both\n",
    "print(orbitproperties)\n",
    "print(relativeOrbitNumber)"
   ]
  },
  {
   "cell_type": "code",
   "execution_count": null,
   "metadata": {},
   "outputs": [],
   "source": [
    "# url = ffa_db.select('VV').getThumbURL({'min': -20, 'max': 0})\n",
    "# disp.Image(url=url, width=800)\n",
    "\n",
    "url = ffa_fl.select('VH').getThumbURL({'min': 0, 'max': .1})\n",
    "disp.Image(url=url, width=800)"
   ]
  },
  {
   "cell_type": "code",
   "execution_count": null,
   "metadata": {},
   "outputs": [],
   "source": [
    "# Import the Folium library.\n",
    "import folium\n",
    "\n",
    "# Define a method for displaying Earth Engine image tiles to folium map.\n",
    "def add_ee_layer(self, ee_image_object, vis_params, name):\n",
    "  map_id_dict = ee.Image(ee_image_object).getMapId(vis_params)\n",
    "  folium.raster_layers.TileLayer(\n",
    "    tiles = map_id_dict['tile_fetcher'].url_format,\n",
    "    attr = 'Map Data &copy; <a href=\"https://earthengine.google.com/\">Google Earth Engine</a>',\n",
    "    name = name,\n",
    "    overlay = True,\n",
    "    control = True\n",
    "  ).add_to(self)\n",
    "\n",
    "# Add EE drawing method to folium.\n",
    "folium.Map.add_ee_layer = add_ee_layer\n",
    "location = aoi.centroid().coordinates().getInfo()[::-1]\n",
    "\n",
    "# Make an RGB color composite image (VV,VH,VV/VH).\n",
    "rgb = ee.Image.rgb(ffa_fl.select('VV'),\n",
    "                   ffa_fl.select('VH'),\n",
    "                   ffa_fl.select('VV').divide(ffa_fl.select('VH')))\n",
    "\n",
    "# Create the map object.\n",
    "m = folium.Map(location=location, zoom_start=12)\n",
    "\n",
    "# Add the S1 rgb composite to the map object.\n",
    "m.add_ee_layer(rgb, {'min': [0, 0,0], 'max': [.2, .2, .2]}, 'FFA')\n",
    "\n",
    "# Add a layer control panel to the map.\n",
    "m.add_child(folium.LayerControl())\n",
    "\n",
    "# Display the map.\n",
    "display(m)"
   ]
  },
  {
   "cell_type": "markdown",
   "metadata": {},
   "source": [
    "#### Multi temporal"
   ]
  },
  {
   "cell_type": "code",
   "execution_count": null,
   "metadata": {},
   "outputs": [],
   "source": [
    "#Vindefjallen area, with 2 measurements. shp is in arcigs\n",
    "geoJSON = {\n",
    "  \"type\": \"FeatureCollection\",\n",
    "  \"features\": [\n",
    "    {\n",
    "      \"type\": \"Feature\",\n",
    "      \"id\": 1,\n",
    "      \"geometry\": {\n",
    "        \"type\": \"Polygon\",\n",
    "        \"coordinates\": [\n",
    "          [\n",
    "            [\n",
    "              16.042947830545454,\n",
    "              65.90158276444853\n",
    "            ],\n",
    "            [\n",
    "              16.025595339138334,\n",
    "              65.9014970392025\n",
    "            ],\n",
    "            [\n",
    "              16.008242949326043,\n",
    "              65.90140935272971\n",
    "            ],\n",
    "            [\n",
    "              16.00871237738704,\n",
    "              65.88605107102144\n",
    "            ],\n",
    "            [\n",
    "              16.026054388085974,\n",
    "              65.88613871942898\n",
    "            ],\n",
    "            [\n",
    "              16.04339650016763,\n",
    "              65.88622440801343\n",
    "            ],\n",
    "            [\n",
    "              16.042947830545454,\n",
    "              65.90158276444853\n",
    "            ]\n",
    "          ]\n",
    "        ]\n",
    "      },\n",
    "      \"properties\": {\n",
    "        \"OBJECTID\": 1,\n",
    "        \"Shape_Length\": 6586.801446635423,\n",
    "        \"Shape_Area\": 2707353.895849061\n",
    "      }\n",
    "    }\n",
    "  ]\n",
    "}\n",
    "coords_mini = geoJSON['features'][0]['geometry']['coordinates']\n",
    "aoi_mini = ee.Geometry.Polygon(coords_mini)"
   ]
  },
  {
   "cell_type": "code",
   "execution_count": null,
   "metadata": {},
   "outputs": [],
   "source": [
    "#náð í orbit information fyrir næsta skref þar sem náð er í myndir\t\n",
    "ffa_fl = ee.Image(ee.ImageCollection('COPERNICUS/S1_GRD_FLOAT') \n",
    "                       .filterBounds(aoi_mini) \n",
    "                       .filterDate(ee.Date('2020-08-01'), ee.Date('2020-08-31')) \n",
    "                       .first() \n",
    "                       .clip(aoi_mini))\n",
    "orbitproperties = ffa_fl.get('orbitProperties_pass').getInfo()\n",
    "relativeOrbitNumber = ffa_fl.get('relativeOrbitNumber_start').getInfo()\n",
    "#print both\n",
    "print(orbitproperties)\n",
    "print(relativeOrbitNumber)"
   ]
  },
  {
   "cell_type": "code",
   "execution_count": null,
   "metadata": {},
   "outputs": [],
   "source": [
    "#multi temporal\n",
    "#Náð í myndir fyrir tímabil og orbit frá GEE. Hægt að velja dB eða float\n",
    "def apply_for_images(type):\n",
    "\n",
    "    date_1 = ee.Date('2022-01-01')\n",
    "    date_2 = ee.Date('2023-01-01')  \n",
    "\n",
    "    if type == 'dB':\n",
    "        typex = 'COPERNICUS/S1_GRD' \n",
    "    elif type == 'float':\n",
    "        typex = 'COPERNICUS/S1_GRD_FLOAT' \n",
    "\n",
    "    im_coll = (ee.ImageCollection(typex)\n",
    "        .filterBounds(aoi_mini)\n",
    "        .filterDate(date_1,date_2)\n",
    "        .filter(ee.Filter.eq('orbitProperties_pass', orbitproperties))\n",
    "        .filter(ee.Filter.eq('relativeOrbitNumber_start', relativeOrbitNumber))\n",
    "        .map(lambda img: img.set('date', ee.Date(img.date()).format('YYYYMMdd')))\n",
    "        .sort('date'))\n",
    "        \n",
    "    timestamplist = (im_coll.aggregate_array('date')\n",
    "                    .map(lambda d: ee.String('T').cat(ee.String(d)))\n",
    "                    .getInfo())\n",
    "    \n",
    "    return im_coll, timestamplist"
   ]
  },
  {
   "cell_type": "code",
   "execution_count": null,
   "metadata": {},
   "outputs": [],
   "source": [
    "#get mean value for im1\n",
    "def gee_stats(gee_area, pol):\n",
    "    \"\"\"Get stat values for image\"\"\"\n",
    "    mean = gee_area.reduceRegion(ee.Reducer.mean(),aoi_mini,10).get(pol).getInfo()\n",
    "    #and get min and max values\n",
    "    min = gee_area.reduceRegion(ee.Reducer.min(),aoi_mini,10).get(pol).getInfo()\n",
    "    max = gee_area.reduceRegion(ee.Reducer.max(),aoi_mini,10).get(pol).getInfo()\n",
    "    #standard deviation\n",
    "    std = gee_area.reduceRegion(ee.Reducer.stdDev(),aoi_mini,10).get(pol).getInfo()\n",
    "    #print as f string with new line\n",
    "    print()\n",
    "    print(f'mean: {mean}\\n min: {min}\\nmax: {max}\\nstd: {std}')\n",
    "    return (mean, std)"
   ]
  },
  {
   "cell_type": "code",
   "execution_count": null,
   "metadata": {},
   "outputs": [],
   "source": [
    "#Náð í S1 multi temporal myndir fyrir tímabil og orbit frá GEE. Hægt að velja dB eða float\n",
    "def clip_img(img):\n",
    "    \"\"\"Clips a list of images.\"\"\"\n",
    "    return ee.Image(img).clip(aoi_mini)\n",
    "\n",
    "#float\n",
    "imgCollecting_float, timestamp_list = apply_for_images('float') #náð í myndir fyrir tímabil og orbit frá GEE\n",
    "image_list_float = imgCollecting_float.toList(imgCollecting_float.size()) #breyta í GEE lista\n",
    "image_list_float = ee.List(image_list_float.map(clip_img)) #clippa myndir eftir AOI\n",
    "\n",
    "im0_fl = ee.Image(image_list_float.get(0)).select('VV')\n",
    "mean, std = gee_stats(im0_fl, 'VV')\n",
    "url1 = im0_fl.getThumbURL({'min': 0, 'max': mean + (std*2)})\n",
    "display(Image(url=url1, width=600))\n",
    "\n",
    "# #DB\n",
    "# image_list_dB = apply_for_images('dB')[0]\n",
    "# image_list_dB = image_list_dB.toList(image_list_dB.size())\n",
    "# image_list_dB = ee.List(image_list_dB.map(clip_img))\n",
    "\n",
    "# im0_db = ee.Image(image_list_dB.get(0)).select('VV')\n",
    "# mean, std = gee_stats(im0_db, 'VV')\n",
    "# url2 = im0_db.getThumbURL({'min': mean - (std*2), 'max': mean + (std*2)})\n",
    "# display(Image(url=url2, width=600))"
   ]
  },
  {
   "cell_type": "code",
   "execution_count": 26,
   "metadata": {},
   "outputs": [
    {
     "name": "stdout",
     "output_type": "stream",
     "text": [
      "T20220101\n"
     ]
    },
    {
     "data": {
      "text/html": [
       "<img src=\"https://earthengine.googleapis.com/v1/projects/earthengine-legacy/thumbnails/d8d832f1cf29bbe7d3d012db437c2af5-386a7400c7289be4b7ff880cf83fc7b1:getPixels\" width=\"600\"/>"
      ],
      "text/plain": [
       "<IPython.core.display.Image object>"
      ]
     },
     "metadata": {},
     "output_type": "display_data"
    },
    {
     "name": "stdout",
     "output_type": "stream",
     "text": [
      "T20220113\n"
     ]
    },
    {
     "data": {
      "text/html": [
       "<img src=\"https://earthengine.googleapis.com/v1/projects/earthengine-legacy/thumbnails/0ddb008958ecfef88be55a845aea431b-0f4422ff8bed13409027c4533696bad3:getPixels\" width=\"600\"/>"
      ],
      "text/plain": [
       "<IPython.core.display.Image object>"
      ]
     },
     "metadata": {},
     "output_type": "display_data"
    },
    {
     "name": "stdout",
     "output_type": "stream",
     "text": [
      "T20220125\n"
     ]
    },
    {
     "data": {
      "text/html": [
       "<img src=\"https://earthengine.googleapis.com/v1/projects/earthengine-legacy/thumbnails/6c6fab36bb49774df7fdfb820728ea18-f66706abb1b14f4cd36b60ed3175a4cb:getPixels\" width=\"600\"/>"
      ],
      "text/plain": [
       "<IPython.core.display.Image object>"
      ]
     },
     "metadata": {},
     "output_type": "display_data"
    },
    {
     "name": "stdout",
     "output_type": "stream",
     "text": [
      "T20220206\n"
     ]
    },
    {
     "data": {
      "text/html": [
       "<img src=\"https://earthengine.googleapis.com/v1/projects/earthengine-legacy/thumbnails/7df7ecef3ccd353ce9bca0305308f8dc-6d481632be45a080e5f8c6eae8998705:getPixels\" width=\"600\"/>"
      ],
      "text/plain": [
       "<IPython.core.display.Image object>"
      ]
     },
     "metadata": {},
     "output_type": "display_data"
    },
    {
     "name": "stdout",
     "output_type": "stream",
     "text": [
      "T20220218\n"
     ]
    },
    {
     "data": {
      "text/html": [
       "<img src=\"https://earthengine.googleapis.com/v1/projects/earthengine-legacy/thumbnails/be81e8fe0df994c78cb1accebd3d7717-1983b00239daff8416b42db0f1b29528:getPixels\" width=\"600\"/>"
      ],
      "text/plain": [
       "<IPython.core.display.Image object>"
      ]
     },
     "metadata": {},
     "output_type": "display_data"
    },
    {
     "name": "stdout",
     "output_type": "stream",
     "text": [
      "T20220314\n"
     ]
    },
    {
     "data": {
      "text/html": [
       "<img src=\"https://earthengine.googleapis.com/v1/projects/earthengine-legacy/thumbnails/40f2fcd9811cdabc77681488de558a76-93c9a9196a8e6c7c23a378a92a675b5c:getPixels\" width=\"600\"/>"
      ],
      "text/plain": [
       "<IPython.core.display.Image object>"
      ]
     },
     "metadata": {},
     "output_type": "display_data"
    },
    {
     "name": "stdout",
     "output_type": "stream",
     "text": [
      "T20220326\n"
     ]
    },
    {
     "data": {
      "text/html": [
       "<img src=\"https://earthengine.googleapis.com/v1/projects/earthengine-legacy/thumbnails/5cbe578b56e95bddd2afe30532c8b237-5019f99e1821738bdb2e95a18a730700:getPixels\" width=\"600\"/>"
      ],
      "text/plain": [
       "<IPython.core.display.Image object>"
      ]
     },
     "metadata": {},
     "output_type": "display_data"
    },
    {
     "name": "stdout",
     "output_type": "stream",
     "text": [
      "T20220407\n"
     ]
    },
    {
     "data": {
      "text/html": [
       "<img src=\"https://earthengine.googleapis.com/v1/projects/earthengine-legacy/thumbnails/fdfdbdc2c2d1f742dbc92eff44061242-68406a1420e9636d2a9e5a3639b70180:getPixels\" width=\"600\"/>"
      ],
      "text/plain": [
       "<IPython.core.display.Image object>"
      ]
     },
     "metadata": {},
     "output_type": "display_data"
    },
    {
     "name": "stdout",
     "output_type": "stream",
     "text": [
      "T20220419\n"
     ]
    },
    {
     "data": {
      "text/html": [
       "<img src=\"https://earthengine.googleapis.com/v1/projects/earthengine-legacy/thumbnails/8249199e312d474d3bfdb7652163ac0e-a1d65a31b385b93a559bfe7cbd3968f6:getPixels\" width=\"600\"/>"
      ],
      "text/plain": [
       "<IPython.core.display.Image object>"
      ]
     },
     "metadata": {},
     "output_type": "display_data"
    },
    {
     "name": "stdout",
     "output_type": "stream",
     "text": [
      "T20220501\n"
     ]
    },
    {
     "data": {
      "text/html": [
       "<img src=\"https://earthengine.googleapis.com/v1/projects/earthengine-legacy/thumbnails/f778563ac47d95c758ef07b0c831e206-3b3e7d3efbcb4d89ac999ff175d968f3:getPixels\" width=\"600\"/>"
      ],
      "text/plain": [
       "<IPython.core.display.Image object>"
      ]
     },
     "metadata": {},
     "output_type": "display_data"
    },
    {
     "name": "stdout",
     "output_type": "stream",
     "text": [
      "T20220513\n"
     ]
    },
    {
     "data": {
      "text/html": [
       "<img src=\"https://earthengine.googleapis.com/v1/projects/earthengine-legacy/thumbnails/608780adbd0d8f0ea15fa9fee3e4f4a0-8c43d471c45e322dad717a0ba6d6c1c6:getPixels\" width=\"600\"/>"
      ],
      "text/plain": [
       "<IPython.core.display.Image object>"
      ]
     },
     "metadata": {},
     "output_type": "display_data"
    },
    {
     "name": "stdout",
     "output_type": "stream",
     "text": [
      "T20220525\n"
     ]
    },
    {
     "data": {
      "text/html": [
       "<img src=\"https://earthengine.googleapis.com/v1/projects/earthengine-legacy/thumbnails/3b950091db172205f50d9fe3a01132f1-c0e4574bf40317018503bb51caea1773:getPixels\" width=\"600\"/>"
      ],
      "text/plain": [
       "<IPython.core.display.Image object>"
      ]
     },
     "metadata": {},
     "output_type": "display_data"
    },
    {
     "name": "stdout",
     "output_type": "stream",
     "text": [
      "T20220606\n"
     ]
    },
    {
     "data": {
      "text/html": [
       "<img src=\"https://earthengine.googleapis.com/v1/projects/earthengine-legacy/thumbnails/ba6b40f325392312dc321fbbe45a66fe-398b84e4e4c9e13d7d1f802d26456937:getPixels\" width=\"600\"/>"
      ],
      "text/plain": [
       "<IPython.core.display.Image object>"
      ]
     },
     "metadata": {},
     "output_type": "display_data"
    },
    {
     "name": "stdout",
     "output_type": "stream",
     "text": [
      "T20220618\n"
     ]
    },
    {
     "data": {
      "text/html": [
       "<img src=\"https://earthengine.googleapis.com/v1/projects/earthengine-legacy/thumbnails/d7d1305469139b9d715a80568c40253b-3b48583848de1368177e4d960d29e28e:getPixels\" width=\"600\"/>"
      ],
      "text/plain": [
       "<IPython.core.display.Image object>"
      ]
     },
     "metadata": {},
     "output_type": "display_data"
    },
    {
     "name": "stdout",
     "output_type": "stream",
     "text": [
      "T20220630\n"
     ]
    },
    {
     "data": {
      "text/html": [
       "<img src=\"https://earthengine.googleapis.com/v1/projects/earthengine-legacy/thumbnails/45c1bd6cf62926a62b01fb9cb8db178a-7ead3af9aa69df932bf759594600d85f:getPixels\" width=\"600\"/>"
      ],
      "text/plain": [
       "<IPython.core.display.Image object>"
      ]
     },
     "metadata": {},
     "output_type": "display_data"
    },
    {
     "name": "stdout",
     "output_type": "stream",
     "text": [
      "T20220712\n"
     ]
    },
    {
     "data": {
      "text/html": [
       "<img src=\"https://earthengine.googleapis.com/v1/projects/earthengine-legacy/thumbnails/6d6cd672675186ebfb5c4056584eedcb-6dcfd17abc682d68e96930b5bfecbd72:getPixels\" width=\"600\"/>"
      ],
      "text/plain": [
       "<IPython.core.display.Image object>"
      ]
     },
     "metadata": {},
     "output_type": "display_data"
    },
    {
     "name": "stdout",
     "output_type": "stream",
     "text": [
      "T20220724\n"
     ]
    },
    {
     "data": {
      "text/html": [
       "<img src=\"https://earthengine.googleapis.com/v1/projects/earthengine-legacy/thumbnails/7b437bc860caedef4a7951c7aa3a137e-3cbe41120db1cdad6eabef2021a230ff:getPixels\" width=\"600\"/>"
      ],
      "text/plain": [
       "<IPython.core.display.Image object>"
      ]
     },
     "metadata": {},
     "output_type": "display_data"
    },
    {
     "name": "stdout",
     "output_type": "stream",
     "text": [
      "T20220805\n"
     ]
    },
    {
     "data": {
      "text/html": [
       "<img src=\"https://earthengine.googleapis.com/v1/projects/earthengine-legacy/thumbnails/3c10ad5596f7b57c9b6e14d600d90167-bb1b450e970581f35dfead3481e3a887:getPixels\" width=\"600\"/>"
      ],
      "text/plain": [
       "<IPython.core.display.Image object>"
      ]
     },
     "metadata": {},
     "output_type": "display_data"
    },
    {
     "name": "stdout",
     "output_type": "stream",
     "text": [
      "T20220817\n"
     ]
    },
    {
     "data": {
      "text/html": [
       "<img src=\"https://earthengine.googleapis.com/v1/projects/earthengine-legacy/thumbnails/44d68733fb72071ca08a31abeb7ea569-b4129025a7d666164b54de9f3551f3b0:getPixels\" width=\"600\"/>"
      ],
      "text/plain": [
       "<IPython.core.display.Image object>"
      ]
     },
     "metadata": {},
     "output_type": "display_data"
    },
    {
     "name": "stdout",
     "output_type": "stream",
     "text": [
      "T20220829\n"
     ]
    },
    {
     "data": {
      "text/html": [
       "<img src=\"https://earthengine.googleapis.com/v1/projects/earthengine-legacy/thumbnails/17e4d519e6266789d8908c50f3a3823b-0bfb3fb90e72ffcc1712a9a26148d121:getPixels\" width=\"600\"/>"
      ],
      "text/plain": [
       "<IPython.core.display.Image object>"
      ]
     },
     "metadata": {},
     "output_type": "display_data"
    },
    {
     "name": "stdout",
     "output_type": "stream",
     "text": [
      "T20220910\n"
     ]
    },
    {
     "data": {
      "text/html": [
       "<img src=\"https://earthengine.googleapis.com/v1/projects/earthengine-legacy/thumbnails/d4b2143a1bf610abb5230fd50a5bf3c1-f6500ddc0080bed64eccd181e7ac7c02:getPixels\" width=\"600\"/>"
      ],
      "text/plain": [
       "<IPython.core.display.Image object>"
      ]
     },
     "metadata": {},
     "output_type": "display_data"
    },
    {
     "name": "stdout",
     "output_type": "stream",
     "text": [
      "T20220922\n"
     ]
    },
    {
     "data": {
      "text/html": [
       "<img src=\"https://earthengine.googleapis.com/v1/projects/earthengine-legacy/thumbnails/0585d372aabdefe5e6dcc2effeed83e9-443d970615ed88688663a7ee01586809:getPixels\" width=\"600\"/>"
      ],
      "text/plain": [
       "<IPython.core.display.Image object>"
      ]
     },
     "metadata": {},
     "output_type": "display_data"
    },
    {
     "name": "stdout",
     "output_type": "stream",
     "text": [
      "T20221004\n"
     ]
    },
    {
     "data": {
      "text/html": [
       "<img src=\"https://earthengine.googleapis.com/v1/projects/earthengine-legacy/thumbnails/b77449ae025db7f4b3e5f195a37301de-96c568198ab6ba4dcd6dd1bb50f3fa41:getPixels\" width=\"600\"/>"
      ],
      "text/plain": [
       "<IPython.core.display.Image object>"
      ]
     },
     "metadata": {},
     "output_type": "display_data"
    },
    {
     "name": "stdout",
     "output_type": "stream",
     "text": [
      "T20221016\n"
     ]
    },
    {
     "data": {
      "text/html": [
       "<img src=\"https://earthengine.googleapis.com/v1/projects/earthengine-legacy/thumbnails/5c530992f61ad5690068a99b662a9d7e-71ced46515eb69865f636c2b20aefb8d:getPixels\" width=\"600\"/>"
      ],
      "text/plain": [
       "<IPython.core.display.Image object>"
      ]
     },
     "metadata": {},
     "output_type": "display_data"
    },
    {
     "name": "stdout",
     "output_type": "stream",
     "text": [
      "T20221028\n"
     ]
    },
    {
     "data": {
      "text/html": [
       "<img src=\"https://earthengine.googleapis.com/v1/projects/earthengine-legacy/thumbnails/566f9e732a833bd6759a1fa02e43f5f7-10afcf8899e1972d852ed5e4e5a325a4:getPixels\" width=\"600\"/>"
      ],
      "text/plain": [
       "<IPython.core.display.Image object>"
      ]
     },
     "metadata": {},
     "output_type": "display_data"
    },
    {
     "name": "stdout",
     "output_type": "stream",
     "text": [
      "T20221109\n"
     ]
    },
    {
     "data": {
      "text/html": [
       "<img src=\"https://earthengine.googleapis.com/v1/projects/earthengine-legacy/thumbnails/fbf111d00c30e9da0702fcdc1b44b86c-1e95bd1e0c8a315a90396b9c6984098d:getPixels\" width=\"600\"/>"
      ],
      "text/plain": [
       "<IPython.core.display.Image object>"
      ]
     },
     "metadata": {},
     "output_type": "display_data"
    },
    {
     "name": "stdout",
     "output_type": "stream",
     "text": [
      "T20221121\n"
     ]
    },
    {
     "data": {
      "text/html": [
       "<img src=\"https://earthengine.googleapis.com/v1/projects/earthengine-legacy/thumbnails/05d346b4e42894a0af5660ce1c693baa-e40c956f4868722aeb1c489d358a1937:getPixels\" width=\"600\"/>"
      ],
      "text/plain": [
       "<IPython.core.display.Image object>"
      ]
     },
     "metadata": {},
     "output_type": "display_data"
    },
    {
     "name": "stdout",
     "output_type": "stream",
     "text": [
      "T20221203\n"
     ]
    },
    {
     "data": {
      "text/html": [
       "<img src=\"https://earthengine.googleapis.com/v1/projects/earthengine-legacy/thumbnails/1d12e543fbfb238faa0e795e5ddb6d09-082f687fc361565b0122543690d02904:getPixels\" width=\"600\"/>"
      ],
      "text/plain": [
       "<IPython.core.display.Image object>"
      ]
     },
     "metadata": {},
     "output_type": "display_data"
    },
    {
     "name": "stdout",
     "output_type": "stream",
     "text": [
      "T20221215\n"
     ]
    },
    {
     "data": {
      "text/html": [
       "<img src=\"https://earthengine.googleapis.com/v1/projects/earthengine-legacy/thumbnails/6577da0081c4e314356d231e3feb5e57-7a764ce4202e11250616dfce4a29f1d9:getPixels\" width=\"600\"/>"
      ],
      "text/plain": [
       "<IPython.core.display.Image object>"
      ]
     },
     "metadata": {},
     "output_type": "display_data"
    },
    {
     "name": "stdout",
     "output_type": "stream",
     "text": [
      "T20221227\n"
     ]
    },
    {
     "data": {
      "text/html": [
       "<img src=\"https://earthengine.googleapis.com/v1/projects/earthengine-legacy/thumbnails/850f50192d880f8fbe711bcf0b8b1b2f-c38b7dbefef56cb5a3972771a0c9cf9b:getPixels\" width=\"600\"/>"
      ],
      "text/plain": [
       "<IPython.core.display.Image object>"
      ]
     },
     "metadata": {},
     "output_type": "display_data"
    }
   ],
   "source": [
    "#Diplay entire collection\n",
    "collection_size = image_list_float.size().getInfo()\n",
    "\n",
    "for i in range(0, collection_size):\n",
    "    im1 = ee.Image(image_list_float.get(i)).select('VV')\n",
    "    url = im1.getThumbURL({'min': 0, 'max': mean + (std*2)})\n",
    "    print(timestamp_list[i])\n",
    "    display(Image(url=url, width=600))"
   ]
  },
  {
   "cell_type": "markdown",
   "metadata": {},
   "source": [
    "###"
   ]
  },
  {
   "cell_type": "code",
   "execution_count": null,
   "metadata": {},
   "outputs": [],
   "source": []
  },
  {
   "cell_type": "code",
   "execution_count": null,
   "metadata": {},
   "outputs": [],
   "source": [
    "#for arcgis\n",
    "def convert_to_datetime(date_string):\n",
    "    # Extract year, month, and day from the date string\n",
    "    year = int(date_string[1:5])\n",
    "    month = int(date_string[5:7])\n",
    "    day = int(date_string[7:9])\n",
    "\n",
    "    # Create a datetime object\n",
    "    return datetime(year, month, day)\n",
    "\n",
    "# Convert each date string to a datetime object\n",
    "date_objects = [convert_to_datetime(date_str) for date_str in timestamp_list]\n",
    "for i in date_objects:\n",
    "    print(i.strftime('%d/%m/%Y'))"
   ]
  },
  {
   "cell_type": "code",
   "execution_count": null,
   "metadata": {},
   "outputs": [],
   "source": [
    "\n",
    "def convert_to_datetime(date_string):\n",
    "    # Extract year, month, and day from the date string\n",
    "    year = int(date_string[1:5])\n",
    "    month = int(date_string[5:7])\n",
    "    day = int(date_string[7:9])\n",
    "\n",
    "    # Create a datetime object\n",
    "    return datetime(year, month, day)\n",
    "\n",
    "# Convert each date string to a datetime object\n",
    "date_objects = [convert_to_datetime(date_str) for date_str in timestamp_list]\n",
    "timestamp_list_modified = []\n",
    "for date_obj in date_objects:\n",
    "    # print(date_obj.strftime('%Y-%m-%d'))\n",
    "    print(date_obj.strftime('%d/%m/%Y'))\n",
    "    timestamp_list_modified.append(date_obj.strftime('%Y-%m-%d'))\n",
    "\n",
    "print(timestamp_list_modified)\n",
    "\n",
    "print(timestamp_list)\n"
   ]
  },
  {
   "cell_type": "code",
   "execution_count": null,
   "metadata": {},
   "outputs": [],
   "source": [
    "#testing\n",
    "# Define a function for exporting an image\n",
    "def export_image_to_drive(image, description, folder, scale, region):\n",
    "    task = ee.batch.Export.image.toDrive(\n",
    "        image=image,\n",
    "        description=description,\n",
    "        folder=folder,\n",
    "        scale=scale,\n",
    "        region=region,\n",
    "        fileNamePrefix=description,\n",
    "        crs='EPSG:4326',\n",
    "        fileFormat='GeoTIFF'\n",
    "    )\n",
    "    task.start()\n",
    "collection_size = imgCollecting_float.size().getInfo()\n",
    "\n",
    "# Iterate over the collection using iterate\n",
    "for i in range(collection_size):\n",
    "    # Get the ith image in the collection\n",
    "    image = ee.Image(imgCollecting_float.toList(collection_size).get(i))\n",
    "    image_sel = image.select('VV')\n",
    "    export_image_to_drive(\n",
    "        image=image_sel,\n",
    "        description=f'testing2_{i}',\n",
    "        folder='my_exports',\n",
    "        scale=30,\n",
    "        region=aoi_mini\n",
    "    )\n",
    "    # Do something with the image (e.g., print image ID)\n",
    "    image_id = image.id().getInfo()\n",
    "    print(f\"Image {i + 1} ID: {image_id}\")\n",
    "# Iterate over the list and export each image\n",
    "# for i, image in enumerate(image_list):\n",
    "#     export_image_to_drive(\n",
    "#         image=image,\n",
    "#         description=f'my_export_lyon_{i}',\n",
    "#         folder='my_exports',\n",
    "#         scale=30,\n",
    "#         region=aoi_mini\n",
    "#     )\n"
   ]
  },
  {
   "cell_type": "code",
   "execution_count": null,
   "metadata": {},
   "outputs": [],
   "source": [
    "#testing!\n",
    "# task.status()\n",
    "def export_image_to_drive(image, description, folder, scale, region):\n",
    "    task = ee.batch.Export.image.toDrive(\n",
    "        image=image,\n",
    "        description=description,\n",
    "        folder=folder,\n",
    "        scale=scale,\n",
    "        region=region,\n",
    "        fileNamePrefix=description,\n",
    "        crs='EPSG:4326',\n",
    "        fileFormat='GeoTIFF'\n",
    "    )\n",
    "    task.start()\n",
    "collection_size = imgCollecting_float.size().getInfo()\n",
    "\n",
    "for i, date in enumerate(timestamp_list_modified):\n",
    "    print(f\"Image {i + 1} ID: {date}\")\n",
    "        # Get the ith image in the collection\n",
    "    image = ee.Image(imgCollecting_float.toList(collection_size).get(i))\n",
    "    image_sel = image.select('VV')\n",
    "    export_image_to_drive(\n",
    "        image=image_sel,\n",
    "        description=f'Vindefjallen_AOI_VV_{i}_{date}',\n",
    "        folder='my_exports',\n",
    "        scale=30,\n",
    "        region=aoi_mini\n",
    "    )"
   ]
  },
  {
   "cell_type": "code",
   "execution_count": null,
   "metadata": {},
   "outputs": [],
   "source": [
    "task.status()"
   ]
  },
  {
   "cell_type": "code",
   "execution_count": null,
   "metadata": {},
   "outputs": [],
   "source": [
    "#calculate ratio of an entire image\n",
    "imVV = ee.Image(image_list_dB.get(4)).select('VV')\n",
    "imVH  = ee.Image(image_list_dB.get(4)).select('VH')\n",
    "\n",
    "\n",
    "\n",
    "\n",
    "\n",
    "ratio = imVH.divide(imVV)\n",
    "# url = ratio.getThumbURL({'min': -5, 'max': 5})\n",
    "# disp.Image(url=url, width=600)\n",
    "gee_stats(ratio, 'VH')"
   ]
  },
  {
   "cell_type": "code",
   "execution_count": null,
   "metadata": {},
   "outputs": [],
   "source": [
    "#Display rgb image on folium map\n",
    "# Define a method for displaying Earth Engine image tiles to folium map.\n",
    "def add_ee_layer(self, ee_image_object, vis_params, name):\n",
    "  map_id_dict = ee.Image(ee_image_object).getMapId(vis_params)\n",
    "  tile = folium.TileLayer(\n",
    "        tiles = 'https://server.arcgisonline.com/ArcGIS/rest/services/World_Imagery/MapServer/tile/{z}/{y}/{x}',\n",
    "        attr = 'Esri',\n",
    "        name = 'Esri Satellite',\n",
    "        overlay = False,\n",
    "        control = True\n",
    "       ).add_to(m)\n",
    "  folium.raster_layers.TileLayer( #Add ESRI basemap\n",
    "    tiles = map_id_dict['tile_fetcher'].url_format,\n",
    "    attr = 'Map Data &copy; <a href=\"https://earthengine.google.com/\">Google Earth Engine</a>',\n",
    "    name = name,\n",
    "    overlay = True,\n",
    "    control = True\n",
    "  ).add_to(self)\n",
    "\n",
    "# Add EE drawing method to folium.\n",
    "folium.Map.add_ee_layer = add_ee_layer\n",
    "location = aoi_mini.centroid().coordinates().getInfo()[::-1]\n",
    "\n",
    "# Make an RGB color composite image (VV,VH,VV/VH).\n",
    "# rgb = ee.Image.rgb(image.select('VV'),\n",
    "#                    image.select('VH'),\n",
    "#                    image.select('VV').divide(image.select('VH')))\n",
    "\n",
    "# Create the map object.\n",
    "m = folium.Map(location=location, zoom_start=12)\n",
    "\n",
    "\n",
    "# Add the S1 rgb composite to the map object.\n",
    "m.add_ee_layer(p_value, {'min': [0], 'max': [3]}, 'Ratio - VH/VV')\n",
    "# m.add_ee_layer(rgb, {'min': [-20, -20, 0], 'max': [0, 0, 2]}, 'RGB - VV,VH,VV/VH')\n",
    "\n",
    "# Add a layer control panel to the map.\n",
    "m.add_child(folium.LayerControl())\n",
    "\n",
    "# Display the map.\n",
    "display(m)"
   ]
  },
  {
   "cell_type": "code",
   "execution_count": null,
   "metadata": {},
   "outputs": [],
   "source": [
    "#create a function to calculate the ratio\n",
    "def get_avg_ratio(img):\n",
    "\n",
    "    ratio = ee.Image(img).select('VH').divide(ee.Image(img).select('VV'))\n",
    "    mean = ratio.reduceRegion(\n",
    "        ee.Reducer.mean()).getInfo()\n",
    "    return mean\n",
    "get_avg_ratio(im_list.get(2))\n",
    "#create function to calculate the mean\n",
    "def get_avg(img):\n",
    "    mean = ee.Image(img).reduceRegion(\n",
    "        ee.Reducer.mean()).getInfo()\n",
    "    return mean"
   ]
  },
  {
   "cell_type": "code",
   "execution_count": null,
   "metadata": {},
   "outputs": [],
   "source": [
    "#get date of multi image list\n",
    "import time\n",
    "\n",
    "acq_times = im_coll.aggregate_array('system:time_start').getInfo()\n",
    "time_list = [time.strftime('%x', time.gmtime(acq_time/1000)) for acq_time in acq_times]\n",
    "time_list"
   ]
  },
  {
   "cell_type": "markdown",
   "metadata": {},
   "source": [
    "### Histograms and other stuff\n",
    "\n",
    "https://colab.research.google.com/github/google/earthengine-community/blob/master/tutorials/detecting-changes-in-sentinel-1-imagery-pt-1/index.ipynb#scrollTo=KfjUo-FyUklG"
   ]
  },
  {
   "cell_type": "code",
   "execution_count": null,
   "metadata": {},
   "outputs": [],
   "source": [
    "pol = 'VV'\n",
    "\n",
    "ffa_fl = ee.Image(image_list_float.get(0)).select(pol)\n",
    "\n",
    "\n",
    "hist = ffa_fl.select(pol).reduceRegion(\n",
    "    ee.Reducer.fixedHistogram(0, 0.5, 500),aoi_mini).get(pol).getInfo()\n",
    "mean = ffa_fl.select(pol).reduceRegion(\n",
    "    ee.Reducer.mean(), aoi_mini).get(pol).getInfo()\n",
    "variance = ffa_fl.select(pol).reduceRegion(\n",
    "    ee.Reducer.variance(), aoi_mini).get(pol).getInfo()\n",
    "\n",
    "a = np.array(hist)\n",
    "x = a[:, 0]                 # array of bucket edge positions\n",
    "y = a[:, 1]/np.sum(a[:, 1]) # normalized array of bucket contents\n",
    "plt.grid()\n",
    "plt.plot(x, y, '.')\n",
    "plt.show()\n",
    "\n",
    "alpha = 4\n",
    "beta = mean/alpha\n",
    "plt.grid()\n",
    "plt.plot(x, y, '.', label='data')\n",
    "plt.plot(x, gamma.pdf(x, alpha, 0, beta)/1000, '-r', label='gamma')\n",
    "plt.legend()\n",
    "plt.show()"
   ]
  },
  {
   "cell_type": "code",
   "execution_count": null,
   "metadata": {},
   "outputs": [],
   "source": [
    "from pprint import pprint\n",
    "\n",
    "# A Lansat 8 TOA image collection for a specific year and location.\n",
    "col = ee.ImageCollection(\"LANDSAT/LC08/C02/T1_TOA\").filterBounds(\n",
    "    ee.Geometry.Point([-122.073, 37.188])).filterDate('2018', '2019')\n",
    "\n",
    "# An image property of interest, percent cloud cover in this case.\n",
    "prop = 'CLOUD_COVER'\n",
    "\n",
    "# Use ee.ImageCollection.aggregate_* functions to fetch information about\n",
    "# values of a selected property across all images in the collection. For\n",
    "# example, produce a list of all values, get counts, and calculate statistics.\n",
    "print('List of property values:', col.aggregate_array(prop).getInfo())\n",
    "print('Count of property values:', col.aggregate_count(prop).getInfo())\n",
    "print('Count of distinct property values:',\n",
    "      col.aggregate_count_distinct(prop).getInfo())\n",
    "print('First collection element property value:',\n",
    "      col.aggregate_first(prop).getInfo())\n",
    "print('Histogram of property values:')\n",
    "pprint(col.aggregate_histogram(prop).getInfo())\n",
    "print('Min of property values:', col.aggregate_min(prop).getInfo())\n",
    "print('Max of property values:', col.aggregate_max(prop).getInfo())\n",
    "\n",
    "# The following methods are applicable to numerical properties only.\n",
    "print('Mean of property values:', col.aggregate_mean(prop).getInfo())\n",
    "print('Sum of property values:', col.aggregate_sum(prop).getInfo())\n",
    "print('Product of property values:', col.aggregate_product(prop).getInfo())\n",
    "print('Std dev (sample) of property values:',\n",
    "      col.aggregate_sample_sd(prop).getInfo())\n",
    "print('Variance (sample) of property values:',\n",
    "      col.aggregate_sample_var(prop).getInfo())\n",
    "print('Std dev (total) of property values:',\n",
    "      col.aggregate_total_sd(prop).getInfo())\n",
    "print('Variance (total) of property values:',\n",
    "      col.aggregate_total_var(prop).getInfo())\n",
    "print('Summary stats of property values:')\n",
    "pprint(col.aggregate_stats(prop).getInfo())\n",
    "\n",
    "# Note that if the property is formatted as a string, min and max will\n",
    "# respectively return the first and last values according to alphanumeric\n",
    "# order of the property values.\n",
    "prop_string = 'LANDSAT_SCENE_ID'\n",
    "print('List of property values (string):',\n",
    "      col.aggregate_array(prop_string).getInfo())\n",
    "print('Min of property values (string):',\n",
    "      col.aggregate_min(prop_string).getInfo())\n",
    "print('Max of property values (string):',\n",
    "      col.aggregate_max(prop_string).getInfo())"
   ]
  },
  {
   "cell_type": "markdown",
   "metadata": {},
   "source": [
    "### Annað elda stuff"
   ]
  },
  {
   "cell_type": "code",
   "execution_count": null,
   "metadata": {},
   "outputs": [],
   "source": [
    "#get list length\n",
    "len_list = im_list.length().getInfo()\n",
    "for i in range(len_list):\n",
    "    val = get_avg_ratio(im_list.get(i))\n",
    "    value_ratio = val.get('VH')\n",
    "    value_VV = get_avg(ee.Image(im_list.get(i)).select('VV'))\n",
    "    value_VH = get_avg(ee.Image(im_list.get(i)).select('VH'))\n",
    "    #print values with ; inbewteen\n",
    "    print(time_list[i], value_ratio, value_VV.get('VV'), value_VH.get('VH'), sep=';')"
   ]
  },
  {
   "cell_type": "code",
   "execution_count": null,
   "metadata": {},
   "outputs": [],
   "source": [
    "url = ratio.getThumbURL({'min': 0, 'max': 10})\n",
    "disp.Image(url=url, width=800)\n"
   ]
  },
  {
   "cell_type": "code",
   "execution_count": null,
   "metadata": {},
   "outputs": [],
   "source": [
    "hist = ratio.reduceRegion(ee.Reducer.fixedHistogram(0, 5, 500), aoi).get('VV').getInfo()\n",
    "mean = ratio.reduceRegion(ee.Reducer.mean(), aoi).get('VV').getInfo()\n",
    "variance = ratio.reduceRegion(ee.Reducer.variance(), aoi).get('VV').getInfo()"
   ]
  },
  {
   "cell_type": "code",
   "execution_count": null,
   "metadata": {},
   "outputs": [],
   "source": [
    "import numpy as np\n",
    "import matplotlib.pyplot as plt\n",
    "\n",
    "a = np.array(hist)\n",
    "x = a[:, 0]\n",
    "y = a[:, 1] / np.sum(a[:, 1])\n",
    "plt.grid()\n",
    "plt.plot(x, y, '.')\n",
    "plt.show()\n"
   ]
  }
 ],
 "metadata": {
  "kernelspec": {
   "display_name": "gee_env",
   "language": "python",
   "name": "python3"
  },
  "language_info": {
   "codemirror_mode": {
    "name": "ipython",
    "version": 3
   },
   "file_extension": ".py",
   "mimetype": "text/x-python",
   "name": "python",
   "nbconvert_exporter": "python",
   "pygments_lexer": "ipython3",
   "version": "3.10.9"
  },
  "orig_nbformat": 4
 },
 "nbformat": 4,
 "nbformat_minor": 2
}
