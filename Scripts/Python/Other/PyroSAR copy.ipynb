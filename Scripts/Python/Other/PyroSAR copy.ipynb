{
 "cells": [
  {
   "cell_type": "markdown",
   "metadata": {},
   "source": [
    "#### PyroSAR processing\n",
    "\n",
    "TEsting fyrir PyroSAR pakkann sem á að nota SNAP til að batcha SAR gögn\n",
    "\n",
    "búið til 29/11/2023\n",
    "\n",
    "kernel = pyroSAR_env"
   ]
  },
  {
   "cell_type": "code",
   "execution_count": 1,
   "metadata": {},
   "outputs": [],
   "source": [
    "from pyroSAR import identify\n",
    "from pyroSAR.snap.auxil import parse_recipe, parse_node\n",
    "from pyroSAR.snap import geocode\n",
    "from spatialist import Vector\n",
    "from pyroSAR import Archive\n",
    "\n",
    "\n",
    "import logging\n",
    "import os\n",
    "\n",
    "\n",
    "\n",
    "# basic info\n",
    "logging.basicConfig(level=logging.INFO)\n",
    "\n",
    "# basic info with some message filtering\n",
    "logging.basicConfig(format='%(levelname)s:%(message)s', level=logging.INFO)\n",
    "\n",
    "# detailed debug info\n",
    "logging.basicConfig(level=logging.DEBUG)"
   ]
  },
  {
   "cell_type": "code",
   "execution_count": 2,
   "metadata": {},
   "outputs": [],
   "source": [
    "#change working directory\n",
    "# workspace_directory = r'C:\\Users\\trygg\\Documents\\Master_project\\Data\\Sentinel-1\\SLC\\pyroSAR' #home\n",
    "workspace_directory = r'C:\\Users\\tryggvisi\\Documents\\my-awesome-masters-project\\Data\\Sentinel-1\\SLC\\Testing\\pyroSAR' #work\n",
    "# Change the current working directory to the specified workspace\n",
    "os.chdir(workspace_directory)"
   ]
  },
  {
   "cell_type": "code",
   "execution_count": 7,
   "metadata": {},
   "outputs": [],
   "source": [
    "def identify_scene(scene):\n",
    "    # scene = 'S1A_IW_GRDH_1SDV_20180101T170648_20180101T170713_019964_021FFD_DA78.zip'\n",
    "    id = identify(scene)\n",
    "    print(id)"
   ]
  },
  {
   "cell_type": "code",
   "execution_count": 10,
   "metadata": {},
   "outputs": [
    {
     "name": "stdout",
     "output_type": "stream",
     "text": [
      "pyroSAR ID object of type BEAM_DIMAP\n",
      "acquisition_mode: IW\n",
      "cycleNumber: 266\n",
      "frameNumber: 345374\n",
      "lines: 1502\n",
      "orbit: D\n",
      "orbitNumber_abs: 44152\n",
      "orbitNumber_rel: 155\n",
      "polarizations: ['VV', 'VH']\n",
      "product: SLC\n",
      "projection: +proj=longlat +datum=WGS84 +no_defs\n",
      "samples: 20522\n",
      "sensor: S1A\n",
      "spacing: (2.329562, 13.90087)\n",
      "start: 20220718T075858\n",
      "stop: 20220718T075901\n"
     ]
    }
   ],
   "source": [
    "identify_scene(input_path)"
   ]
  },
  {
   "cell_type": "markdown",
   "metadata": {},
   "source": [
    "# 2024 testing"
   ]
  },
  {
   "cell_type": "code",
   "execution_count": 9,
   "metadata": {},
   "outputs": [],
   "source": [
    "output_path = r\"C:\\Users\\tryggvisi\\Documents\\my-awesome-masters-project\\Data\\Sentinel-1\\SLC\\Coregistration\\output\"\n",
    "input_path = r\"C:\\Users\\tryggvisi\\Documents\\my-awesome-masters-project\\Data\\Sentinel-1\\SLC\\Coregistration\\output\\S1A_IW_SLC__1SDV_20220718T075858_20220718T075910_044152_05451E_57CE_Orb_Stack1.dim\""
   ]
  },
  {
   "cell_type": "code",
   "execution_count": 11,
   "metadata": {},
   "outputs": [
    {
     "ename": "AttributeError",
     "evalue": "object has no attribute 'getOSV'",
     "output_type": "error",
     "traceback": [
      "\u001b[1;31m---------------------------------------------------------------------------\u001b[0m",
      "\u001b[1;31mAttributeError\u001b[0m                            Traceback (most recent call last)",
      "Cell \u001b[1;32mIn[11], line 1\u001b[0m\n\u001b[1;32m----> 1\u001b[0m \u001b[43mgeocode\u001b[49m\u001b[43m(\u001b[49m\u001b[43minfile\u001b[49m\u001b[38;5;241;43m=\u001b[39;49m\u001b[43minput_path\u001b[49m\u001b[43m,\u001b[49m\u001b[43m \u001b[49m\u001b[43moutdir\u001b[49m\u001b[38;5;241;43m=\u001b[39;49m\u001b[43moutput_path\u001b[49m\u001b[43m,\u001b[49m\u001b[43m \u001b[49m\u001b[43mspacing\u001b[49m\u001b[38;5;241;43m=\u001b[39;49m\u001b[38;5;241;43m20\u001b[39;49m\u001b[43m,\u001b[49m\u001b[43m \u001b[49m\u001b[43mscaling\u001b[49m\u001b[38;5;241;43m=\u001b[39;49m\u001b[38;5;124;43m'\u001b[39;49m\u001b[38;5;124;43mdB\u001b[39;49m\u001b[38;5;124;43m'\u001b[39;49m\u001b[43m,\u001b[49m\n\u001b[0;32m      2\u001b[0m \u001b[43m        \u001b[49m\u001b[43mexport_extra\u001b[49m\u001b[38;5;241;43m=\u001b[39;49m\u001b[43m[\u001b[49m\u001b[38;5;124;43m'\u001b[39;49m\u001b[38;5;124;43mDEM\u001b[39;49m\u001b[38;5;124;43m'\u001b[39;49m\u001b[43m,\u001b[49m\u001b[43m \u001b[49m\u001b[38;5;124;43m'\u001b[39;49m\u001b[38;5;124;43mlocalIncidenceAngle\u001b[39;49m\u001b[38;5;124;43m'\u001b[39;49m\u001b[43m]\u001b[49m\u001b[43m,\u001b[49m\u001b[43m \u001b[49m\u001b[43mt_srs\u001b[49m\u001b[38;5;241;43m=\u001b[39;49m\u001b[38;5;241;43m4326\u001b[39;49m\u001b[43m)\u001b[49m\n",
      "File \u001b[1;32mc:\\Users\\tryggvisi\\AppData\\Local\\miniconda3\\envs\\mini_pyroSAR_env\\lib\\site-packages\\pyroSAR\\snap\\util.py:377\u001b[0m, in \u001b[0;36mgeocode\u001b[1;34m(infile, outdir, t_srs, spacing, polarizations, shapefile, scaling, geocoding_type, removeS1BorderNoise, removeS1BorderNoiseMethod, removeS1ThermalNoise, offset, allow_RES_OSV, demName, externalDEMFile, externalDEMNoDataValue, externalDEMApplyEGM, terrainFlattening, basename_extensions, test, export_extra, groupsize, cleanup, tmpdir, gpt_exceptions, gpt_args, returnWF, nodataValueAtSea, demResamplingMethod, imgResamplingMethod, alignToStandardGrid, standardGridOriginX, standardGridOriginY, speckleFilter, refarea, clean_edges, clean_edges_npixels, rlks, azlks, dem_oversampling_multiple, s1_osv_url_option)\u001b[0m\n\u001b[0;32m    374\u001b[0m     last \u001b[38;5;241m=\u001b[39m deb\n\u001b[0;32m    375\u001b[0m \u001b[38;5;66;03m############################################\u001b[39;00m\n\u001b[0;32m    376\u001b[0m \u001b[38;5;66;03m# Apply-Orbit-File node configuration\u001b[39;00m\n\u001b[1;32m--> 377\u001b[0m orb \u001b[38;5;241m=\u001b[39m \u001b[43morb_parametrize\u001b[49m\u001b[43m(\u001b[49m\u001b[43mscene\u001b[49m\u001b[38;5;241;43m=\u001b[39;49m\u001b[38;5;28;43mid\u001b[39;49m\u001b[43m,\u001b[49m\u001b[43m \u001b[49m\u001b[43mformatName\u001b[49m\u001b[38;5;241;43m=\u001b[39;49m\u001b[43mformatName\u001b[49m\u001b[43m,\u001b[49m\u001b[43m \u001b[49m\u001b[43mallow_RES_OSV\u001b[49m\u001b[38;5;241;43m=\u001b[39;49m\u001b[43mallow_RES_OSV\u001b[49m\u001b[43m,\u001b[49m\n\u001b[0;32m    378\u001b[0m \u001b[43m                      \u001b[49m\u001b[43murl_option\u001b[49m\u001b[38;5;241;43m=\u001b[39;49m\u001b[43ms1_osv_url_option\u001b[49m\u001b[43m)\u001b[49m\n\u001b[0;32m    379\u001b[0m workflow\u001b[38;5;241m.\u001b[39minsert_node(orb, before\u001b[38;5;241m=\u001b[39mlast\u001b[38;5;241m.\u001b[39mid)\n\u001b[0;32m    380\u001b[0m last \u001b[38;5;241m=\u001b[39m orb\n",
      "File \u001b[1;32mc:\\Users\\tryggvisi\\AppData\\Local\\miniconda3\\envs\\mini_pyroSAR_env\\lib\\site-packages\\pyroSAR\\snap\\auxil.py:1660\u001b[0m, in \u001b[0;36morb_parametrize\u001b[1;34m(scene, formatName, allow_RES_OSV, url_option, **kwargs)\u001b[0m\n\u001b[0;32m   1658\u001b[0m \u001b[38;5;28;01mif\u001b[39;00m formatName \u001b[38;5;241m==\u001b[39m \u001b[38;5;124m'\u001b[39m\u001b[38;5;124mSENTINEL-1\u001b[39m\u001b[38;5;124m'\u001b[39m:\n\u001b[0;32m   1659\u001b[0m     osv_type \u001b[38;5;241m=\u001b[39m [\u001b[38;5;124m'\u001b[39m\u001b[38;5;124mPOE\u001b[39m\u001b[38;5;124m'\u001b[39m, \u001b[38;5;124m'\u001b[39m\u001b[38;5;124mRES\u001b[39m\u001b[38;5;124m'\u001b[39m] \u001b[38;5;28;01mif\u001b[39;00m allow_RES_OSV \u001b[38;5;28;01melse\u001b[39;00m \u001b[38;5;124m'\u001b[39m\u001b[38;5;124mPOE\u001b[39m\u001b[38;5;124m'\u001b[39m\n\u001b[1;32m-> 1660\u001b[0m     match \u001b[38;5;241m=\u001b[39m \u001b[43mscene\u001b[49m\u001b[38;5;241;43m.\u001b[39;49m\u001b[43mgetOSV\u001b[49m(osvType\u001b[38;5;241m=\u001b[39mosv_type, returnMatch\u001b[38;5;241m=\u001b[39m\u001b[38;5;28;01mTrue\u001b[39;00m, url_option\u001b[38;5;241m=\u001b[39murl_option)\n\u001b[0;32m   1661\u001b[0m     \u001b[38;5;28;01mif\u001b[39;00m match \u001b[38;5;129;01mis\u001b[39;00m \u001b[38;5;28;01mNone\u001b[39;00m \u001b[38;5;129;01mand\u001b[39;00m allow_RES_OSV:\n\u001b[0;32m   1662\u001b[0m         scene\u001b[38;5;241m.\u001b[39mgetOSV(osvType\u001b[38;5;241m=\u001b[39m\u001b[38;5;124m'\u001b[39m\u001b[38;5;124mRES\u001b[39m\u001b[38;5;124m'\u001b[39m, url_option\u001b[38;5;241m=\u001b[39murl_option)\n",
      "File \u001b[1;32mc:\\Users\\tryggvisi\\AppData\\Local\\miniconda3\\envs\\mini_pyroSAR_env\\lib\\site-packages\\pyroSAR\\drivers.py:224\u001b[0m, in \u001b[0;36mID.__getattr__\u001b[1;34m(self, item)\u001b[0m\n\u001b[0;32m    223\u001b[0m \u001b[38;5;28;01mdef\u001b[39;00m \u001b[38;5;21m__getattr__\u001b[39m(\u001b[38;5;28mself\u001b[39m, item):\n\u001b[1;32m--> 224\u001b[0m     \u001b[38;5;28;01mraise\u001b[39;00m \u001b[38;5;167;01mAttributeError\u001b[39;00m(\u001b[38;5;124m\"\u001b[39m\u001b[38;5;124mobject has no attribute \u001b[39m\u001b[38;5;124m'\u001b[39m\u001b[38;5;132;01m{}\u001b[39;00m\u001b[38;5;124m'\u001b[39m\u001b[38;5;124m\"\u001b[39m\u001b[38;5;241m.\u001b[39mformat(item))\n",
      "\u001b[1;31mAttributeError\u001b[0m: object has no attribute 'getOSV'"
     ]
    }
   ],
   "source": [
    "geocode(infile=input_path, outdir=output_path, spacing=20, scaling='dB',\n",
    "        export_extra=['DEM', 'localIncidenceAngle'], t_srs=4326)"
   ]
  },
  {
   "cell_type": "markdown",
   "metadata": {},
   "source": [
    "# everything"
   ]
  },
  {
   "cell_type": "code",
   "execution_count": null,
   "metadata": {},
   "outputs": [],
   "source": [
    "input_file = r'input\\S1A_IW_SLC__1SDV_20220316T163126_20220316T163153_042349_050C83_200D.SAFE.zip' #work\n",
    "\n",
    "\n",
    "rlk_values = [(44, 7), (21, 4)]\n",
    "specke_values = ['Refined Lee', False]\n",
    "spacing_values = [50, 100]\n",
    "flattening_values = [True, False]\n",
    "path = r\"output\\Ice\"\n",
    "for rlk, azlks in rlk_values:\n",
    "    for specke in specke_values:\n",
    "        for spacing in spacing_values:\n",
    "            for flattening in flattening_values:\n",
    "                # Your code here with the current combination of parameters\n",
    "                # print(f\"rlk_{rlk}_azlks_{azlks}_speckle_{specke}_spacing_{spacing}_flattening_{flattening}\")\n",
    "                # Call your function or perform the desired operation with the parameters\n",
    "                if specke == 'Refined Lee':\n",
    "                    lee = 'refined_lee'\n",
    "                else:\n",
    "                    lee = 'False'\n",
    "                finalpath = path + f\"rlk_{rlk}_azlks_{azlks}_speckle_{lee}_spacing_{spacing}_flattening_{flattening}\"\n",
    "                print(finalpath)\n",
    "                geocode(\n",
    "                    infile=input_file,\n",
    "                    outdir=finalpath, \n",
    "                    spacing=spacing, \n",
    "                    scaling='linear', \n",
    "                    polarizations = [\"VH\"],\n",
    "                    terrainFlattening = flattening,\n",
    "                    demName = 'Copernicus 30m Global DEM',\n",
    "                    speckleFilter = specke,\n",
    "                    rlks = rlk,\n",
    "                    azlks = azlks,\n",
    "                    t_srs= 32633,\n",
    "                    shapefile=vector_shp\n",
    "                )\n",
    "\n"
   ]
  },
  {
   "cell_type": "code",
   "execution_count": 3,
   "metadata": {},
   "outputs": [
    {
     "name": "stdout",
     "output_type": "stream",
     "text": [
      "pyroSAR ID object of type SAFE\n",
      "acquisition_mode: IW\n",
      "cycleNumber: 198\n",
      "frameNumber: 244310\n",
      "lines: 40788\n",
      "orbit: A\n",
      "orbitNumber_abs: 32228\n",
      "orbitNumber_rel: 131\n",
      "polarizations: ['VV', 'VH']\n",
      "product: SLC\n",
      "projection: +proj=longlat +datum=WGS84 +no_defs\n",
      "samples: 75703\n",
      "sensor: S1A\n",
      "spacing: (2.329562, 13.86233)\n",
      "start: 20200421T161454\n",
      "stop: 20200421T161521\n"
     ]
    }
   ],
   "source": [
    "#Heima\n",
    "# input_file = r'C:\\Users\\trygg\\Documents\\Master_project\\Data\\Sentinel-1\\SLC\\pyroSAR\\input\\S1A_IW_SLC__1SDV_20210412T052938_20210412T053005_037413_0468E0_B2A5.SAFE.zip'\n",
    "# input_file = r\"C:\\Users\\trygg\\Documents\\Master_project\\Data\\Sentinel-1\\SLC\\pyroSAR\\input\\S1A_IW_SLC__1SDV_20210412T052938_20210412T053005_037413_0468E0_B2A5.zip\"\n",
    "# output_file = r'C:\\Users\\trygg\\Documents\\Master_project\\Data\\Sentinel-1\\SLC\\pyroSAR\\output\\typpatogari'\n",
    "# vector_shp = r'C:\\Users\\trygg\\Documents\\Master_project\\Data\\Vindefjallen_data\\outputs\\shapefiles\\Vindefjallen_extent_updated32633.shp'\n",
    "\n",
    "#Vinna\n",
    "input_file = r'C:\\Users\\tryggvisi\\Documents\\my-awesome-masters-project\\Data\\Sentinel-1\\SLC\\Testing\\pyroSAR\\input\\S1A_IW_SLC__1SDV_20200421T161454_20200421T161521_032228_03BA56_7A2D.zip'\n",
    "output_file = r'C:\\Users\\tryggvisi\\Documents\\my-awesome-masters-project\\Data\\Sentinel-1\\SLC\\Testing\\pyroSAR\\output\\typpatogari'\n",
    "identify_scene(input_file)"
   ]
  },
  {
   "cell_type": "code",
   "execution_count": 15,
   "metadata": {},
   "outputs": [
    {
     "name": "stderr",
     "output_type": "stream",
     "text": [
      "INFO:pyroSAR.snap.auxil:executing node sequences..\n",
      "INFO:pyroSAR.snap.auxil:Calibration\n",
      "INFO:pyroSAR.snap.auxil:TOPSAR-Deburst\n",
      "INFO:pyroSAR.snap.auxil:Apply-Orbit-File\n",
      "INFO:pyroSAR.snap.auxil:failed: C:\\Users\\tryggvisi\\Documents\\my-awesome-masters-project\\Data\\Sentinel-1\\SLC\\Testing\\pyroSAR\\output\\typpatogari\\S1A__IW___A_20200421T161454_Cal_Deb_Orb_ML_TC_proc.xml\n",
      "INFO:pyroSAR.snap.util:Executing processing graph\n",
      "....10%....20%....30%....40%....50%....60%....70%....80%.90% done.\n",
      "INFO: org.esa.snap.core.gpf.operators.tooladapter.ToolAdapterIO: Initializing external tool adapters\n",
      "INFO: org.esa.snap.core.util.EngineVersionCheckActivator: Please check regularly for new updates for the best SNAP experience.\n",
      "INFO: org.hsqldb.persist.Logger: dataFileCache open start\n",
      "org.esa.snap.core.gpf.OperatorException: DimapProductReader: Unable to read file 'C:\\Users\\tryggvisi\\Documents\\my-awesome-masters-project\\Data\\Sentinel-1\\SLC\\Testing\\pyroSAR\\output\\temp\\S1A__IW___A_20200421T161454_Cal_Deb_Orb_ML_TC\\sub\\S1A_IW_SLC__1SDV_20200421T161454_20200421T161521_032228_03BA56_7A2D_tmp1.data\\Sigma0_VV.img' referenced by 'Sigma0_VV'.\n",
      "\tat org.esa.snap.core.gpf.graph.GraphProcessor$GPFImagingListener.errorOccurred(GraphProcessor.java:389)\n",
      "\tat com.sun.media.jai.util.SunTileScheduler.sendExceptionToListener(Unknown Source)\n",
      "\tat com.sun.media.jai.util.SunTileScheduler.scheduleTile(Unknown Source)\n",
      "\tat javax.media.jai.OpImage.getTile(Unknown Source)\n",
      "\tat javax.media.jai.PlanarImage.getData(Unknown Source)\n",
      "\tat com.bc.ceres.glevel.MultiLevelImage.getData(MultiLevelImage.java:64)\n",
      "\tat org.esa.snap.core.gpf.internal.OperatorContext.getSourceTile(OperatorContext.java:449)\n",
      "\tat org.esa.snap.core.gpf.internal.OperatorContext.getSourceTile(OperatorContext.java:435)\n",
      "\tat org.esa.snap.core.gpf.internal.OperatorImage.computeRect(OperatorImage.java:75)\n",
      "\tat javax.media.jai.SourcelessOpImage.computeTile(Unknown Source)\n",
      "\tat com.sun.media.jai.util.SunTileScheduler.scheduleTile(Unknown Source)\n",
      "\tat javax.media.jai.OpImage.getTile(Unknown Source)\n",
      "\tat com.sun.media.jai.util.RequestJob.compute(Unknown Source)\n",
      "\tat com.sun.media.jai.util.WorkerThread.run(Unknown Source)\n",
      "Caused by: org.esa.snap.core.gpf.OperatorException: DimapProductReader: Unable to read file 'C:\\Users\\tryggvisi\\Documents\\my-awesome-masters-project\\Data\\Sentinel-1\\SLC\\Testing\\pyroSAR\\output\\temp\\S1A__IW___A_20200421T161454_Cal_Deb_Orb_ML_TC\\sub\\S1A_IW_SLC__1SDV_20200421T161454_20200421T161521_032228_03BA56_7A2D_tmp1.data\\Sigma0_VV.img' referenced by 'Sigma0_VV'.\n",
      "\tat org.esa.snap.core.gpf.common.ReadOp.computeTile(ReadOp.java:208)\n",
      "\tat org.esa.snap.core.gpf.internal.OperatorImage.computeRect(OperatorImage.java:82)\n",
      "\tat javax.media.jai.SourcelessOpImage.computeTile(Unknown Source)\n",
      "\t... 12 more\n",
      "Caused by: java.io.IOException: DimapProductReader: Unable to read file 'C:\\Users\\tryggvisi\\Documents\\my-awesome-masters-project\\Data\\Sentinel-1\\SLC\\Testing\\pyroSAR\\output\\temp\\S1A__IW___A_20200421T161454_Cal_Deb_Orb_ML_TC\\sub\\S1A_IW_SLC__1SDV_20200421T161454_20200421T161521_032228_03BA56_7A2D_tmp1.data\\Sigma0_VV.img' referenced by 'Sigma0_VV'.\n",
      "\tat org.esa.snap.core.dataio.dimap.DimapProductReader.readBandRasterDataImpl(DimapProductReader.java:318)\n",
      "\tat org.esa.snap.core.dataio.AbstractProductReader.readBandRasterData(AbstractProductReader.java:277)\n",
      "\tat org.esa.snap.core.gpf.common.ReadOp.computeTile(ReadOp.java:205)\n",
      "\t... 14 more\n",
      "Caused by: java.io.FileNotFoundException: C:\\Users\\tryggvisi\\Documents\\my-awesome-masters-project\\Data\\Sentinel-1\\SLC\\Testing\\pyroSAR\\output\\temp\\S1A__IW___A_20200421T161454_Cal_Deb_Orb_ML_TC\\sub\\S1A_IW_SLC__1SDV_20200421T161454_20200421T161521_032228_03BA56_7A2D_tmp1.data\\Sigma0_VV.img (The system cannot find the path specified)\n",
      "\tat java.io.RandomAccessFile.open0(Native Method)\n",
      "\tat java.io.RandomAccessFile.open(RandomAccessFile.java:316)\n",
      "\tat java.io.RandomAccessFile.<init>(RandomAccessFile.java:243)\n",
      "\tat javax.imageio.stream.FileImageInputStream.<init>(FileImageInputStream.java:73)\n",
      "\tat org.esa.snap.core.dataio.dimap.DimapProductReader.readBandRasterDataImpl(DimapProductReader.java:300)\n",
      "\t... 16 more\n",
      "\n",
      "Error: DimapProductReader: Unable to read file 'C:\\Users\\tryggvisi\\Documents\\my-awesome-masters-project\\Data\\Sentinel-1\\SLC\\Testing\\pyroSAR\\output\\temp\\S1A__IW___A_20200421T161454_Cal_Deb_Orb_ML_TC\\sub\\S1A_IW_SLC__1SDV_20200421T161454_20200421T161521_032228_03BA56_7A2D_tmp1.data\\Sigma0_VV.img' referenced by 'Sigma0_VV'.\n",
      "\n",
      "[S1A_IW_SLC__1SDV_20200421T161454_20200421T161521_032228_03BA56_7A2D_tmp2.xml] failed with return code 1\n",
      "INFO:pyroSAR.snap.util:done\n"
     ]
    }
   ],
   "source": [
    "#THIS WORKED in 18.1 minutes\n",
    "\n",
    "#basic geocode\n",
    "geocode(\n",
    "    infile=input_file,\n",
    "    outdir=output_file, \n",
    "    spacing=300, \n",
    "    scaling='linear', \n",
    "    polarizations = [\"VV\"],\n",
    "    terrainFlattening = False,\n",
    "    \n",
    "    demName = 'Copernicus 30m Global DEM',\n",
    "    speckleFilter = False,\n",
    "    removeS1ThermalNoise=False,\n",
    "    groupsize = 1,\n",
    "    tmpdir = r'C:\\Users\\tryggvisi\\Documents\\my-awesome-masters-project\\Data\\Sentinel-1\\SLC\\Testing\\pyroSAR\\output\\temp',\n",
    "    cleanup=False,\n",
    "    # t_srs= 32633,\n",
    "    # shapefile=vector_shp,\n",
    "    rlks = 44,\n",
    "    azlks = 7,\n",
    "    # returnWF = True,\n",
    "    # export_extra = ['localIncidenceAngle', 'scatteringArea']\n",
    ")"
   ]
  },
  {
   "cell_type": "code",
   "execution_count": 13,
   "metadata": {},
   "outputs": [
    {
     "name": "stdout",
     "output_type": "stream",
     "text": [
      "37 8\n"
     ]
    }
   ],
   "source": [
    "from pyroSAR.ancillary import multilook_factors\n",
    "rlks, azlks = multilook_factors(source_rg=2, source_az=13, target=100,\n",
    "                                geometry='SLANT_RANGE', incidence=45)\n",
    "print(rlks, azlks)"
   ]
  },
  {
   "cell_type": "markdown",
   "metadata": {},
   "source": [
    "#### Testing database handling\n"
   ]
  },
  {
   "cell_type": "code",
   "execution_count": null,
   "metadata": {},
   "outputs": [],
   "source": [
    "\n",
    "input_list = [r\"input\\S1A_IW_SLC__1SDV_20230126T075858_20230126T075913_046952_05A18E_81BC.SAFE.zip\", r\"input\\S1A_IW_SLC__1SDV_20220316T163126_20220316T163153_042349_050C83_200D.zip\"]\n",
    "dbfile_list = r\"database\\scenes_list.db\"\n",
    "\n",
    "\n",
    "for i in input_list:\n",
    "    scene = identify(i)\n",
    "    print(scene)\n",
    "    with Archive(dbfile_list) as archive:\n",
    "        archive.insert(scene)\n",
    "\n",
    "archive.close()"
   ]
  },
  {
   "cell_type": "code",
   "execution_count": null,
   "metadata": {},
   "outputs": [],
   "source": [
    "archive = Archive(dbfile_list)\n",
    "outdir = 'output'\n",
    "# maxdate = '20171231T235959'\n",
    "\n",
    "vector_shp = r\"C:\\Users\\tryggvisi\\Documents\\my-awesome-masters-project\\Data\\Vindefjallen_data\\outputs\\shapefiles\\Vindefjallen_extent_updated4326.shp\"\n",
    "\n",
    "with Vector(vector_shp) as site:\n",
    "    selection_proc = archive.select(vectorobject=site,\n",
    "                                    processdir=outdir,\n",
    "                                    # maxdate=maxdate,\n",
    "                                    sensor=('S1A', 'S1B'),\n",
    "                                    product='SLC',\n",
    "                                    acquisition_mode='IW',\n",
    "                                    vv=1)\n",
    "archive.close()\n",
    "print(selection_proc)"
   ]
  },
  {
   "cell_type": "code",
   "execution_count": 30,
   "metadata": {},
   "outputs": [
    {
     "name": "stderr",
     "output_type": "stream",
     "text": [
      "INFO:pyroSAR.snap.auxil:executing node sequences..\n",
      "INFO:pyroSAR.snap.auxil:Calibration\n",
      "INFO:pyroSAR.snap.auxil:failed: C:\\Users\\trygg\\Documents\\Master_project\\Data\\Sentinel-1\\SLC\\pyroSAR\\output\\fuckoff3\\S1A__IW___D_20210412T052938_Cal_Deb_Orb_ML_TF_Spk_TC_proc.xml\n",
      "INFO:pyroSAR.snap.util:Executing processing graph\n",
      "....10%....20%...90% done.\n",
      "INFO: org.esa.snap.core.gpf.operators.tooladapter.ToolAdapterIO: Initializing external tool adapters\n",
      "INFO: org.esa.snap.core.util.EngineVersionCheckActivator: Please check regularly for new updates for the best SNAP experience.\n",
      "INFO: org.hsqldb.persist.Logger: dataFileCache open start\n",
      "org.esa.snap.core.gpf.OperatorException: Cannot construct DataBuffer.\n",
      "\tat org.esa.snap.core.gpf.graph.GraphProcessor$GPFImagingListener.errorOccurred(GraphProcessor.java:389)\n",
      "\tat com.sun.media.jai.util.SunTileScheduler.sendExceptionToListener(Unknown Source)\n",
      "\tat com.sun.media.jai.util.SunTileScheduler.scheduleTile(Unknown Source)\n",
      "\tat javax.media.jai.OpImage.getTile(Unknown Source)\n",
      "\tat com.sun.media.jai.util.RequestJob.compute(Unknown Source)\n",
      "\tat com.sun.media.jai.util.WorkerThread.run(Unknown Source)\n",
      "Caused by: java.lang.RuntimeException: Cannot construct DataBuffer.\n",
      "\tat com.sun.media.jai.util.DataBufferUtils.constructDataBuffer(Unknown Source)\n",
      "\tat com.sun.media.jai.util.DataBufferUtils.createDataBufferFloat(Unknown Source)\n",
      "\tat javax.media.jai.ComponentSampleModelJAI.createDataBuffer(Unknown Source)\n",
      "\tat javax.media.jai.RasterFactory.createWritableRaster(Unknown Source)\n",
      "\tat javax.media.jai.PlanarImage.createWritableRaster(Unknown Source)\n",
      "\tat javax.media.jai.SourcelessOpImage.computeTile(Unknown Source)\n",
      "\t... 4 more\n",
      "\n",
      "Error: Cannot construct DataBuffer.\n",
      "\n",
      "[S1A_IW_SLC__1SDV_20210412T052938_20210412T053005_037413_0468E0_B2A5.SAFE_tmp0.xml] failed with return code 1\n",
      "INFO:pyroSAR.snap.util:done\n"
     ]
    }
   ],
   "source": [
    "from pyroSAR.snap import geocode\n",
    "\n",
    "# the target pixel spacing in meters\n",
    "\n",
    "\n",
    "for scene in selection_proc:\n",
    "    geocode(\n",
    "        infile=scene, \n",
    "        outdir=r\"C:\\Users\\trygg\\Documents\\Master_project\\Data\\Sentinel-1\\SLC\\pyroSAR\\output\\fuckoff3\", \n",
    "        # shapefile=vector_shp,\n",
    "        spacing=200, \n",
    "        removeS1ThermalNoise = False,\n",
    "        scaling='linear', \n",
    "        polarizations = [\"VH\"],\n",
    "        terrainFlattening = True,\n",
    "        demName = 'Copernicus 30m Global DEM',\n",
    "        speckleFilter = 'Refined Lee'\n",
    "        )"
   ]
  },
  {
   "cell_type": "markdown",
   "metadata": {},
   "source": [
    "##### More db crap\n"
   ]
  },
  {
   "cell_type": "code",
   "execution_count": null,
   "metadata": {},
   "outputs": [],
   "source": [
    "from pyroSAR import Archive, identify\n",
    "from spatialist.ancillary import finder\n",
    "dbfile = r'C:\\Users\\trygg\\Documents\\Master_project\\Data\\Sentinel-1\\SLC\\pyroSAR\\database\\scenelist.db'\n",
    "archive_s1 = r'C:\\Users\\trygg\\Documents\\Master_project\\Data\\Sentinel-1\\SLC\\pyroSAR\\input'\n",
    "scenes_s1 = finder(archive_s1, [r'^S1[AB].*\\.zip'], regex=True, recursive=True)\n",
    "with Archive(dbfile) as archive:\n",
    "    archive.insert(scenes_s1)\n",
    "archive.close()"
   ]
  },
  {
   "cell_type": "code",
   "execution_count": null,
   "metadata": {},
   "outputs": [],
   "source": [
    "vector_shp = r\"C:\\Users\\trygg\\Documents\\Master_project\\Data\\Vindefjallen_data\\outputs\\shapefiles\\Vindefjallen_extent_updated4326.shp\"\n",
    "archive = Archive(dbfile)\n",
    "\n",
    "with Vector(vector_shp) as site:\n",
    "    selection_proc = archive.select(vectorobject=site,\n",
    "                                    processdir=r\"C:\\Users\\trygg\\Documents\\Master_project\",\n",
    "                                    sensor=('S1A', 'S1B'),\n",
    "                                    acquisition_mode='IW')\n",
    "archive.close()"
   ]
  },
  {
   "cell_type": "code",
   "execution_count": null,
   "metadata": {},
   "outputs": [],
   "source": [
    "selection_proc"
   ]
  },
  {
   "cell_type": "markdown",
   "metadata": {},
   "source": [
    "#### Custom workflow"
   ]
  },
  {
   "cell_type": "markdown",
   "metadata": {},
   "source": [
    "https://pyrosar.readthedocs.io/en/latest/general/snap.html#workflow-splitting"
   ]
  },
  {
   "cell_type": "code",
   "execution_count": 3,
   "metadata": {},
   "outputs": [],
   "source": [
    "from pyroSAR.snap.auxil import parse_recipe, parse_node\n",
    "\n",
    "workflow = parse_recipe('blank')\n",
    "\n",
    "read = parse_node('Read')\n",
    "read.parameters['file'] = 'S1A_IW_GRDH_1SDV_20150222T170750_20150222T170815_004739_005DD8_3768.zip'\n",
    "read.parameters['formatName'] = 'SENTINEL-1'\n",
    "workflow.insert_node(read)\n",
    "\n",
    "tnr = parse_node('ThermalNoiseRemoval')\n",
    "workflow.insert_node(tnr, before=read.id)\n",
    "\n",
    "bnr = parse_node('Remove-GRD-Border-Noise')\n",
    "bnr.parameters['selectedPolarisations'] = ['VV']\n",
    "workflow.insert_node(bnr, before=tnr.id)\n",
    "\n",
    "write = parse_node('Write')\n",
    "write.parameters['file'] = 'outname'\n",
    "write.parameters['formatName'] = 'BEAM-DIMAP'\n",
    "workflow.insert_node(write, before=bnr.id)\n",
    "\n",
    "workflow.write('outname_proc_test')"
   ]
  },
  {
   "cell_type": "code",
   "execution_count": 8,
   "metadata": {},
   "outputs": [],
   "source": [
    "from pyroSAR.snap.auxil import parse_recipe, parse_node\n",
    "\n",
    "workflow = parse_recipe('blank')\n",
    "\n",
    "read = parse_node('Read')\n",
    "read.parameters['file'] = 'C:/Users/tryggvisi/Documents/my-awesome-masters-project/Data/Sentinel-1/SLC/Testing/pyroSAR/input/S1A_IW_GRDH_1SDV_20230102T075900_20230102T075914_046602_0595C4_B11D.zip'\n",
    "read.parameters['formatName'] = 'SENTINEL-1'\n",
    "workflow.insert_node(read)\n",
    "\n",
    "remove_grd_border_noise = parse_node('Remove-GRD-Border-Noise')\n",
    "workflow.insert_node(remove_grd_border_noise, before=read.id)\n",
    "remove_grd_border_noise.parameters['selectedPolarisations'] = ['VV']\n",
    "remove_grd_border_noise.parameters['borderLimit'] = 500\n",
    "remove_grd_border_noise.parameters['trimThreshold'] = 0.5\n",
    "\n",
    "calibration = parse_node('Calibration')\n",
    "workflow.insert_node(calibration, before=remove_grd_border_noise.id)\n",
    "calibration.parameters['selectedPolarisations'] = ['VV']\n",
    "calibration.parameters['outputSigmaBand'] = True\n",
    "calibration.parameters['outputGammaBand'] = True\n",
    "\n",
    "tnr = parse_node('ThermalNoiseRemoval')\n",
    "workflow.insert_node(tnr, before=calibration.id)\n",
    "tnr.parameters['selectedPolarisations'] = ['VV']\n",
    "tnr.parameters['removeThermalNoise'] = True\n",
    "\n",
    "apply_orbit_file = parse_node('Apply-Orbit-File')\n",
    "workflow.insert_node(apply_orbit_file, before=tnr.id)\n",
    "apply_orbit_file.parameters['orbitType'] = 'Sentinel Precise (Auto Download)'\n",
    "apply_orbit_file.parameters['polyDegree'] = 3\n",
    "apply_orbit_file.parameters['continueOnFail'] = False\n",
    "\n",
    "multilook = parse_node('Multilook')\n",
    "workflow.insert_node(multilook, before=apply_orbit_file.id)\n",
    "multilook.parameters['nRgLooks'] = 20\n",
    "multilook.parameters['nAzLooks'] = 20\n",
    "multilook.parameters['grSquarePixel'] = True\n",
    "\n",
    "terrain_correction = parse_node('Terrain-Correction')\n",
    "workflow.insert_node(terrain_correction, before=multilook.id)\n",
    "terrain_correction.parameters['sourceBands'] = 'Gamma0_VV'\n",
    "terrain_correction.parameters['demName'] = 'Copernicus 30m Global DEM'\n",
    "terrain_correction.parameters['pixelSpacingInMeter'] = 200\n",
    "terrain_correction.parameters['mapProjection'] = 'GEOGCS[\"WGS84(DD)\",DATUM[\"WGS84\",SPHEROID[\"WGS84\", 6378137.0, 298.257223563]],PRIMEM[\"Greenwich\", 0.0],UNIT[\"degree\", 0.017453292519943295],AXIS[\"Geodetic longitude\", EAST],AXIS[\"Geodetic latitude\", NORTH]]'\n",
    "\n",
    "write = parse_node('Write')\n",
    "workflow.insert_node(write, before=terrain_correction.id)\n",
    "write.parameters['file'] = 'C:/Users/tryggvisi/Documents/my-awesome-masters-project/Data/Sentinel-1/SLC/Testing/pyroSAR/output/New_years_test_nr2/S1A__IW___D_20230102T075900_Cal_NR_Orb_ML_TC'\n",
    "write.parameters['formatName'] = 'BEAM-DIMAP'\n",
    "\n",
    "workflow.write('chat_test_3')\n"
   ]
  },
  {
   "cell_type": "code",
   "execution_count": 9,
   "metadata": {},
   "outputs": [
    {
     "name": "stderr",
     "output_type": "stream",
     "text": [
      "INFO:pyroSAR.snap.auxil:executing node sequence..\n",
      "INFO:pyroSAR.snap.auxil:Remove-GRD-Border-Noise -> Calibration -> ThermalNoiseRemoval -> Apply-Orbit-File -> Multilook -> Terrain-Correction\n"
     ]
    }
   ],
   "source": [
    "from pyroSAR.snap.auxil import gpt\n",
    "\n",
    "path = r\"C:\\Users\\tryggvisi\\Documents\\my-awesome-masters-project\\Data\\Sentinel-1\\SLC\\Testing\\pyroSAR\\chat_test_3.xml\"\n",
    "gpt(path, tmpdir='.')\n",
    "\n"
   ]
  }
 ],
 "metadata": {
  "kernelspec": {
   "display_name": "pyroSAR_env",
   "language": "python",
   "name": "python3"
  },
  "language_info": {
   "codemirror_mode": {
    "name": "ipython",
    "version": 3
   },
   "file_extension": ".py",
   "mimetype": "text/x-python",
   "name": "python",
   "nbconvert_exporter": "python",
   "pygments_lexer": "ipython3",
   "version": "3.9.18"
  }
 },
 "nbformat": 4,
 "nbformat_minor": 2
}
