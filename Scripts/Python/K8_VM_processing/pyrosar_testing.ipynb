{
 "cells": [
  {
   "cell_type": "code",
   "execution_count": 1,
   "metadata": {},
   "outputs": [],
   "source": [
    "from pyroSAR import identify\n",
    "from pyroSAR.snap.auxil import parse_recipe, parse_node\n",
    "from pyroSAR.snap import geocode\n",
    "from spatialist import Vector\n",
    "from pyroSAR import Archive\n",
    "\n",
    "import logging\n",
    "import os\n",
    "# basic info\n",
    "logging.basicConfig(level=logging.INFO)\n",
    "# basic info with some message filtering\n",
    "logging.basicConfig(format='%(levelname)s:%(message)s', level=logging.INFO)\n",
    "# detailed debug info\n",
    "logging.basicConfig(level=logging.DEBUG)"
   ]
  },
  {
   "cell_type": "code",
   "execution_count": 2,
   "metadata": {},
   "outputs": [],
   "source": [
    "def identify_scene(scene):\n",
    "    # scene = 'S1A_IW_GRDH_1SDV_20180101T170648_20180101T170713_019964_021FFD_DA78.zip'\n",
    "    id = identify(scene)\n",
    "    print(id)"
   ]
  },
  {
   "cell_type": "code",
   "execution_count": 3,
   "metadata": {},
   "outputs": [
    {
     "name": "stdout",
     "output_type": "stream",
     "text": [
      "pyroSAR ID object of type SAFE\n",
      "acquisition_mode: IW\n",
      "coordinates: [(17.470657, 64.677887), (12.049267, 65.146637), (12.689305, 66.75032), (18.451694, 66.264778)]\n",
      "cycleNumber: 103\n",
      "frameNumber: 104586\n",
      "lines: 40950\n",
      "orbit: D\n",
      "orbitNumber_abs: 15538\n",
      "orbitNumber_rel: 66\n",
      "polarizations: ['VV', 'VH']\n",
      "product: SLC\n",
      "projection: +proj=longlat +datum=WGS84 +no_defs\n",
      "samples: 74899\n",
      "sensor: S1A\n",
      "spacing: (2.329562, 13.86268)\n",
      "start: 20170304T052931\n",
      "stop: 20170304T052958\n"
     ]
    }
   ],
   "source": [
    "# input_file = \"/home/ubuntu/Tryggvi/Data/S1A_IW_GRDH_1SDV_20220314T052944_20220314T053009_042313_050B38_4F30.zip\"\n",
    "input_file = '/home/ubuntu/Tryggvi/Data/asf_slc_granules_dl/S1A_IW_SLC__1SDV_20170304T052931_20170304T052958_015538_01988A_5EA4.zip'\n",
    "identify_scene(input_file)"
   ]
  },
  {
   "cell_type": "code",
   "execution_count": 9,
   "metadata": {},
   "outputs": [
    {
     "name": "stderr",
     "output_type": "stream",
     "text": [
      "INFO:pyroSAR.snap.auxil:executing node sequences..\n",
      "INFO:pyroSAR.snap.auxil:Calibration -> ThermalNoiseRemoval\n",
      "INFO:pyroSAR.snap.auxil:TOPSAR-Deburst\n",
      "INFO:pyroSAR.snap.auxil:Apply-Orbit-File\n",
      "INFO:pyroSAR.snap.auxil:Multilook\n",
      "INFO:pyroSAR.snap.auxil:Terrain-Flattening\n",
      "INFO:pyroSAR.snap.auxil:Speckle-Filter\n",
      "INFO:pyroSAR.snap.auxil:Terrain-Correction -> BandSelect\n",
      "INFO:pyroSAR.snap.auxil:LinearToFromdB\n",
      "INFO:pyroSAR.snap.auxil:cleaning image edges and converting to GeoTIFF\n",
      "INFO:pyroSAR.snap.util:deleting temporary files\n",
      "INFO:pyroSAR.snap.util:done\n"
     ]
    }
   ],
   "source": [
    "utmedthig = '/home/ubuntu/Tryggvi/Data/test_process' + '/test1'\n",
    "geocode(\n",
    "        infile = input_file,\n",
    "        outdir = utmedthig,\n",
    "        t_srs='EPSG:3006', #SWEREF\n",
    "        polarizations = ['VV', 'VH'],\n",
    "        scaling = 'linear',\n",
    "        removeS1ThermalNoise = True,\n",
    "        terrainFlattening = True,\n",
    "\n",
    "        demName = 'Copernicus 30m Global DEM',\n",
    "        export_extra =['localIncidenceAngle', 'layoverShadowMask'],\n",
    "        alignToStandardGrid = True, #\n",
    "        speckleFilter = 'Refined Lee',\n",
    "        refarea = 'gamma0',\n",
    "        rlks =27,\n",
    "        azlks = 7,\n",
    "        spacing = 100,\n",
    "        clean_edges = True,\n",
    "        test = False\n",
    ")\n"
   ]
  },
  {
   "cell_type": "code",
   "execution_count": 5,
   "metadata": {},
   "outputs": [],
   "source": [
    "# import logging\n",
    "# from spatialist.ancillary import finder, run\n",
    "# log = logging.getLogger(__name__)\n",
    "# from pyroSAR import examine\n",
    "\n",
    "# # examine.ExamineSnap.__identify_snap\n",
    "# # create a list of possible SNAP executables\n",
    "# defaults = ['snap64.exe', 'snap32.exe', 'snap.exe', 'snap']\n",
    "# paths = os.environ['PATH'].split(os.path.pathsep)\n",
    "# options = [os.path.join(path, option) for path in paths for option in defaults]\n",
    "# options = [x for x in options if os.path.isfile(x)]\n",
    "\n",
    "# if not hasattr(examine.ExamineSnap, 'path') or not os.path.isfile(examine.ExamineSnap.path):\n",
    "#     executables = options\n",
    "# else:\n",
    "#     executables = [examine.ExamineSnap.path] + options\n",
    "\n",
    "# if len(executables) == 0:\n",
    "#     log.debug(\"could not detect any potential 'snap' executables\")\n",
    "\n",
    "\n",
    "# for path in executables:\n",
    "#     # print(path)\n",
    "#     log.debug('checking candidate {}'.format(path))\n",
    "#     if os.path.islink(path):\n",
    "#         path = os.path.realpath(path)\n",
    "    \n",
    "#     # check whether a directory etc exists relative to the SNAP executable\n",
    "#     etc = os.path.join(os.path.dirname(os.path.dirname(path)), 'etc')\n",
    "#     if not os.path.isdir(etc):\n",
    "#         log.debug(\"could not find the 'etc' directory\")\n",
    "#         continue\n",
    "    \n",
    "#     # check the content of the etc directory\n",
    "#     auxdata = os.listdir(etc)\n",
    "#     if 'snap.auxdata.properties' not in auxdata:\n",
    "#         log.debug(\"could not find the 'snap.auxdata.properties' file\")\n",
    "#         continue\n",
    "#     else:\n",
    "#         auxdata_properties = os.path.join(etc, 'snap.auxdata.properties')\n",
    "    \n",
    "#     # identify the gpt executable\n",
    "#     gpt_candidates = finder(os.path.dirname(path), ['gpt', 'gpt.exe'])\n",
    "#     if len(gpt_candidates) == 0:\n",
    "#         log.debug(\"could not find the 'gpt' executable\")\n",
    "#         continue\n",
    "#     else:\n",
    "#         gpt = gpt_candidates[0]\n",
    "#     print(gpt + \" -> gpt\")\n",
    "#     print(path + \" -> path\")\n",
    "#     examine.ExamineSnap.path = path\n",
    "#     examine.ExamineSnap.etc = etc\n",
    "#     examine.ExamineSnap.gpt = gpt\n",
    "#     examine.ExamineSnap.auxdata = auxdata\n",
    "#     examine.ExamineSnap.properties = auxdata_properties\n",
    "   \n",
    "\n",
    "# log.warning('asdasdsad could not be identified. If you have installed it please add the path to the SNAP '\n",
    "#             'executables (bin subdirectory) to the PATH environment. '\n",
    "#             'E.g. in the Linux .bashrc file add the following line:\\nexport PATH=$PATH:path/to/snap/bin\"')"
   ]
  },
  {
   "cell_type": "code",
   "execution_count": 6,
   "metadata": {},
   "outputs": [],
   "source": [
    "# import os\n",
    "# os.environ['PATH'].split(os.path.pathsep)"
   ]
  },
  {
   "cell_type": "code",
   "execution_count": 7,
   "metadata": {},
   "outputs": [],
   "source": [
    "# import os\n",
    "\n",
    "# # Append the desired directory to os.environ['PATH']\n",
    "# os.environ['PATH'] += os.pathsep + '/home/ubuntu/snap/bin'\n"
   ]
  },
  {
   "cell_type": "code",
   "execution_count": 8,
   "metadata": {},
   "outputs": [],
   "source": [
    "# os.environ['PATH'] = '/snap/bin123123'"
   ]
  }
 ],
 "metadata": {
  "kernelspec": {
   "display_name": "K8_VM_env",
   "language": "python",
   "name": "python3"
  },
  "language_info": {
   "codemirror_mode": {
    "name": "ipython",
    "version": 3
   },
   "file_extension": ".py",
   "mimetype": "text/x-python",
   "name": "python",
   "nbconvert_exporter": "python",
   "pygments_lexer": "ipython3",
   "version": "3.9.18"
  }
 },
 "nbformat": 4,
 "nbformat_minor": 2
}
