{
 "cells": [
  {
   "cell_type": "code",
   "execution_count": null,
   "metadata": {},
   "outputs": [],
   "source": [
    "import logging\n",
    "import os\n",
    "import pandas as pd\n",
    "import asf_search as asf\n",
    "import hyp3_sdk as sdk\n",
    "# basic info\n",
    "logging.basicConfig(level=logging.INFO)\n",
    "# basic info with some message filtering\n",
    "logging.basicConfig(format='%(levelname)s:%(message)s', level=logging.INFO)\n",
    "# detailed debug info\n",
    "logging.basicConfig(level=logging.DEBUG)\n",
    "#change working directory\n"
   ]
  },
  {
   "cell_type": "code",
   "execution_count": null,
   "metadata": {},
   "outputs": [],
   "source": [
    "workspace_directory = r'/home/ubuntu/Tryggvi/my-awesome-masters-project' #VM\n",
    "os.chdir(workspace_directory)\n"
   ]
  },
  {
   "cell_type": "code",
   "execution_count": null,
   "metadata": {},
   "outputs": [],
   "source": [
    "#ASF token for download\n",
    "#read token from file\n",
    "\n",
    "with open('/home/ubuntu/Tryggvi/my-awesome-masters-project/Scripts/Python/K8_VM_processing/asf_token.txt', 'r') as file:\n",
    "    token_asf = file.read().replace('\\n', '')\n",
    "\n",
    "session = asf.ASFSession().auth_with_token(token = token_asf)"
   ]
  },
  {
   "cell_type": "code",
   "execution_count": null,
   "metadata": {},
   "outputs": [],
   "source": [
    "#Import granule list\n",
    "# granule_list = r'Data/Vindefjallen_data/Vindefjallen_cleaning/Vindefjallen_Granule_processing/list_of_slc_granules_2023.csv' old list\n",
    "\n",
    "granule_list = r'Data/Vindefjallen_data/Vindefjallen_cleaning/Vindefjallen_Granule_processing/list_of_slc_granules_2023_ERA5.csv' #era5 list\n",
    "\n",
    "\n",
    "#import csv\n",
    "granules = pd.read_csv(granule_list)\n",
    "\n",
    "#granule_id column to list\n",
    "granule_id = granules['granule_id'].tolist()"
   ]
  },
  {
   "cell_type": "code",
   "execution_count": null,
   "metadata": {},
   "outputs": [],
   "source": [
    "product_list = granule_id\n",
    "results = asf.granule_search(product_list)"
   ]
  },
  {
   "cell_type": "code",
   "execution_count": null,
   "metadata": {},
   "outputs": [],
   "source": [
    "print(results)"
   ]
  },
  {
   "cell_type": "code",
   "execution_count": null,
   "metadata": {},
   "outputs": [],
   "source": [
    "print(results[1])\n",
    "#new results with only even numbered results\n",
    "results_noxml = results[::2]\n"
   ]
  },
  {
   "cell_type": "code",
   "execution_count": null,
   "metadata": {},
   "outputs": [],
   "source": [
    "path_dl = r\"/home/ubuntu/Tryggvi/Data/ERA5_data/asf_slc_granules_dl_era5\"\n",
    "\n",
    "#path: asf_slc_granules_dl"
   ]
  },
  {
   "cell_type": "code",
   "execution_count": null,
   "metadata": {},
   "outputs": [],
   "source": [
    "\n",
    "#download everything\n",
    "\n",
    "\n",
    "results.download(path=path_dl, session=session)"
   ]
  },
  {
   "cell_type": "code",
   "execution_count": 38,
   "metadata": {},
   "outputs": [
    {
     "name": "stderr",
     "output_type": "stream",
     "text": [
      "INFO:asf_search:Started downloading ASFSearchResults of size 31.\n",
      "INFO:asf_search:Using 60 threads - starting up pool.\n",
      "INFO:asf_search:Finished downloading ASFSearchResults of size 31.\n"
     ]
    }
   ],
   "source": [
    "#download single granule\n",
    "import logging\n",
    "import os\n",
    "# basic info\n",
    "logging.basicConfig(level=logging.INFO)\n",
    "# basic info with some message filtering\n",
    "logging.basicConfig(format='%(levelname)s:%(message)s', level=logging.INFO)\n",
    "# detailed debug info\n",
    "logging.basicConfig(level=logging.DEBUG)\n",
    "\n",
    "\n",
    "results_noxml.download(path=path_dl, session=session, processes=60)"
   ]
  }
 ],
 "metadata": {
  "kernelspec": {
   "display_name": "everything_env",
   "language": "python",
   "name": "python3"
  },
  "language_info": {
   "codemirror_mode": {
    "name": "ipython",
    "version": 3
   },
   "file_extension": ".py",
   "mimetype": "text/x-python",
   "name": "python",
   "nbconvert_exporter": "python",
   "pygments_lexer": "ipython3",
   "version": "3.9.18"
  }
 },
 "nbformat": 4,
 "nbformat_minor": 2
}
