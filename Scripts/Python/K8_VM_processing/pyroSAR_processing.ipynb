{
 "cells": [
  {
   "cell_type": "code",
   "execution_count": 1,
   "metadata": {},
   "outputs": [
    {
     "name": "stderr",
     "output_type": "stream",
     "text": [
      "/tmp/ipykernel_789298/1916172898.py:9: DeprecationWarning: \n",
      "Pyarrow will become a required dependency of pandas in the next major release of pandas (pandas 3.0),\n",
      "(to allow more performant data types, such as the Arrow string type, and better interoperability with other libraries)\n",
      "but was not found to be installed on your system.\n",
      "If this would cause problems for you,\n",
      "please provide us feedback at https://github.com/pandas-dev/pandas/issues/54466\n",
      "        \n",
      "  import pandas as pd\n"
     ]
    }
   ],
   "source": [
    "from pyroSAR import identify\n",
    "from pyroSAR.snap.auxil import parse_recipe, parse_node\n",
    "from pyroSAR.snap import geocode\n",
    "from spatialist import Vector\n",
    "from pyroSAR import Archive\n",
    "\n",
    "from IPython.display import clear_output\n",
    "\n",
    "import pandas as pd\n",
    "import logging\n",
    "import os\n",
    "\n",
    "# detailed debug & log info\n",
    "logging.basicConfig(level=logging.INFO)\n",
    "logging.basicConfig(format='%(levelname)s:%(message)s', level=logging.INFO)\n",
    "logging.basicConfig(level=logging.DEBUG)"
   ]
  },
  {
   "cell_type": "code",
   "execution_count": 2,
   "metadata": {},
   "outputs": [],
   "source": [
    "workspace_directory = r'/home/ubuntu/Tryggvi/my-awesome-masters-project' #VM\n",
    "# workspace_directory = r\"C:/Users/tryggvisi/Documents/my-awesome-masters-project\" #vinna\n",
    "# workspace_directory = r\"C:/Users/trygg/Documents/Master_project\" #home\n",
    "os.chdir(workspace_directory)"
   ]
  },
  {
   "cell_type": "markdown",
   "metadata": {},
   "source": [
    "# ERA5"
   ]
  },
  {
   "cell_type": "code",
   "execution_count": 3,
   "metadata": {},
   "outputs": [],
   "source": [
    "granule_list = r'Data/Vindefjallen_data/Vindefjallen_cleaning/Vindefjallen_Granule_processing/list_of_slc_granules_2023_ERA5.csv' #era5 list\n",
    "\n",
    "\n",
    "#import csv\n",
    "granules = pd.read_csv(granule_list)\n",
    "\n",
    "#granule_id column to list\n",
    "granule_id = granules['granule_ID'].tolist()"
   ]
  },
  {
   "cell_type": "code",
   "execution_count": null,
   "metadata": {},
   "outputs": [],
   "source": [
    "len(granule_id)"
   ]
  },
  {
   "cell_type": "code",
   "execution_count": 4,
   "metadata": {},
   "outputs": [
    {
     "data": {
      "text/plain": [
       "{'path_to_granule': '/home/ubuntu/Tryggvi/Data/ERA5_data/asf_slc_granules_dl_era5/S1A_IW_SLC__1SDV_20230328T052201_20230328T052229_047840_05BF83_BE4B.zip',\n",
       " 'path_to_output_directory': '/home/ubuntu/Tryggvi/Data/ERA5_data/pyrosar_processed_granules_1000/0_2023-03-28_1000',\n",
       " 'path_to_clipped_output_directory': '/home/ubuntu/Tryggvi/Data/ERA5_data/processed_granules_clip_1000/0_2023-03-28_clip_1000'}"
      ]
     },
     "execution_count": 4,
     "metadata": {},
     "output_type": "execute_result"
    }
   ],
   "source": [
    "#create a dictionary with granule_id as key and path to granule as value. This is used for the geocode function to geocode the granules in the dictionary\n",
    "#output directory\n",
    "granule_directory = \"/home/ubuntu/Tryggvi/Data/ERA5_data/asf_slc_granules_dl_era5\"\n",
    "\n",
    "#The output directory for the processed granules. Geocode will add 4 rasters and 1 xml file to each directory\n",
    "# output_directory = '/home/ubuntu/Tryggvi/Data/ERA5_data/pyrosar_processed_granules'\n",
    "# output_directory = '/home/ubuntu/Tryggvi/Data/ERA5_data/pyrosar_processed_granules_500' # fyrir ML 500\n",
    "output_directory = '/home/ubuntu/Tryggvi/Data/ERA5_data/pyrosar_processed_granules_1000' # fyrir ML 1000\n",
    "\n",
    "#the output directory to be used after processing for the clipped granules. Each directory will contain 4 clipped rasters\n",
    "# clip_output_directory = '/home/ubuntu/Tryggvi/Data/ERA5_data/processed_granules_clip'\n",
    "# clip_output_directory = '/home/ubuntu/Tryggvi/Data/ERA5_data/processed_granules_clip_500' # fyrir ML 500\n",
    "clip_output_directory = '/home/ubuntu/Tryggvi/Data/ERA5_data/processed_granules_clip_1000' # fyrir ML 1000\n",
    "\n",
    "ML_NR = '_1000'\n",
    "\n",
    "path_to_granule = [granule_directory + '/' + i+'.zip' for i in granule_id ]\n",
    "path_to_output_directory = [output_directory + '/' +str(i)+'_'+ granule_id[i][17:21] + '-' + granule_id[i][21:23] + '-' + granule_id[i][23:25] + ML_NR for i in range(len(granule_id))]\n",
    "path_to_clipped_output_directory = [clip_output_directory + '/' +str(i)+'_'+ granule_id[i][17:21] + '-' + granule_id[i][21:23] + '-' + granule_id[i][23:25] + '_clip' + ML_NR for i in range(len(granule_id))]\n",
    "\n",
    "#create dictionary with path_to_granule and path_to_output_directory as values and key is range of granules\n",
    "granule_paths_dict = {}\n",
    "for i in range(len(granule_id)):\n",
    "    granule_paths_dict[i] = { \n",
    "        \"path_to_granule\": path_to_granule[i], \n",
    "        'path_to_output_directory': path_to_output_directory[i],\n",
    "        'path_to_clipped_output_directory': path_to_clipped_output_directory[i]\n",
    "    }\n",
    "granule_paths_dict[0]\n"
   ]
  },
  {
   "cell_type": "code",
   "execution_count": 5,
   "metadata": {},
   "outputs": [
    {
     "data": {
      "text/plain": [
       "31"
      ]
     },
     "execution_count": 5,
     "metadata": {},
     "output_type": "execute_result"
    }
   ],
   "source": [
    "len(granule_paths_dict)"
   ]
  },
  {
   "cell_type": "code",
   "execution_count": 9,
   "metadata": {},
   "outputs": [
    {
     "name": "stdout",
     "output_type": "stream",
     "text": [
      "0 D\n",
      "1 D\n",
      "2 D\n",
      "3 A\n",
      "4 A\n",
      "5 A\n",
      "6 D\n",
      "7 D\n",
      "8 A\n",
      "9 A\n",
      "10 D\n",
      "11 D\n",
      "12 A\n",
      "13 A\n",
      "14 A\n",
      "15 D\n",
      "16 D\n",
      "17 A\n",
      "18 A\n",
      "19 A\n",
      "20 D\n",
      "21 D\n",
      "22 D\n",
      "23 A\n",
      "24 A\n",
      "25 A\n",
      "26 A\n",
      "27 A\n",
      "28 A\n",
      "29 D\n",
      "30 D\n"
     ]
    }
   ],
   "source": [
    "for c,i in enumerate(path_to_granule):\n",
    "    print(c, identify(i).orbit)"
   ]
  },
  {
   "cell_type": "markdown",
   "metadata": {},
   "source": [
    "# OLD"
   ]
  },
  {
   "cell_type": "code",
   "execution_count": null,
   "metadata": {},
   "outputs": [],
   "source": [
    "#náð í listann af granule ID\n",
    "\n",
    "granule_list = r'Data/Vindefjallen_data/Vindefjallen_cleaning/Vindefjallen_Granule_processing/list_of_slc_granules_2023.csv'\n",
    "#import csv\n",
    "granules = pd.read_csv(granule_list)\n",
    "#granule_id column to list\n",
    "granule_id = granules['granule_ID'].tolist()\n",
    "granule_id"
   ]
  },
  {
   "cell_type": "code",
   "execution_count": null,
   "metadata": {},
   "outputs": [],
   "source": [
    "#create a dictionary with granule_id as key and path to granule as value. This is used for the geocode function to geocode the granules in the dictionary\n",
    "#output directory\n",
    "granule_directory = '/home/ubuntu/Tryggvi/Data/asf_slc_granules_dl'\n",
    "\n",
    "#The output directory for the processed granules. Geocode will add 4 rasters and 1 xml file to each directory\n",
    "# output_directory = '/home/ubuntu/Tryggvi/Data/pyrosar_processed_granules'\n",
    "# output_directory = '/home/ubuntu/Tryggvi/Data/pyrosar_processed_granules_500' # fyrir ML 500\n",
    "# output_directory = '/home/ubuntu/Tryggvi/Data/pyrosar_processed_granules_1000' # fyrir ML 1000\n",
    "output_directory = '/home/ubuntu/Tryggvi/Data/pyrosar_processed_granules_10000' # fyrir ML 10000\n",
    "\n",
    "#the output directory to be used after processing for the clipped granules. Each directory will contain 4 clipped rasters\n",
    "# clip_output_directory = '/home/ubuntu/Tryggvi/Data/processed_granules_clip'\n",
    "# clip_output_directory = '/home/ubuntu/Tryggvi/Data/processed_granules_clip_500' # fyrir ML 500\n",
    "# clip_output_directory = '/home/ubuntu/Tryggvi/Data/processed_granules_clip_1000' # fyrir ML 1000\n",
    "clip_output_directory = '/home/ubuntu/Tryggvi/Data/processed_granules_clip_10000' # fyrir ML 10000\n",
    "\n",
    "ML_NR = '_10000'\n",
    "\n",
    "path_to_granule = [granule_directory + '/' + i+'.zip' for i in granule_id ]\n",
    "path_to_output_directory = [output_directory + '/' +str(i)+'_'+ granule_id[i][17:21] + '-' + granule_id[i][21:23] + '-' + granule_id[i][23:25] + ML_NR for i in range(len(granule_id))]\n",
    "path_to_clipped_output_directory = [clip_output_directory + '/' +str(i)+'_'+ granule_id[i][17:21] + '-' + granule_id[i][21:23] + '-' + granule_id[i][23:25] + '_clip' + ML_NR for i in range(len(granule_id))]\n",
    "\n",
    "#create dictionary with path_to_granule and path_to_output_directory as values and key is range of granules\n",
    "granule_paths_dict = {}\n",
    "for i in range(len(granule_id)):\n",
    "    granule_paths_dict[i] = { \n",
    "        \"path_to_granule\": path_to_granule[i], \n",
    "        'path_to_output_directory': path_to_output_directory[i],\n",
    "        'path_to_clipped_output_directory': path_to_clipped_output_directory[i]\n",
    "    }\n",
    "granule_paths_dict[1]\n"
   ]
  },
  {
   "cell_type": "markdown",
   "metadata": {},
   "source": [
    "# Process granule with geocode"
   ]
  },
  {
   "cell_type": "code",
   "execution_count": 13,
   "metadata": {},
   "outputs": [
    {
     "name": "stdout",
     "output_type": "stream",
     "text": [
      "Processing granule number  0\n",
      "/home/ubuntu/Tryggvi/Data/ERA5_data/asf_slc_granules_dl_era5/S1A_IW_SLC__1SDV_20230328T052201_20230328T052229_047840_05BF83_BE4B.zip\n",
      "/home/ubuntu/Tryggvi/Data/ERA5_data/pyrosar_processed_granules_1000/0_2023-03-28_1000\n"
     ]
    },
    {
     "name": "stderr",
     "output_type": "stream",
     "text": [
      "INFO:pyroSAR.snap.auxil:executing node sequences..\n",
      "INFO:pyroSAR.snap.auxil:Calibration -> ThermalNoiseRemoval\n",
      "INFO:pyroSAR.snap.auxil:TOPSAR-Deburst\n",
      "INFO:pyroSAR.snap.auxil:Apply-Orbit-File\n",
      "INFO:pyroSAR.snap.auxil:Multilook\n",
      "INFO:pyroSAR.snap.auxil:Terrain-Flattening\n",
      "INFO:pyroSAR.snap.auxil:Speckle-Filter\n",
      "INFO:pyroSAR.snap.auxil:Terrain-Correction\n",
      "INFO:pyroSAR.snap.auxil:cleaning image edges and converting to GeoTIFF\n",
      "INFO:pyroSAR.snap.util:deleting temporary files\n",
      "INFO:pyroSAR.snap.util:done\n",
      "INFO:pyroSAR.snap.auxil:executing node sequences..\n"
     ]
    },
    {
     "name": "stdout",
     "output_type": "stream",
     "text": [
      "Processing granule number  1\n",
      "/home/ubuntu/Tryggvi/Data/ERA5_data/asf_slc_granules_dl_era5/S1A_IW_SLC__1SDV_20230328T052136_20230328T052203_047840_05BF83_7072.zip\n",
      "/home/ubuntu/Tryggvi/Data/ERA5_data/pyrosar_processed_granules_1000/1_2023-03-28_1000\n"
     ]
    },
    {
     "name": "stderr",
     "output_type": "stream",
     "text": [
      "INFO:pyroSAR.snap.auxil:Calibration -> ThermalNoiseRemoval\n",
      "INFO:pyroSAR.snap.auxil:TOPSAR-Deburst\n",
      "INFO:pyroSAR.snap.auxil:Apply-Orbit-File\n",
      "INFO:pyroSAR.snap.auxil:Multilook\n",
      "INFO:pyroSAR.snap.auxil:Terrain-Flattening\n",
      "INFO:pyroSAR.snap.auxil:Speckle-Filter\n",
      "INFO:pyroSAR.snap.auxil:Terrain-Correction\n",
      "INFO:pyroSAR.snap.auxil:cleaning image edges and converting to GeoTIFF\n",
      "INFO:pyroSAR.snap.util:deleting temporary files\n",
      "INFO:pyroSAR.snap.util:done\n",
      "INFO:pyroSAR.snap.auxil:executing node sequences..\n"
     ]
    },
    {
     "name": "stdout",
     "output_type": "stream",
     "text": [
      "Processing granule number  2\n",
      "/home/ubuntu/Tryggvi/Data/ERA5_data/asf_slc_granules_dl_era5/S1A_IW_SLC__1SDV_20230326T053811_20230326T053838_047811_05BE83_3E60.zip\n",
      "/home/ubuntu/Tryggvi/Data/ERA5_data/pyrosar_processed_granules_1000/2_2023-03-26_1000\n"
     ]
    },
    {
     "name": "stderr",
     "output_type": "stream",
     "text": [
      "INFO:pyroSAR.snap.auxil:Calibration -> ThermalNoiseRemoval\n",
      "INFO:pyroSAR.snap.auxil:TOPSAR-Deburst\n",
      "INFO:pyroSAR.snap.auxil:Apply-Orbit-File\n",
      "INFO:pyroSAR.snap.auxil:Multilook\n",
      "INFO:pyroSAR.snap.auxil:Terrain-Flattening\n",
      "INFO:pyroSAR.snap.auxil:Speckle-Filter\n",
      "INFO:pyroSAR.snap.auxil:Terrain-Correction\n",
      "INFO:pyroSAR.snap.auxil:cleaning image edges and converting to GeoTIFF\n",
      "INFO:pyroSAR.snap.util:deleting temporary files\n",
      "INFO:pyroSAR.snap.util:done\n"
     ]
    },
    {
     "name": "stdout",
     "output_type": "stream",
     "text": [
      "Processing granule number  3\n",
      "/home/ubuntu/Tryggvi/Data/ERA5_data/asf_slc_granules_dl_era5/S1A_IW_SLC__1SDV_20230325T161511_20230325T161538_047803_05BE49_44F8.zip\n",
      "/home/ubuntu/Tryggvi/Data/ERA5_data/pyrosar_processed_granules_1000/3_2023-03-25_1000\n"
     ]
    },
    {
     "name": "stderr",
     "output_type": "stream",
     "text": [
      "INFO:pyroSAR.snap.auxil:executing node sequences..\n",
      "INFO:pyroSAR.snap.auxil:Calibration -> ThermalNoiseRemoval\n",
      "INFO:pyroSAR.snap.auxil:TOPSAR-Deburst\n",
      "INFO:pyroSAR.snap.auxil:Apply-Orbit-File\n",
      "INFO:pyroSAR.snap.auxil:Multilook\n",
      "INFO:pyroSAR.snap.auxil:Terrain-Flattening\n",
      "INFO:pyroSAR.snap.auxil:Speckle-Filter\n",
      "INFO:pyroSAR.snap.auxil:Terrain-Correction\n",
      "INFO:pyroSAR.snap.auxil:cleaning image edges and converting to GeoTIFF\n",
      "INFO:pyroSAR.snap.util:deleting temporary files\n",
      "INFO:pyroSAR.snap.util:done\n",
      "INFO:pyroSAR.snap.auxil:executing node sequences..\n"
     ]
    },
    {
     "name": "stdout",
     "output_type": "stream",
     "text": [
      "Processing granule number  4\n",
      "/home/ubuntu/Tryggvi/Data/ERA5_data/asf_slc_granules_dl_era5/S1A_IW_SLC__1SDV_20230306T162321_20230306T162348_047526_05B4F9_F2AC.zip\n",
      "/home/ubuntu/Tryggvi/Data/ERA5_data/pyrosar_processed_granules_1000/4_2023-03-06_1000\n"
     ]
    },
    {
     "name": "stderr",
     "output_type": "stream",
     "text": [
      "INFO:pyroSAR.snap.auxil:Calibration -> ThermalNoiseRemoval\n",
      "INFO:pyroSAR.snap.auxil:TOPSAR-Deburst\n",
      "INFO:pyroSAR.snap.auxil:Apply-Orbit-File\n",
      "INFO:pyroSAR.snap.auxil:Multilook\n",
      "INFO:pyroSAR.snap.auxil:Terrain-Flattening\n",
      "INFO:pyroSAR.snap.auxil:Speckle-Filter\n",
      "INFO:pyroSAR.snap.auxil:Terrain-Correction\n",
      "INFO:pyroSAR.snap.auxil:cleaning image edges and converting to GeoTIFF\n",
      "INFO:pyroSAR.snap.util:deleting temporary files\n",
      "INFO:pyroSAR.snap.util:done\n"
     ]
    },
    {
     "name": "stdout",
     "output_type": "stream",
     "text": [
      "Processing granule number  5\n",
      "/home/ubuntu/Tryggvi/Data/ERA5_data/asf_slc_granules_dl_era5/S1A_IW_SLC__1SDV_20220316T163126_20220316T163153_042349_050C83_200D.zip\n",
      "/home/ubuntu/Tryggvi/Data/ERA5_data/pyrosar_processed_granules_1000/5_2022-03-16_1000\n"
     ]
    },
    {
     "name": "stderr",
     "output_type": "stream",
     "text": [
      "INFO:pyroSAR.snap.auxil:executing node sequences..\n",
      "INFO:pyroSAR.snap.auxil:Calibration -> ThermalNoiseRemoval\n",
      "INFO:pyroSAR.snap.auxil:TOPSAR-Deburst\n",
      "INFO:pyroSAR.snap.auxil:Apply-Orbit-File\n",
      "INFO:pyroSAR.snap.auxil:Multilook\n",
      "INFO:pyroSAR.snap.auxil:Terrain-Flattening\n",
      "INFO:pyroSAR.snap.auxil:Speckle-Filter\n",
      "INFO:pyroSAR.snap.auxil:Terrain-Correction\n",
      "INFO:pyroSAR.snap.auxil:cleaning image edges and converting to GeoTIFF\n",
      "INFO:pyroSAR.snap.util:deleting temporary files\n",
      "INFO:pyroSAR.snap.util:done\n"
     ]
    },
    {
     "name": "stdout",
     "output_type": "stream",
     "text": [
      "Processing granule number  6\n",
      "/home/ubuntu/Tryggvi/Data/ERA5_data/asf_slc_granules_dl_era5/S1A_IW_SLC__1SDV_20220314T053007_20220314T053035_042313_050B38_3653.zip\n",
      "/home/ubuntu/Tryggvi/Data/ERA5_data/pyrosar_processed_granules_1000/6_2022-03-14_1000\n"
     ]
    },
    {
     "name": "stderr",
     "output_type": "stream",
     "text": [
      "INFO:pyroSAR.snap.auxil:executing node sequences..\n",
      "INFO:pyroSAR.snap.auxil:Calibration -> ThermalNoiseRemoval\n",
      "INFO:pyroSAR.snap.auxil:TOPSAR-Deburst\n",
      "INFO:pyroSAR.snap.auxil:Apply-Orbit-File\n",
      "INFO:pyroSAR.snap.auxil:Multilook\n",
      "INFO:pyroSAR.snap.auxil:Terrain-Flattening\n",
      "INFO:pyroSAR.snap.auxil:Speckle-Filter\n",
      "INFO:pyroSAR.snap.auxil:Terrain-Correction\n",
      "INFO:pyroSAR.snap.auxil:cleaning image edges and converting to GeoTIFF\n",
      "INFO:pyroSAR.snap.util:deleting temporary files\n",
      "INFO:pyroSAR.snap.util:done\n",
      "INFO:pyroSAR.snap.auxil:executing node sequences..\n"
     ]
    },
    {
     "name": "stdout",
     "output_type": "stream",
     "text": [
      "Processing granule number  7\n",
      "/home/ubuntu/Tryggvi/Data/ERA5_data/asf_slc_granules_dl_era5/S1A_IW_SLC__1SDV_20220314T052943_20220314T053010_042313_050B38_6F1B.zip\n",
      "/home/ubuntu/Tryggvi/Data/ERA5_data/pyrosar_processed_granules_1000/7_2022-03-14_1000\n"
     ]
    },
    {
     "name": "stderr",
     "output_type": "stream",
     "text": [
      "INFO:pyroSAR.snap.auxil:Calibration -> ThermalNoiseRemoval\n",
      "INFO:pyroSAR.snap.auxil:TOPSAR-Deburst\n",
      "INFO:pyroSAR.snap.auxil:Apply-Orbit-File\n",
      "INFO:pyroSAR.snap.auxil:Multilook\n",
      "INFO:pyroSAR.snap.auxil:Terrain-Flattening\n",
      "INFO:pyroSAR.snap.auxil:Speckle-Filter\n",
      "INFO:pyroSAR.snap.auxil:Terrain-Correction\n",
      "INFO:pyroSAR.snap.auxil:cleaning image edges and converting to GeoTIFF\n",
      "INFO:pyroSAR.snap.util:deleting temporary files\n",
      "INFO:pyroSAR.snap.util:done\n"
     ]
    },
    {
     "name": "stdout",
     "output_type": "stream",
     "text": [
      "Processing granule number  8\n",
      "/home/ubuntu/Tryggvi/Data/ERA5_data/asf_slc_granules_dl_era5/S1A_IW_SLC__1SDV_20210316T162309_20210316T162336_037026_045B8A_178D.zip\n",
      "/home/ubuntu/Tryggvi/Data/ERA5_data/pyrosar_processed_granules_1000/8_2021-03-16_1000\n"
     ]
    },
    {
     "name": "stderr",
     "output_type": "stream",
     "text": [
      "INFO:pyroSAR.snap.auxil:executing node sequences..\n",
      "INFO:pyroSAR.snap.auxil:Calibration -> ThermalNoiseRemoval\n",
      "INFO:pyroSAR.snap.auxil:TOPSAR-Deburst\n",
      "INFO:pyroSAR.snap.auxil:Apply-Orbit-File\n",
      "INFO:pyroSAR.snap.auxil:Multilook\n",
      "INFO:pyroSAR.snap.auxil:Terrain-Flattening\n",
      "INFO:pyroSAR.snap.auxil:Speckle-Filter\n",
      "INFO:pyroSAR.snap.auxil:Terrain-Correction\n",
      "INFO:pyroSAR.snap.auxil:cleaning image edges and converting to GeoTIFF\n",
      "INFO:pyroSAR.snap.util:deleting temporary files\n",
      "INFO:pyroSAR.snap.util:done\n"
     ]
    },
    {
     "name": "stdout",
     "output_type": "stream",
     "text": [
      "Processing granule number  9\n",
      "/home/ubuntu/Tryggvi/Data/ERA5_data/asf_slc_granules_dl_era5/S1B_IW_SLC__1SDV_20210315T163051_20210315T163119_026028_031B07_CEBB.zip\n",
      "/home/ubuntu/Tryggvi/Data/ERA5_data/pyrosar_processed_granules_1000/9_2021-03-15_1000\n"
     ]
    },
    {
     "name": "stderr",
     "output_type": "stream",
     "text": [
      "INFO:pyroSAR.snap.auxil:executing node sequences..\n",
      "INFO:pyroSAR.snap.auxil:Calibration -> ThermalNoiseRemoval\n",
      "INFO:pyroSAR.snap.auxil:TOPSAR-Deburst\n",
      "INFO:pyroSAR.snap.auxil:Apply-Orbit-File\n",
      "INFO:pyroSAR.snap.auxil:Multilook\n",
      "INFO:pyroSAR.snap.auxil:Terrain-Flattening\n",
      "INFO:pyroSAR.snap.auxil:Speckle-Filter\n",
      "INFO:pyroSAR.snap.auxil:Terrain-Correction\n",
      "INFO:pyroSAR.snap.auxil:cleaning image edges and converting to GeoTIFF\n",
      "INFO:pyroSAR.snap.util:deleting temporary files\n",
      "INFO:pyroSAR.snap.util:done\n"
     ]
    },
    {
     "name": "stdout",
     "output_type": "stream",
     "text": [
      "Processing granule number  10\n",
      "/home/ubuntu/Tryggvi/Data/ERA5_data/asf_slc_granules_dl_era5/S1B_IW_SLC__1SDV_20200228T053728_20200228T053755_020465_026C69_3787.zip\n",
      "/home/ubuntu/Tryggvi/Data/ERA5_data/pyrosar_processed_granules_1000/10_2020-02-28_1000\n"
     ]
    },
    {
     "name": "stderr",
     "output_type": "stream",
     "text": [
      "INFO:pyroSAR.snap.auxil:executing node sequences..\n",
      "INFO:pyroSAR.snap.auxil:Calibration -> ThermalNoiseRemoval\n",
      "INFO:pyroSAR.snap.auxil:TOPSAR-Deburst\n",
      "INFO:pyroSAR.snap.auxil:Apply-Orbit-File\n",
      "INFO:pyroSAR.snap.auxil:Multilook\n",
      "INFO:pyroSAR.snap.auxil:Terrain-Flattening\n",
      "INFO:pyroSAR.snap.auxil:Speckle-Filter\n",
      "INFO:pyroSAR.snap.auxil:Terrain-Correction\n",
      "INFO:pyroSAR.snap.auxil:cleaning image edges and converting to GeoTIFF\n",
      "INFO:pyroSAR.snap.util:deleting temporary files\n",
      "INFO:pyroSAR.snap.util:done\n",
      "INFO:pyroSAR.snap.auxil:executing node sequences..\n"
     ]
    },
    {
     "name": "stdout",
     "output_type": "stream",
     "text": [
      "Processing granule number  11\n",
      "/home/ubuntu/Tryggvi/Data/ERA5_data/asf_slc_granules_dl_era5/S1B_IW_SLC__1SDV_20200228T053703_20200228T053730_020465_026C69_96A6.zip\n",
      "/home/ubuntu/Tryggvi/Data/ERA5_data/pyrosar_processed_granules_1000/11_2020-02-28_1000\n"
     ]
    },
    {
     "name": "stderr",
     "output_type": "stream",
     "text": [
      "INFO:pyroSAR.snap.auxil:Calibration -> ThermalNoiseRemoval\n",
      "INFO:pyroSAR.snap.auxil:TOPSAR-Deburst\n",
      "INFO:pyroSAR.snap.auxil:Apply-Orbit-File\n",
      "INFO:pyroSAR.snap.auxil:Multilook\n",
      "INFO:pyroSAR.snap.auxil:Terrain-Flattening\n",
      "INFO:pyroSAR.snap.auxil:Speckle-Filter\n",
      "INFO:pyroSAR.snap.auxil:Terrain-Correction\n",
      "INFO:pyroSAR.snap.auxil:cleaning image edges and converting to GeoTIFF\n",
      "INFO:pyroSAR.snap.util:deleting temporary files\n",
      "INFO:pyroSAR.snap.util:done\n"
     ]
    },
    {
     "name": "stdout",
     "output_type": "stream",
     "text": [
      "Processing granule number  12\n",
      "/home/ubuntu/Tryggvi/Data/ERA5_data/asf_slc_granules_dl_era5/S1A_IW_SLC__1SDV_20200226T162303_20200226T162330_031426_039E30_0FF4.zip\n",
      "/home/ubuntu/Tryggvi/Data/ERA5_data/pyrosar_processed_granules_1000/12_2020-02-26_1000\n"
     ]
    },
    {
     "name": "stderr",
     "output_type": "stream",
     "text": [
      "INFO:pyroSAR.snap.auxil:executing node sequences..\n",
      "INFO:pyroSAR.snap.auxil:Calibration -> ThermalNoiseRemoval\n",
      "INFO:pyroSAR.snap.auxil:TOPSAR-Deburst\n",
      "INFO:pyroSAR.snap.auxil:Apply-Orbit-File\n",
      "INFO:pyroSAR.snap.auxil:Multilook\n",
      "INFO:pyroSAR.snap.auxil:Terrain-Flattening\n",
      "INFO:pyroSAR.snap.auxil:Speckle-Filter\n",
      "INFO:pyroSAR.snap.auxil:Terrain-Correction\n",
      "INFO:pyroSAR.snap.auxil:cleaning image edges and converting to GeoTIFF\n",
      "INFO:pyroSAR.snap.util:deleting temporary files\n",
      "INFO:pyroSAR.snap.util:done\n",
      "INFO:pyroSAR.snap.auxil:executing node sequences..\n"
     ]
    },
    {
     "name": "stdout",
     "output_type": "stream",
     "text": [
      "Processing granule number  13\n",
      "/home/ubuntu/Tryggvi/Data/ERA5_data/asf_slc_granules_dl_era5/S1B_IW_SLC__1SDV_20200225T163048_20200225T163116_020428_026B4D_0975.zip\n",
      "/home/ubuntu/Tryggvi/Data/ERA5_data/pyrosar_processed_granules_1000/13_2020-02-25_1000\n"
     ]
    },
    {
     "name": "stderr",
     "output_type": "stream",
     "text": [
      "INFO:pyroSAR.snap.auxil:Calibration -> ThermalNoiseRemoval\n",
      "INFO:pyroSAR.snap.auxil:TOPSAR-Deburst\n",
      "INFO:pyroSAR.snap.auxil:Apply-Orbit-File\n",
      "INFO:pyroSAR.snap.auxil:Multilook\n",
      "INFO:pyroSAR.snap.auxil:Terrain-Flattening\n",
      "INFO:pyroSAR.snap.auxil:Speckle-Filter\n",
      "INFO:pyroSAR.snap.auxil:Terrain-Correction\n",
      "INFO:pyroSAR.snap.auxil:cleaning image edges and converting to GeoTIFF\n",
      "INFO:pyroSAR.snap.util:deleting temporary files\n",
      "INFO:pyroSAR.snap.util:done\n"
     ]
    },
    {
     "name": "stdout",
     "output_type": "stream",
     "text": [
      "Processing granule number  14\n",
      "/home/ubuntu/Tryggvi/Data/ERA5_data/asf_slc_granules_dl_era5/S1B_IW_SLC__1SDV_20200225T163020_20200225T163050_020428_026B4D_8053.zip\n",
      "/home/ubuntu/Tryggvi/Data/ERA5_data/pyrosar_processed_granules_1000/14_2020-02-25_1000\n"
     ]
    },
    {
     "name": "stderr",
     "output_type": "stream",
     "text": [
      "INFO:pyroSAR.snap.auxil:executing node sequences..\n",
      "INFO:pyroSAR.snap.auxil:Calibration -> ThermalNoiseRemoval\n",
      "INFO:pyroSAR.snap.auxil:TOPSAR-Deburst\n",
      "INFO:pyroSAR.snap.auxil:Apply-Orbit-File\n",
      "INFO:pyroSAR.snap.auxil:Multilook\n",
      "INFO:pyroSAR.snap.auxil:Terrain-Flattening\n",
      "INFO:pyroSAR.snap.auxil:Speckle-Filter\n",
      "INFO:pyroSAR.snap.auxil:Terrain-Correction\n",
      "INFO:pyroSAR.snap.auxil:cleaning image edges and converting to GeoTIFF\n",
      "INFO:pyroSAR.snap.util:deleting temporary files\n",
      "INFO:pyroSAR.snap.util:done\n",
      "INFO:pyroSAR.snap.auxil:executing node sequences..\n",
      "INFO:pyroSAR.snap.auxil:Calibration -> ThermalNoiseRemoval\n"
     ]
    },
    {
     "name": "stdout",
     "output_type": "stream",
     "text": [
      "Processing granule number  15\n",
      "/home/ubuntu/Tryggvi/Data/ERA5_data/asf_slc_granules_dl_era5/S1B_IW_SLC__1SDV_20190312T052851_20190312T052918_015317_01CABC_814C.zip\n",
      "/home/ubuntu/Tryggvi/Data/ERA5_data/pyrosar_processed_granules_1000/15_2019-03-12_1000\n"
     ]
    },
    {
     "name": "stderr",
     "output_type": "stream",
     "text": [
      "INFO:pyroSAR.snap.auxil:TOPSAR-Deburst\n",
      "INFO:pyroSAR.snap.auxil:Apply-Orbit-File\n",
      "INFO:pyroSAR.snap.auxil:Multilook\n",
      "INFO:pyroSAR.snap.auxil:Terrain-Flattening\n",
      "INFO:pyroSAR.snap.auxil:Speckle-Filter\n",
      "INFO:pyroSAR.snap.auxil:Terrain-Correction\n",
      "INFO:pyroSAR.snap.auxil:cleaning image edges and converting to GeoTIFF\n",
      "INFO:pyroSAR.snap.util:deleting temporary files\n",
      "INFO:pyroSAR.snap.util:done\n",
      "INFO:pyroSAR.snap.auxil:executing node sequences..\n"
     ]
    },
    {
     "name": "stdout",
     "output_type": "stream",
     "text": [
      "Processing granule number  16\n",
      "/home/ubuntu/Tryggvi/Data/ERA5_data/asf_slc_granules_dl_era5/S1B_IW_SLC__1SDV_20180403T053652_20180403T053718_010315_012C56_7486.zip\n",
      "/home/ubuntu/Tryggvi/Data/ERA5_data/pyrosar_processed_granules_1000/16_2018-04-03_1000\n"
     ]
    },
    {
     "name": "stderr",
     "output_type": "stream",
     "text": [
      "INFO:pyroSAR.snap.auxil:Calibration -> ThermalNoiseRemoval\n",
      "INFO:pyroSAR.snap.auxil:TOPSAR-Deburst\n",
      "INFO:pyroSAR.snap.auxil:Apply-Orbit-File\n",
      "INFO:pyroSAR.snap.auxil:Multilook\n",
      "INFO:pyroSAR.snap.auxil:Terrain-Flattening\n",
      "INFO:pyroSAR.snap.auxil:Speckle-Filter\n",
      "INFO:pyroSAR.snap.auxil:Terrain-Correction\n",
      "INFO:pyroSAR.snap.auxil:cleaning image edges and converting to GeoTIFF\n",
      "INFO:pyroSAR.snap.util:deleting temporary files\n",
      "INFO:pyroSAR.snap.util:done\n"
     ]
    },
    {
     "name": "stdout",
     "output_type": "stream",
     "text": [
      "Processing granule number  17\n",
      "/home/ubuntu/Tryggvi/Data/ERA5_data/asf_slc_granules_dl_era5/S1A_IW_SLC__1SDV_20180401T162251_20180401T162318_021276_024996_E126.zip\n",
      "/home/ubuntu/Tryggvi/Data/ERA5_data/pyrosar_processed_granules_1000/17_2018-04-01_1000\n"
     ]
    },
    {
     "name": "stderr",
     "output_type": "stream",
     "text": [
      "INFO:pyroSAR.snap.auxil:executing node sequences..\n",
      "INFO:pyroSAR.snap.auxil:Calibration -> ThermalNoiseRemoval\n",
      "INFO:pyroSAR.snap.auxil:TOPSAR-Deburst\n",
      "INFO:pyroSAR.snap.auxil:Apply-Orbit-File\n",
      "INFO:pyroSAR.snap.auxil:Multilook\n",
      "INFO:pyroSAR.snap.auxil:Terrain-Flattening\n",
      "INFO:pyroSAR.snap.auxil:Speckle-Filter\n",
      "INFO:pyroSAR.snap.auxil:Terrain-Correction\n",
      "INFO:pyroSAR.snap.auxil:cleaning image edges and converting to GeoTIFF\n",
      "INFO:pyroSAR.snap.util:deleting temporary files\n",
      "INFO:pyroSAR.snap.util:done\n"
     ]
    },
    {
     "name": "stdout",
     "output_type": "stream",
     "text": [
      "Processing granule number  18\n",
      "/home/ubuntu/Tryggvi/Data/ERA5_data/asf_slc_granules_dl_era5/S1B_IW_SLC__1SDV_20180331T163024_20180331T163052_010278_012B11_63F7.zip\n",
      "/home/ubuntu/Tryggvi/Data/ERA5_data/pyrosar_processed_granules_1000/18_2018-03-31_1000\n"
     ]
    },
    {
     "name": "stderr",
     "output_type": "stream",
     "text": [
      "INFO:pyroSAR.snap.auxil:executing node sequences..\n",
      "INFO:pyroSAR.snap.auxil:Calibration -> ThermalNoiseRemoval\n",
      "INFO:pyroSAR.snap.auxil:TOPSAR-Deburst\n",
      "INFO:pyroSAR.snap.auxil:Apply-Orbit-File\n",
      "INFO:pyroSAR.snap.auxil:Multilook\n",
      "INFO:pyroSAR.snap.auxil:Terrain-Flattening\n",
      "INFO:pyroSAR.snap.auxil:Speckle-Filter\n",
      "INFO:pyroSAR.snap.auxil:Terrain-Correction\n",
      "INFO:pyroSAR.snap.auxil:cleaning image edges and converting to GeoTIFF\n",
      "INFO:pyroSAR.snap.util:deleting temporary files\n",
      "INFO:pyroSAR.snap.util:done\n",
      "INFO:pyroSAR.snap.auxil:executing node sequences..\n"
     ]
    },
    {
     "name": "stdout",
     "output_type": "stream",
     "text": [
      "Processing granule number  19\n",
      "/home/ubuntu/Tryggvi/Data/ERA5_data/asf_slc_granules_dl_era5/S1A_IW_SLC__1SDV_20180330T163914_20180330T163941_021247_0248AC_6826.zip\n",
      "/home/ubuntu/Tryggvi/Data/ERA5_data/pyrosar_processed_granules_1000/19_2018-03-30_1000\n"
     ]
    },
    {
     "name": "stderr",
     "output_type": "stream",
     "text": [
      "INFO:pyroSAR.snap.auxil:Calibration -> ThermalNoiseRemoval\n",
      "INFO:pyroSAR.snap.auxil:TOPSAR-Deburst\n",
      "INFO:pyroSAR.snap.auxil:Apply-Orbit-File\n",
      "INFO:pyroSAR.snap.auxil:Multilook\n",
      "INFO:pyroSAR.snap.auxil:Terrain-Flattening\n",
      "INFO:pyroSAR.snap.auxil:Speckle-Filter\n",
      "INFO:pyroSAR.snap.auxil:Terrain-Correction\n",
      "INFO:pyroSAR.snap.auxil:cleaning image edges and converting to GeoTIFF\n",
      "INFO:pyroSAR.snap.util:deleting temporary files\n",
      "INFO:pyroSAR.snap.util:done\n"
     ]
    },
    {
     "name": "stdout",
     "output_type": "stream",
     "text": [
      "Processing granule number  20\n",
      "/home/ubuntu/Tryggvi/Data/ERA5_data/asf_slc_granules_dl_era5/S1A_IW_SLC__1SDV_20180330T052131_20180330T052159_021240_024878_9540.zip\n",
      "/home/ubuntu/Tryggvi/Data/ERA5_data/pyrosar_processed_granules_1000/20_2018-03-30_1000\n"
     ]
    },
    {
     "name": "stderr",
     "output_type": "stream",
     "text": [
      "INFO:pyroSAR.snap.auxil:executing node sequences..\n",
      "INFO:pyroSAR.snap.auxil:Calibration -> ThermalNoiseRemoval\n",
      "INFO:pyroSAR.snap.auxil:TOPSAR-Deburst\n",
      "INFO:pyroSAR.snap.auxil:Apply-Orbit-File\n",
      "INFO:pyroSAR.snap.auxil:Multilook\n",
      "INFO:pyroSAR.snap.auxil:Terrain-Flattening\n",
      "INFO:pyroSAR.snap.auxil:Speckle-Filter\n",
      "INFO:pyroSAR.snap.auxil:Terrain-Correction\n",
      "INFO:pyroSAR.snap.auxil:cleaning image edges and converting to GeoTIFF\n",
      "INFO:pyroSAR.snap.util:deleting temporary files\n",
      "INFO:pyroSAR.snap.util:done\n"
     ]
    },
    {
     "name": "stdout",
     "output_type": "stream",
     "text": [
      "Processing granule number  21\n",
      "/home/ubuntu/Tryggvi/Data/ERA5_data/asf_slc_granules_dl_era5/S1A_IW_SLC__1SDV_20180330T052106_20180330T052133_021240_024878_7D66.zip\n",
      "/home/ubuntu/Tryggvi/Data/ERA5_data/pyrosar_processed_granules_1000/21_2018-03-30_1000\n"
     ]
    },
    {
     "name": "stderr",
     "output_type": "stream",
     "text": [
      "INFO:pyroSAR.snap.auxil:executing node sequences..\n",
      "INFO:pyroSAR.snap.auxil:Calibration -> ThermalNoiseRemoval\n",
      "INFO:pyroSAR.snap.auxil:TOPSAR-Deburst\n",
      "INFO:pyroSAR.snap.auxil:Apply-Orbit-File\n",
      "INFO:pyroSAR.snap.auxil:Multilook\n",
      "INFO:pyroSAR.snap.auxil:Terrain-Flattening\n",
      "INFO:pyroSAR.snap.auxil:Speckle-Filter\n",
      "INFO:pyroSAR.snap.auxil:Terrain-Correction\n",
      "INFO:pyroSAR.snap.auxil:cleaning image edges and converting to GeoTIFF\n",
      "INFO:pyroSAR.snap.util:deleting temporary files\n",
      "INFO:pyroSAR.snap.util:done\n",
      "INFO:pyroSAR.snap.auxil:executing node sequences..\n",
      "INFO:pyroSAR.snap.auxil:Calibration -> ThermalNoiseRemoval\n"
     ]
    },
    {
     "name": "stdout",
     "output_type": "stream",
     "text": [
      "Processing granule number  22\n",
      "/home/ubuntu/Tryggvi/Data/ERA5_data/asf_slc_granules_dl_era5/S1A_IW_SLC__1SDV_20180328T053741_20180328T053808_021211_024795_07AE.zip\n",
      "/home/ubuntu/Tryggvi/Data/ERA5_data/pyrosar_processed_granules_1000/22_2018-03-28_1000\n"
     ]
    },
    {
     "name": "stderr",
     "output_type": "stream",
     "text": [
      "INFO:pyroSAR.snap.auxil:TOPSAR-Deburst\n",
      "INFO:pyroSAR.snap.auxil:Apply-Orbit-File\n",
      "INFO:pyroSAR.snap.auxil:Multilook\n",
      "INFO:pyroSAR.snap.auxil:Terrain-Flattening\n",
      "INFO:pyroSAR.snap.auxil:Speckle-Filter\n",
      "INFO:pyroSAR.snap.auxil:Terrain-Correction\n",
      "INFO:pyroSAR.snap.auxil:cleaning image edges and converting to GeoTIFF\n",
      "INFO:pyroSAR.snap.util:deleting temporary files\n",
      "INFO:pyroSAR.snap.util:done\n",
      "INFO:pyroSAR.snap.auxil:executing node sequences..\n"
     ]
    },
    {
     "name": "stdout",
     "output_type": "stream",
     "text": [
      "Processing granule number  23\n",
      "/home/ubuntu/Tryggvi/Data/ERA5_data/asf_slc_granules_dl_era5/S1A_IW_SLC__1SDV_20180315T161441_20180315T161508_021028_0241CC_51AF.zip\n",
      "/home/ubuntu/Tryggvi/Data/ERA5_data/pyrosar_processed_granules_1000/23_2018-03-15_1000\n"
     ]
    },
    {
     "name": "stderr",
     "output_type": "stream",
     "text": [
      "INFO:pyroSAR.snap.auxil:Calibration -> ThermalNoiseRemoval\n",
      "INFO:pyroSAR.snap.auxil:TOPSAR-Deburst\n",
      "INFO:pyroSAR.snap.auxil:Apply-Orbit-File\n",
      "INFO:pyroSAR.snap.auxil:Multilook\n",
      "INFO:pyroSAR.snap.auxil:Terrain-Flattening\n",
      "INFO:pyroSAR.snap.auxil:Speckle-Filter\n",
      "INFO:pyroSAR.snap.auxil:Terrain-Correction\n",
      "INFO:pyroSAR.snap.auxil:cleaning image edges and converting to GeoTIFF\n",
      "INFO:pyroSAR.snap.util:deleting temporary files\n",
      "INFO:pyroSAR.snap.util:done\n",
      "INFO:pyroSAR.snap.auxil:executing node sequences..\n"
     ]
    },
    {
     "name": "stdout",
     "output_type": "stream",
     "text": [
      "Processing granule number  24\n",
      "/home/ubuntu/Tryggvi/Data/ERA5_data/asf_slc_granules_dl_era5/S1B_IW_SLC__1SDV_20180314T162223_20180314T162251_010030_012302_D8D8.zip\n",
      "/home/ubuntu/Tryggvi/Data/ERA5_data/pyrosar_processed_granules_1000/24_2018-03-14_1000\n"
     ]
    },
    {
     "name": "stderr",
     "output_type": "stream",
     "text": [
      "INFO:pyroSAR.snap.auxil:Calibration -> ThermalNoiseRemoval\n",
      "INFO:pyroSAR.snap.auxil:TOPSAR-Deburst\n",
      "INFO:pyroSAR.snap.auxil:Apply-Orbit-File\n",
      "INFO:pyroSAR.snap.auxil:Multilook\n",
      "INFO:pyroSAR.snap.auxil:Terrain-Flattening\n",
      "INFO:pyroSAR.snap.auxil:Speckle-Filter\n",
      "INFO:pyroSAR.snap.auxil:Terrain-Correction\n",
      "INFO:pyroSAR.snap.auxil:cleaning image edges and converting to GeoTIFF\n",
      "INFO:pyroSAR.snap.util:deleting temporary files\n",
      "INFO:pyroSAR.snap.util:done\n"
     ]
    },
    {
     "name": "stdout",
     "output_type": "stream",
     "text": [
      "Processing granule number  25\n",
      "/home/ubuntu/Tryggvi/Data/ERA5_data/asf_slc_granules_dl_era5/S1B_IW_SLC__1SDV_20180314T162156_20180314T162226_010030_012302_0AD2.zip\n",
      "/home/ubuntu/Tryggvi/Data/ERA5_data/pyrosar_processed_granules_1000/25_2018-03-14_1000\n"
     ]
    },
    {
     "name": "stderr",
     "output_type": "stream",
     "text": [
      "INFO:pyroSAR.snap.auxil:executing node sequences..\n",
      "INFO:pyroSAR.snap.auxil:Calibration -> ThermalNoiseRemoval\n",
      "INFO:pyroSAR.snap.auxil:TOPSAR-Deburst\n",
      "INFO:pyroSAR.snap.auxil:Apply-Orbit-File\n",
      "INFO:pyroSAR.snap.auxil:Multilook\n",
      "INFO:pyroSAR.snap.auxil:Terrain-Flattening\n",
      "INFO:pyroSAR.snap.auxil:Speckle-Filter\n",
      "INFO:pyroSAR.snap.auxil:Terrain-Correction\n",
      "INFO:pyroSAR.snap.auxil:cleaning image edges and converting to GeoTIFF\n",
      "INFO:pyroSAR.snap.util:deleting temporary files\n",
      "INFO:pyroSAR.snap.util:done\n",
      "INFO:pyroSAR.snap.auxil:executing node sequences..\n"
     ]
    },
    {
     "name": "stdout",
     "output_type": "stream",
     "text": [
      "Processing granule number  26\n",
      "/home/ubuntu/Tryggvi/Data/ERA5_data/asf_slc_granules_dl_era5/S1B_IW_SLC__1SDV_20170307T162217_20170307T162245_004605_008070_6515.zip\n",
      "/home/ubuntu/Tryggvi/Data/ERA5_data/pyrosar_processed_granules_1000/26_2017-03-07_1000\n"
     ]
    },
    {
     "name": "stderr",
     "output_type": "stream",
     "text": [
      "INFO:pyroSAR.snap.auxil:Calibration -> ThermalNoiseRemoval\n",
      "INFO:pyroSAR.snap.auxil:TOPSAR-Deburst\n",
      "INFO:pyroSAR.snap.auxil:Apply-Orbit-File\n",
      "INFO:pyroSAR.snap.auxil:Multilook\n",
      "INFO:pyroSAR.snap.auxil:Terrain-Flattening\n",
      "INFO:pyroSAR.snap.auxil:Speckle-Filter\n",
      "INFO:pyroSAR.snap.auxil:Terrain-Correction\n",
      "INFO:pyroSAR.snap.auxil:cleaning image edges and converting to GeoTIFF\n",
      "INFO:pyroSAR.snap.util:deleting temporary files\n",
      "INFO:pyroSAR.snap.util:done\n"
     ]
    },
    {
     "name": "stdout",
     "output_type": "stream",
     "text": [
      "Processing granule number  27\n",
      "/home/ubuntu/Tryggvi/Data/ERA5_data/asf_slc_granules_dl_era5/S1B_IW_SLC__1SDV_20170307T162149_20170307T162219_004605_008070_F2EE.zip\n",
      "/home/ubuntu/Tryggvi/Data/ERA5_data/pyrosar_processed_granules_1000/27_2017-03-07_1000\n"
     ]
    },
    {
     "name": "stderr",
     "output_type": "stream",
     "text": [
      "INFO:pyroSAR.snap.auxil:executing node sequences..\n",
      "INFO:pyroSAR.snap.auxil:Calibration -> ThermalNoiseRemoval\n",
      "INFO:pyroSAR.snap.auxil:TOPSAR-Deburst\n",
      "INFO:pyroSAR.snap.auxil:Apply-Orbit-File\n",
      "INFO:pyroSAR.snap.auxil:Multilook\n",
      "INFO:pyroSAR.snap.auxil:Terrain-Flattening\n",
      "INFO:pyroSAR.snap.auxil:Speckle-Filter\n",
      "INFO:pyroSAR.snap.auxil:Terrain-Correction\n",
      "INFO:pyroSAR.snap.auxil:cleaning image edges and converting to GeoTIFF\n",
      "INFO:pyroSAR.snap.util:deleting temporary files\n",
      "INFO:pyroSAR.snap.util:done\n"
     ]
    },
    {
     "name": "stdout",
     "output_type": "stream",
     "text": [
      "Processing granule number  28\n",
      "/home/ubuntu/Tryggvi/Data/ERA5_data/asf_slc_granules_dl_era5/S1A_IW_SLC__1SDV_20170306T163104_20170306T163131_015574_01999E_3323.zip\n",
      "/home/ubuntu/Tryggvi/Data/ERA5_data/pyrosar_processed_granules_1000/28_2017-03-06_1000\n"
     ]
    },
    {
     "name": "stderr",
     "output_type": "stream",
     "text": [
      "INFO:pyroSAR.snap.auxil:executing node sequences..\n",
      "INFO:pyroSAR.snap.auxil:Calibration -> ThermalNoiseRemoval\n",
      "INFO:pyroSAR.snap.auxil:TOPSAR-Deburst\n",
      "INFO:pyroSAR.snap.auxil:Apply-Orbit-File\n",
      "INFO:pyroSAR.snap.auxil:Multilook\n",
      "INFO:pyroSAR.snap.auxil:Terrain-Flattening\n",
      "INFO:pyroSAR.snap.auxil:Speckle-Filter\n",
      "INFO:pyroSAR.snap.auxil:Terrain-Correction\n",
      "INFO:pyroSAR.snap.auxil:cleaning image edges and converting to GeoTIFF\n",
      "INFO:pyroSAR.snap.util:deleting temporary files\n",
      "INFO:pyroSAR.snap.util:done\n",
      "INFO:pyroSAR.snap.auxil:executing node sequences..\n"
     ]
    },
    {
     "name": "stdout",
     "output_type": "stream",
     "text": [
      "Processing granule number  29\n",
      "/home/ubuntu/Tryggvi/Data/ERA5_data/asf_slc_granules_dl_era5/S1A_IW_SLC__1SDV_20170304T052931_20170304T052958_015538_01988A_5EA4.zip\n",
      "/home/ubuntu/Tryggvi/Data/ERA5_data/pyrosar_processed_granules_1000/29_2017-03-04_1000\n"
     ]
    },
    {
     "name": "stderr",
     "output_type": "stream",
     "text": [
      "INFO:pyroSAR.snap.auxil:Calibration -> ThermalNoiseRemoval\n",
      "INFO:pyroSAR.snap.auxil:TOPSAR-Deburst\n",
      "INFO:pyroSAR.snap.auxil:Apply-Orbit-File\n",
      "INFO:pyroSAR.snap.auxil:Multilook\n",
      "INFO:pyroSAR.snap.auxil:Terrain-Flattening\n",
      "INFO:pyroSAR.snap.auxil:Speckle-Filter\n",
      "INFO:pyroSAR.snap.auxil:Terrain-Correction\n",
      "INFO:pyroSAR.snap.auxil:cleaning image edges and converting to GeoTIFF\n",
      "INFO:pyroSAR.snap.util:deleting temporary files\n",
      "INFO:pyroSAR.snap.util:done\n"
     ]
    },
    {
     "name": "stdout",
     "output_type": "stream",
     "text": [
      "Processing granule number  30\n",
      "/home/ubuntu/Tryggvi/Data/ERA5_data/asf_slc_granules_dl_era5/S1B_IW_SLC__1SDV_20170303T053655_20170303T053722_004540_007E86_CEE5.zip\n",
      "/home/ubuntu/Tryggvi/Data/ERA5_data/pyrosar_processed_granules_1000/30_2017-03-03_1000\n"
     ]
    },
    {
     "name": "stderr",
     "output_type": "stream",
     "text": [
      "INFO:pyroSAR.snap.auxil:executing node sequences..\n",
      "INFO:pyroSAR.snap.auxil:Calibration -> ThermalNoiseRemoval\n",
      "INFO:pyroSAR.snap.auxil:TOPSAR-Deburst\n",
      "INFO:pyroSAR.snap.auxil:Apply-Orbit-File\n",
      "INFO:pyroSAR.snap.auxil:Multilook\n",
      "INFO:pyroSAR.snap.auxil:Terrain-Flattening\n",
      "INFO:pyroSAR.snap.auxil:Speckle-Filter\n",
      "INFO:pyroSAR.snap.auxil:Terrain-Correction\n",
      "INFO:pyroSAR.snap.auxil:cleaning image edges and converting to GeoTIFF\n",
      "INFO:pyroSAR.snap.util:deleting temporary files\n",
      "INFO:pyroSAR.snap.util:done\n"
     ]
    }
   ],
   "source": [
    "for i in range(len(granule_paths_dict)):\n",
    "    input_path = granule_paths_dict[i]['path_to_granule']\n",
    "    output_path = granule_paths_dict[i]['path_to_output_directory']\n",
    "    print(\"Processing granule number \" , i)\n",
    "    print(input_path)\n",
    "    print(output_path)\n",
    "    geocode(\n",
    "        infile = input_path,\n",
    "        outdir = output_path,\n",
    "        t_srs='EPSG:3006', #SWEREF\n",
    "        polarizations = ['VV', 'VH'],\n",
    "        scaling = 'linear',\n",
    "        removeS1ThermalNoise = True,\n",
    "        terrainFlattening = True,\n",
    "\n",
    "        demName = 'Copernicus 30m Global DEM',\n",
    "        export_extra =['localIncidenceAngle', 'layoverShadowMask'],\n",
    "        alignToStandardGrid = True, #\n",
    "        speckleFilter = 'Refined Lee',\n",
    "        refarea = 'gamma0',\n",
    "        rlks = 271,\n",
    "        azlks = 72,\n",
    "        spacing = 1000,\n",
    "        clean_edges = True,\n",
    "        test = False\n",
    "    )\n",
    "    # clear_output(wait=True)\n",
    "\n"
   ]
  },
  {
   "cell_type": "markdown",
   "metadata": {},
   "source": [
    "# Clip raster"
   ]
  },
  {
   "cell_type": "code",
   "execution_count": 7,
   "metadata": {},
   "outputs": [
    {
     "name": "stdout",
     "output_type": "stream",
     "text": [
      "/home/ubuntu/Tryggvi/Data/ERA5_data/processed_granules_clip_500/0_2023-03-28_clip_500\n",
      "Folder created successfully for 0\n",
      "/home/ubuntu/Tryggvi/Data/ERA5_data/processed_granules_clip_500/1_2023-03-28_clip_500\n",
      "Folder created successfully for 1\n",
      "/home/ubuntu/Tryggvi/Data/ERA5_data/processed_granules_clip_500/2_2023-03-26_clip_500\n",
      "Folder created successfully for 2\n",
      "/home/ubuntu/Tryggvi/Data/ERA5_data/processed_granules_clip_500/3_2023-03-25_clip_500\n",
      "Folder created successfully for 3\n",
      "/home/ubuntu/Tryggvi/Data/ERA5_data/processed_granules_clip_500/4_2023-03-06_clip_500\n",
      "Folder created successfully for 4\n",
      "/home/ubuntu/Tryggvi/Data/ERA5_data/processed_granules_clip_500/5_2022-03-16_clip_500\n",
      "Folder created successfully for 5\n",
      "/home/ubuntu/Tryggvi/Data/ERA5_data/processed_granules_clip_500/6_2022-03-14_clip_500\n",
      "Folder created successfully for 6\n",
      "/home/ubuntu/Tryggvi/Data/ERA5_data/processed_granules_clip_500/7_2022-03-14_clip_500\n",
      "Folder created successfully for 7\n",
      "/home/ubuntu/Tryggvi/Data/ERA5_data/processed_granules_clip_500/8_2021-03-16_clip_500\n",
      "Folder created successfully for 8\n",
      "/home/ubuntu/Tryggvi/Data/ERA5_data/processed_granules_clip_500/9_2021-03-15_clip_500\n",
      "Folder created successfully for 9\n",
      "/home/ubuntu/Tryggvi/Data/ERA5_data/processed_granules_clip_500/10_2020-02-28_clip_500\n",
      "Folder created successfully for 10\n",
      "/home/ubuntu/Tryggvi/Data/ERA5_data/processed_granules_clip_500/11_2020-02-28_clip_500\n",
      "Folder created successfully for 11\n",
      "/home/ubuntu/Tryggvi/Data/ERA5_data/processed_granules_clip_500/12_2020-02-26_clip_500\n",
      "Folder created successfully for 12\n",
      "/home/ubuntu/Tryggvi/Data/ERA5_data/processed_granules_clip_500/13_2020-02-25_clip_500\n",
      "Folder created successfully for 13\n",
      "/home/ubuntu/Tryggvi/Data/ERA5_data/processed_granules_clip_500/14_2020-02-25_clip_500\n",
      "Folder created successfully for 14\n",
      "/home/ubuntu/Tryggvi/Data/ERA5_data/processed_granules_clip_500/15_2019-03-12_clip_500\n",
      "Folder created successfully for 15\n",
      "/home/ubuntu/Tryggvi/Data/ERA5_data/processed_granules_clip_500/16_2018-04-03_clip_500\n",
      "Folder created successfully for 16\n",
      "/home/ubuntu/Tryggvi/Data/ERA5_data/processed_granules_clip_500/17_2018-04-01_clip_500\n",
      "Folder created successfully for 17\n",
      "/home/ubuntu/Tryggvi/Data/ERA5_data/processed_granules_clip_500/18_2018-03-31_clip_500\n",
      "Folder created successfully for 18\n",
      "/home/ubuntu/Tryggvi/Data/ERA5_data/processed_granules_clip_500/19_2018-03-30_clip_500\n",
      "Folder created successfully for 19\n",
      "/home/ubuntu/Tryggvi/Data/ERA5_data/processed_granules_clip_500/20_2018-03-30_clip_500\n",
      "Folder created successfully for 20\n",
      "/home/ubuntu/Tryggvi/Data/ERA5_data/processed_granules_clip_500/21_2018-03-30_clip_500\n",
      "Folder created successfully for 21\n",
      "/home/ubuntu/Tryggvi/Data/ERA5_data/processed_granules_clip_500/22_2018-03-28_clip_500\n",
      "Folder created successfully for 22\n",
      "/home/ubuntu/Tryggvi/Data/ERA5_data/processed_granules_clip_500/23_2018-03-15_clip_500\n",
      "Folder created successfully for 23\n",
      "/home/ubuntu/Tryggvi/Data/ERA5_data/processed_granules_clip_500/24_2018-03-14_clip_500\n",
      "Folder created successfully for 24\n",
      "/home/ubuntu/Tryggvi/Data/ERA5_data/processed_granules_clip_500/25_2018-03-14_clip_500\n",
      "Folder created successfully for 25\n",
      "/home/ubuntu/Tryggvi/Data/ERA5_data/processed_granules_clip_500/26_2017-03-07_clip_500\n",
      "Folder created successfully for 26\n",
      "/home/ubuntu/Tryggvi/Data/ERA5_data/processed_granules_clip_500/27_2017-03-07_clip_500\n",
      "Folder created successfully for 27\n",
      "/home/ubuntu/Tryggvi/Data/ERA5_data/processed_granules_clip_500/28_2017-03-06_clip_500\n",
      "Folder created successfully for 28\n",
      "/home/ubuntu/Tryggvi/Data/ERA5_data/processed_granules_clip_500/29_2017-03-04_clip_500\n",
      "Folder created successfully for 29\n",
      "/home/ubuntu/Tryggvi/Data/ERA5_data/processed_granules_clip_500/30_2017-03-03_clip_500\n",
      "Folder created successfully for 30\n"
     ]
    }
   ],
   "source": [
    "# # create all the required directories for the clipped granules\n",
    "\n",
    "for key, folder_path in granule_paths_dict.items():\n",
    "    print(folder_path['path_to_clipped_output_directory'])\n",
    "    if not os.path.exists(folder_path['path_to_clipped_output_directory']):\n",
    "        os.makedirs(folder_path['path_to_clipped_output_directory'])\n",
    "        print(f\"Folder created successfully for {key}\")\n",
    "    else:\n",
    "        print(f\"Folder for {key} already exists.\")"
   ]
  },
  {
   "cell_type": "code",
   "execution_count": 8,
   "metadata": {},
   "outputs": [
    {
     "name": "stdout",
     "output_type": "stream",
     "text": [
      "Current Date and Time: 2024-04-09 09:04:53.400095\n"
     ]
    }
   ],
   "source": [
    "import geopandas as gpd\n",
    "import rasterio\n",
    "from rasterio.mask import mask\n",
    "from shapely.geometry import box\n",
    "from datetime import datetime\n",
    "\n",
    "\n",
    "\n",
    "\n",
    "# Read the raster data\n",
    "def clip_raster(raster_file, output_clipped_raster):\n",
    "    with rasterio.open(raster_file) as src:\n",
    "        shapefile = \"Data/Vindefjallen_data/outputs/shapefiles/study_area.shp\"\n",
    "        # Read the shapefile\n",
    "        gdf = gpd.read_file(shapefile)\n",
    "        # Reproject the shapefile to the raster's CRS if they are different\n",
    "        gdf = gdf.to_crs(src.crs)\n",
    "        \n",
    "        # Get the geometry of the shapefile\n",
    "        geom = gdf.geometry.values[0]\n",
    "        \n",
    "        # Clip the raster with the shapefile's geometry\n",
    "        out_image, out_transform = mask(src, [geom], crop=True)\n",
    "        out_meta = src.meta.copy()\n",
    "\n",
    "        # Update metadata for the clipped raster\n",
    "        out_meta.update({\"driver\": \"GTiff\",\n",
    "                        \"height\": out_image.shape[1],\n",
    "                        \"width\": out_image.shape[2],\n",
    "                        \"transform\": out_transform})\n",
    "\n",
    "        # Write the clipped raster to a new file\n",
    "        with rasterio.open(output_clipped_raster, \"w\", **out_meta) as dest:\n",
    "            dest.write(out_image)\n",
    "        # Get the current date and time\n",
    "current_datetime = datetime.now()\n",
    "\n",
    "# Print the current date and time\n",
    "print(\"Current Date and Time:\", current_datetime)\n",
    "\n",
    "\n"
   ]
  },
  {
   "cell_type": "code",
   "execution_count": 9,
   "metadata": {},
   "outputs": [
    {
     "name": "stdout",
     "output_type": "stream",
     "text": [
      "Clipped raster saved to /home/ubuntu/Tryggvi/Data/ERA5_data/processed_granules_clip_500/0_2023-03-28_clip_500/S1A__IW___D_20230328T052201_VH_gamma0-rtc.tif\n",
      "Clipped raster saved to /home/ubuntu/Tryggvi/Data/ERA5_data/processed_granules_clip_500/1_2023-03-28_clip_500/S1A__IW___D_20230328T052136_VH_gamma0-rtc.tif\n",
      "Clipped raster saved to /home/ubuntu/Tryggvi/Data/ERA5_data/processed_granules_clip_500/2_2023-03-26_clip_500/S1A__IW___D_20230326T053811_VH_gamma0-rtc.tif\n",
      "Clipped raster saved to /home/ubuntu/Tryggvi/Data/ERA5_data/processed_granules_clip_500/3_2023-03-25_clip_500/S1A__IW___A_20230325T161511_VH_gamma0-rtc.tif\n",
      "Clipped raster saved to /home/ubuntu/Tryggvi/Data/ERA5_data/processed_granules_clip_500/4_2023-03-06_clip_500/S1A__IW___A_20230306T162321_VH_gamma0-rtc.tif\n",
      "Clipped raster saved to /home/ubuntu/Tryggvi/Data/ERA5_data/processed_granules_clip_500/5_2022-03-16_clip_500/S1A__IW___A_20220316T163126_VH_gamma0-rtc.tif\n",
      "Clipped raster saved to /home/ubuntu/Tryggvi/Data/ERA5_data/processed_granules_clip_500/6_2022-03-14_clip_500/S1A__IW___D_20220314T053007_VH_gamma0-rtc.tif\n",
      "Clipped raster saved to /home/ubuntu/Tryggvi/Data/ERA5_data/processed_granules_clip_500/7_2022-03-14_clip_500/S1A__IW___D_20220314T052943_VH_gamma0-rtc.tif\n",
      "Clipped raster saved to /home/ubuntu/Tryggvi/Data/ERA5_data/processed_granules_clip_500/8_2021-03-16_clip_500/S1A__IW___A_20210316T162309_VH_gamma0-rtc.tif\n",
      "Clipped raster saved to /home/ubuntu/Tryggvi/Data/ERA5_data/processed_granules_clip_500/9_2021-03-15_clip_500/S1B__IW___A_20210315T163051_VH_gamma0-rtc.tif\n",
      "Clipped raster saved to /home/ubuntu/Tryggvi/Data/ERA5_data/processed_granules_clip_500/10_2020-02-28_clip_500/S1B__IW___D_20200228T053728_VH_gamma0-rtc.tif\n",
      "Clipped raster saved to /home/ubuntu/Tryggvi/Data/ERA5_data/processed_granules_clip_500/11_2020-02-28_clip_500/S1B__IW___D_20200228T053703_VH_gamma0-rtc.tif\n",
      "Clipped raster saved to /home/ubuntu/Tryggvi/Data/ERA5_data/processed_granules_clip_500/12_2020-02-26_clip_500/S1A__IW___A_20200226T162303_VH_gamma0-rtc.tif\n",
      "Clipped raster saved to /home/ubuntu/Tryggvi/Data/ERA5_data/processed_granules_clip_500/13_2020-02-25_clip_500/S1B__IW___A_20200225T163048_VH_gamma0-rtc.tif\n",
      "Clipped raster saved to /home/ubuntu/Tryggvi/Data/ERA5_data/processed_granules_clip_500/14_2020-02-25_clip_500/S1B__IW___A_20200225T163020_VH_gamma0-rtc.tif\n",
      "Clipped raster saved to /home/ubuntu/Tryggvi/Data/ERA5_data/processed_granules_clip_500/15_2019-03-12_clip_500/S1B__IW___D_20190312T052851_VH_gamma0-rtc.tif\n",
      "Clipped raster saved to /home/ubuntu/Tryggvi/Data/ERA5_data/processed_granules_clip_500/16_2018-04-03_clip_500/S1B__IW___D_20180403T053652_VH_gamma0-rtc.tif\n",
      "Clipped raster saved to /home/ubuntu/Tryggvi/Data/ERA5_data/processed_granules_clip_500/17_2018-04-01_clip_500/S1A__IW___A_20180401T162251_VH_gamma0-rtc.tif\n",
      "Clipped raster saved to /home/ubuntu/Tryggvi/Data/ERA5_data/processed_granules_clip_500/18_2018-03-31_clip_500/S1B__IW___A_20180331T163024_VH_gamma0-rtc.tif\n",
      "Clipped raster saved to /home/ubuntu/Tryggvi/Data/ERA5_data/processed_granules_clip_500/19_2018-03-30_clip_500/S1A__IW___A_20180330T163914_VH_gamma0-rtc.tif\n",
      "Clipped raster saved to /home/ubuntu/Tryggvi/Data/ERA5_data/processed_granules_clip_500/20_2018-03-30_clip_500/S1A__IW___D_20180330T052131_VH_gamma0-rtc.tif\n",
      "Clipped raster saved to /home/ubuntu/Tryggvi/Data/ERA5_data/processed_granules_clip_500/21_2018-03-30_clip_500/S1A__IW___D_20180330T052106_VH_gamma0-rtc.tif\n",
      "Clipped raster saved to /home/ubuntu/Tryggvi/Data/ERA5_data/processed_granules_clip_500/22_2018-03-28_clip_500/S1A__IW___D_20180328T053741_VH_gamma0-rtc.tif\n",
      "Clipped raster saved to /home/ubuntu/Tryggvi/Data/ERA5_data/processed_granules_clip_500/23_2018-03-15_clip_500/S1A__IW___A_20180315T161441_VH_gamma0-rtc.tif\n",
      "Clipped raster saved to /home/ubuntu/Tryggvi/Data/ERA5_data/processed_granules_clip_500/24_2018-03-14_clip_500/S1B__IW___A_20180314T162223_VH_gamma0-rtc.tif\n",
      "Clipped raster saved to /home/ubuntu/Tryggvi/Data/ERA5_data/processed_granules_clip_500/25_2018-03-14_clip_500/S1B__IW___A_20180314T162156_VH_gamma0-rtc.tif\n",
      "Clipped raster saved to /home/ubuntu/Tryggvi/Data/ERA5_data/processed_granules_clip_500/26_2017-03-07_clip_500/S1B__IW___A_20170307T162217_VH_gamma0-rtc.tif\n",
      "Clipped raster saved to /home/ubuntu/Tryggvi/Data/ERA5_data/processed_granules_clip_500/27_2017-03-07_clip_500/S1B__IW___A_20170307T162149_VH_gamma0-rtc.tif\n",
      "Clipped raster saved to /home/ubuntu/Tryggvi/Data/ERA5_data/processed_granules_clip_500/28_2017-03-06_clip_500/S1A__IW___A_20170306T163104_VH_gamma0-rtc.tif\n",
      "Clipped raster saved to /home/ubuntu/Tryggvi/Data/ERA5_data/processed_granules_clip_500/29_2017-03-04_clip_500/S1A__IW___D_20170304T052931_VH_gamma0-rtc.tif\n",
      "Clipped raster saved to /home/ubuntu/Tryggvi/Data/ERA5_data/processed_granules_clip_500/30_2017-03-03_clip_500/S1B__IW___D_20170303T053655_VH_gamma0-rtc.tif\n"
     ]
    }
   ],
   "source": [
    "# Loop through each granule in the granule_paths_dict\n",
    "for i in range(len(granule_paths_dict)):\n",
    "    # Get the list of files in the output directory of the current granule\n",
    "    file_list = os.listdir(granule_paths_dict[i]['path_to_output_directory'])\n",
    "    \n",
    "    # Loop through each file in the file list\n",
    "    for j in file_list:\n",
    "        # Check if the file name contains 'VH_gamma0-rtc.tif'\n",
    "        if 'VH_gamma0-rtc.tif' in j:\n",
    "            # Get the path to the raster file\n",
    "            raster_file = granule_paths_dict[i]['path_to_output_directory'] + '/' + j\n",
    "            # Get the path to the clipped output raster\n",
    "            output_clipped_raster = granule_paths_dict[i]['path_to_clipped_output_directory']+ '/' + j\n",
    "            # Call the clip_raster function to clip the raster\n",
    "            clip_raster(raster_file, output_clipped_raster)\n",
    "            # Print the path to the clipped raster\n",
    "            print('Clipped raster saved to', output_clipped_raster)\n",
    "        \n",
    "        # Check if the file name contains '_localIncidenceAngle.tif'\n",
    "        if '_localIncidenceAngle.tif' in j:\n",
    "            # Get the path to the raster file\n",
    "            raster_file = granule_paths_dict[i]['path_to_output_directory'] + '/' + j\n",
    "            # Get the path to the clipped output raster\n",
    "            output_clipped_raster = granule_paths_dict[i]['path_to_clipped_output_directory']+ '/' + j\n",
    "            # Call the clip_raster function to clip the raster\n",
    "            clip_raster(raster_file, output_clipped_raster)\n",
    "        \n",
    "        # Check if the file name contains '_layoverShadowMask.tif'\n",
    "        if '_layoverShadowMask.tif' in j:\n",
    "            # Get the path to the raster file\n",
    "            raster_file = granule_paths_dict[i]['path_to_output_directory'] + '/' + j\n",
    "            # Get the path to the clipped output raster\n",
    "            output_clipped_raster = granule_paths_dict[i]['path_to_clipped_output_directory']+ '/' + j\n",
    "            # Call the clip_raster function to clip the raster\n",
    "            clip_raster(raster_file, output_clipped_raster)\n",
    "        \n",
    "        # Check if the file name contains '_VV_gamma0-rtc.tif'\n",
    "        if '_VV_gamma0-rtc.tif' in j:\n",
    "            # Get the path to the raster file\n",
    "            raster_file = granule_paths_dict[i]['path_to_output_directory'] + '/' + j\n",
    "            # Get the path to the clipped output raster\n",
    "            output_clipped_raster = granule_paths_dict[i]['path_to_clipped_output_directory']+ '/' + j\n",
    "            # Call the clip_raster function to clip the raster\n",
    "            clip_raster(raster_file, output_clipped_raster)\n",
    "    "
   ]
  },
  {
   "cell_type": "code",
   "execution_count": null,
   "metadata": {},
   "outputs": [],
   "source": []
  }
 ],
 "metadata": {
  "kernelspec": {
   "display_name": "K8_VM_env",
   "language": "python",
   "name": "python3"
  },
  "language_info": {
   "codemirror_mode": {
    "name": "ipython",
    "version": 3
   },
   "file_extension": ".py",
   "mimetype": "text/x-python",
   "name": "python",
   "nbconvert_exporter": "python",
   "pygments_lexer": "ipython3",
   "version": "3.9.18"
  }
 },
 "nbformat": 4,
 "nbformat_minor": 2
}
