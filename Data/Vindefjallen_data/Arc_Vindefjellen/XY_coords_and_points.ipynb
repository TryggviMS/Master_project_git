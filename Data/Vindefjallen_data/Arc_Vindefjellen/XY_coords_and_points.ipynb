{
 "cells": [
  {
   "cell_type": "markdown",
   "metadata": {},
   "source": [
    "#### XY coords og points og merge\n",
    "\n",
    "Bók sem tekur Nokkur excel skjöl og býr til punkta shp með því að loopa í gegnum mörg excel skjöl og nota XY to points\n",
    "\n",
    "Síðan eru punkta skrárnar teknar og mergeaðar í eina juicy skrá"
   ]
  },
  {
   "cell_type": "code",
   "execution_count": 4,
   "metadata": {},
   "outputs": [
    {
     "data": {
      "text/plain": [
       "'C:\\\\Users\\\\tryggvisi\\\\Documents\\\\my-awesome-masters-project\\\\Testing\\\\Vindefjallen_testing\\\\Arc_Vindefjellen'"
      ]
     },
     "execution_count": 4,
     "metadata": {},
     "output_type": "execute_result"
    }
   ],
   "source": [
    "#arcpy.env.workspace = r'C:\\Users\\tryggvisi\\Documents\\my-awesome-masters-project\\Testing\\Vindefjallen_testing\\Arc_Vindefjellen\\Arc_Vindefjellen.gdb'\n",
    "arcpy.env.workspace"
   ]
  },
  {
   "cell_type": "code",
   "execution_count": 3,
   "metadata": {},
   "outputs": [
    {
     "name": "stdout",
     "output_type": "stream",
     "text": [
      "new workspace dir:  C:\\Users\\tryggvisi\\Documents\\my-awesome-masters-project\n"
     ]
    }
   ],
   "source": [
    "import os\n",
    "\n",
    "# workspace_directory = r'C:\\Users\\trygg\\Documents\\Master_project' #HOME\n",
    "workspace_directory = r'C:\\Users\\tryggvisi\\Documents\\my-awesome-masters-project' #WORK\n",
    "# Change the current working directory to the specified workspace\n",
    "os.chdir(workspace_directory)\n",
    "print('new workspace dir: ', workspace_directory)"
   ]
  },
  {
   "cell_type": "code",
   "execution_count": null,
   "metadata": {},
   "outputs": [],
   "source": [
    "arcpy.management.XYTableToPoint(\n",
    "    in_table=\"points_with_granuesDepthXY2_ExcelToTable1\",\n",
    "    out_feature_class=r\"C:\\Users\\tryggvisi\\Documents\\my-awesome-masters-project\\Testing\\Vindefjallen_testing\\Arc_Vindefjellen\\temp\\points_with_granuesDepthXY2_ExcelToTable1_XYTableToPoint4.shp\",\n",
    "    x_field=\"x_coord\",\n",
    "    y_field=\"y_coord\",\n",
    "    z_field=None,\n",
    "    coordinate_system='GEOGCS[\"GCS_WGS_1984\",DATUM[\"D_WGS_1984\",SPHEROID[\"WGS_1984\",6378137.0,298.257223563]],PRIMEM[\"Greenwich\",0.0],UNIT[\"Degree\",0.0174532925199433]];-400 -400 1000000000;-100000 10000;-100000 10000;8.98315284119521E-09;0.001;0.001;IsHighPrecision'\n",
    ")"
   ]
  }
 ],
 "metadata": {
  "kernelspec": {
   "display_name": "ArcGISPro",
   "language": "Python",
   "name": "python3"
  },
  "language_info": {
   "file_extension": ".py",
   "name": "python",
   "version": "3"
  }
 },
 "nbformat": 4,
 "nbformat_minor": 2
}
