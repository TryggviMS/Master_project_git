{
 "cells": [
  {
   "cell_type": "code",
   "execution_count": 9,
   "metadata": {},
   "outputs": [],
   "source": [
    "from datetime import datetime, timedelta"
   ]
  },
  {
   "cell_type": "code",
   "execution_count": 23,
   "metadata": {},
   "outputs": [
    {
     "name": "stdout",
     "output_type": "stream",
     "text": [
      "Done\n"
     ]
    }
   ],
   "source": [
    "arcpy.env.workspace = r'C:\\Users\\tryggvisi\\Documents\\my-awesome-masters-project\\Testing\\Vindefjallen_testing\\Arc_Vindefjellen\\Arc_Vindefjellen.gdb'\n",
    "\n",
    "# Specify the feature class and field name\n",
    "feature_class = 'Vindefjallen_VV_MDR_test'\n",
    "field_name = 'dags'\n",
    "\n",
    "print('Done')"
   ]
  },
  {
   "cell_type": "code",
   "execution_count": 25,
   "metadata": {},
   "outputs": [],
   "source": [
    "with arcpy.EnvManager(outputCoordinateSystem='PROJCS[\"WGS_1984_Web_Mercator_Auxiliary_Sphere\",GEOGCS[\"GCS_WGS_1984\",DATUM[\"D_WGS_1984\",SPHEROID[\"WGS_1984\",6378137.0,298.257223563]],PRIMEM[\"Greenwich\",0.0],UNIT[\"Degree\",0.0174532925199433]],PROJECTION[\"Mercator_Auxiliary_Sphere\"],PARAMETER[\"False_Easting\",0.0],PARAMETER[\"False_Northing\",0.0],PARAMETER[\"Central_Meridian\",0.0],PARAMETER[\"Standard_Parallel_1\",0.0],PARAMETER[\"Auxiliary_Sphere_Type\",0.0],UNIT[\"Meter\",1.0]]'):\n",
    "    arcpy.management.CreateMosaicDataset(\n",
    "        in_workspace=r\"C:\\Users\\trygg\\Documents\\Master_project\\Testing\\Vindefjallen_testing\\Arc_Vindefjellen\\Arc_Vindefjellen.gdb\",\n",
    "        in_mosaicdataset_name=feature_class,\n",
    "        coordinate_system='GEOGCS[\"GCS_WGS_1984\",DATUM[\"D_WGS_1984\",SPHEROID[\"WGS_1984\",6378137.0,298.257223563]],PRIMEM[\"Greenwich\",0.0],UNIT[\"Degree\",0.0174532925199433]]',\n",
    "        num_bands=None,\n",
    "        pixel_type=\"\",\n",
    "        product_definition=\"NONE\",\n",
    "        product_band_definitions=\"VH # #\"\n",
    "    )"
   ]
  },
  {
   "cell_type": "code",
   "execution_count": 28,
   "metadata": {},
   "outputs": [
    {
     "data": {
      "text/html": [
       "<div class='gpresult'><h2>Messages</h2><div id='messages' data-messages='[\"Start Time: 23 November 2023 21:52:22\",\"2023-11-23T21:52:23.311: Loading raster datasets\",\"2023-11-23T21:52:23.385: Completed crawling 6 data source items. Added 6 mosaic dataset items.\",\"2023-11-23T21:52:23.389: Synchronizing crawled data source items\",\"2023-11-23T21:52:23.398: Synchronizing items associated with raster type instance &#39;Raster Dataset&#39; [ID: 1].\",\"2023-11-23T21:52:23.736: Estimating raster statistics for mosaic dataset.\",\"2023-11-23T21:52:23.801: Completed synchronization: 6 items selected, 6 items synchronized.\",\"Succeeded at 23 November 2023 21:52:26 (Elapsed Time: 3.60 seconds)\"]' data-show='true'><div id = 'default' /></div></div>"
      ],
      "text/plain": [
       "<Result 'Vindefjallen_VV_MDR_test'>"
      ]
     },
     "execution_count": 28,
     "metadata": {},
     "output_type": "execute_result"
    }
   ],
   "source": [
    "arcpy.management.AddRastersToMosaicDataset(\n",
    "    in_mosaic_dataset=r\"C:\\Users\\trygg\\Documents\\Master_project\\Testing\\Vindefjallen_testing\\Arc_Vindefjellen\\Arc_Vindefjellen.gdb\\aawds\",\n",
    "    raster_type=feature_class,\n",
    "    input_path=r\"C:\\Users\\trygg\\Documents\\Master_project\\Data\\Vindefjallen_data\\S1-rasters\\drive-download-20231123T194328Z-001\",\n",
    "    update_cellsize_ranges=\"UPDATE_CELL_SIZES\",\n",
    "    update_boundary=\"UPDATE_BOUNDARY\",\n",
    "    update_overviews=\"UPDATE_OVERVIEWS\",\n",
    "    maximum_pyramid_levels=None,\n",
    "    maximum_cell_size=0,\n",
    "    minimum_dimension=1500,\n",
    "    spatial_reference=None,\n",
    "    filter=\"\",\n",
    "    sub_folder=\"SUBFOLDERS\",\n",
    "    duplicate_items_action=\"ALLOW_DUPLICATES\",\n",
    "    build_pyramids=\"BUILD_PYRAMIDS\",\n",
    "    calculate_statistics=\"CALCULATE_STATISTICS\",\n",
    "    build_thumbnails=\"NO_THUMBNAILS\",\n",
    "    operation_description=\"\",\n",
    "    force_spatial_reference=\"NO_FORCE_SPATIAL_REFERENCE\",\n",
    "    estimate_statistics=\"ESTIMATE_STATISTICS\",\n",
    "    aux_inputs=None,\n",
    "    enable_pixel_cache=\"NO_PIXEL_CACHE\",\n",
    "    cache_location=r\"C:\\Users\\trygg\\AppData\\Local\\ESRI\\rasterproxies\\aawds\"\n",
    ")"
   ]
  },
  {
   "cell_type": "code",
   "execution_count": 29,
   "metadata": {},
   "outputs": [
    {
     "name": "stdout",
     "output_type": "stream",
     "text": [
      "Field 'NewField' added to 'Vindefjallen_VV_MDR_test'.\n"
     ]
    }
   ],
   "source": [
    "# Set the name and data type of the new field\n",
    "new_field_name = 'NewField'\n",
    "new_field_type = 'DATE'  # Change this to the desired data type (e.g., 'TEXT', 'DOUBLE', 'LONG')\n",
    "\n",
    "# Use the AddField_management tool to add the new field\n",
    "arcpy.AddField_management(feature_class, field_name, new_field_type)\n",
    "\n",
    "print(f\"Field '{new_field_name}' added to '{feature_class}'.\")"
   ]
  },
  {
   "cell_type": "code",
   "execution_count": 30,
   "metadata": {},
   "outputs": [
    {
     "name": "stdout",
     "output_type": "stream",
     "text": [
      "[datetime.datetime(2023, 1, 8, 0, 0), datetime.datetime(2023, 1, 20, 0, 0), datetime.datetime(2023, 2, 1, 0, 0), datetime.datetime(2023, 2, 13, 0, 0), datetime.datetime(2023, 2, 25, 0, 0), datetime.datetime(2023, 3, 9, 0, 0)]\n"
     ]
    }
   ],
   "source": [
    "timestamp_list = ['T20230108', 'T20230120', 'T20230201', 'T20230213', 'T20230225', 'T20230309']\n",
    "timestamp_list.append('T20250913') # til að fá þetta til að virka með 1 eina línu á enda attrb tbl\n",
    "def convert_to_datetime(date_string):\n",
    "    # Extract year, month, and day from the date string\n",
    "    year = int(date_string[1:5])\n",
    "    month = int(date_string[5:7])\n",
    "    day = int(date_string[7:9])\n",
    "\n",
    "    # Create a datetime object\n",
    "    return datetime(year, month, day)\n",
    "\n",
    "# Convert each date string to a datetime object\n",
    "date_objects = [convert_to_datetime(date_str) for date_str in timestamp_list]\n",
    "print(date_objects)"
   ]
  },
  {
   "cell_type": "code",
   "execution_count": 31,
   "metadata": {},
   "outputs": [
    {
     "name": "stdout",
     "output_type": "stream",
     "text": [
      "Field 'dags' updated successfully.\n"
     ]
    }
   ],
   "source": [
    "# Create an update cursor to iterate through the rows in the attribute table\n",
    "with arcpy.da.UpdateCursor(feature_class, [field_name]) as cursor:\n",
    "    for i, row in enumerate(cursor):\n",
    "        # Update the field value for each row with the current date\n",
    "        row[0] = date_objects[i].strftime('%d/%m/%Y')\n",
    "        \n",
    "        # Increment the date by 1 day for the next row\n",
    "       # start_date += timedelta(days=1)\n",
    "        \n",
    "        cursor.updateRow(row)\n",
    "\n",
    "print(f\"Field '{field_name}' updated successfully.\")"
   ]
  },
  {
   "cell_type": "code",
   "execution_count": 32,
   "metadata": {},
   "outputs": [
    {
     "data": {
      "text/html": [
       "<div class='gpresult'><h2>Messages</h2><div id='messages' data-messages='[\"Start Time: 23 November 2023 21:52:57\",\"Succeeded at 23 November 2023 21:53:03 (Elapsed Time: 5.80 seconds)\"]' data-show='true'><div id = 'default' /></div></div>"
      ],
      "text/plain": [
       "<Result 'Vindefjallen_VV_MDR_test'>"
      ]
     },
     "execution_count": 32,
     "metadata": {},
     "output_type": "execute_result"
    }
   ],
   "source": [
    "arcpy.management.BuildMultidimensionalInfo(\n",
    "    in_mosaic_dataset=feature_class,\n",
    "    variable_field=\"Tag\",\n",
    "    dimension_fields=\"dags # #\",\n",
    "    variable_desc_units=\"Dataset # #\",\n",
    "    delete_multidimensional_info=\"NO_DELETE_MULTIDIMENSIONAL_INFO\"\n",
    ")"
   ]
  },
  {
   "cell_type": "code",
   "execution_count": null,
   "metadata": {},
   "outputs": [],
   "source": []
  }
 ],
 "metadata": {
  "kernelspec": {
   "display_name": "ArcGISPro",
   "language": "Python",
   "name": "python3"
  },
  "language_info": {
   "file_extension": ".py",
   "name": "python",
   "version": "3"
  }
 },
 "nbformat": 4,
 "nbformat_minor": 2
}
