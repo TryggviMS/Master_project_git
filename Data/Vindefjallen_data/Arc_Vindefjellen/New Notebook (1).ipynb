{
 "cells": [
  {
   "cell_type": "code",
   "execution_count": null,
   "metadata": {},
   "outputs": [],
   "source": [
    "arcpy.sa.ExtractMultiValuesToPoints(\n",
    "    in_point_features=\"corner_coords_processing_2023_middletime\",\n",
    "    in_rasters=\"S1A__IW___D_20170304T052931_VV_gamma0-rtc_db.tif S1A__IW___;S1A__IW___D_20170304T052931_VH_gamma0-rtc_db.tif S1A__IW__1;S1A__IW___D_20170304T052931_localIncidenceAngle.tif S1A__IW__2;S1A__IW___D_20170304T052931_layoverShadowMask.tif S1A__IW__3\",\n",
    "    bilinear_interpolate_values=\"BILINEAR\"\n",
    ")\n",
    "arcpy.sa.ExtractMultiValuesToPoints(\n",
    "    in_point_features=\"corner_coords_processing_2023_middletime\",\n",
    "    in_rasters=\"S1A__IW___D_20170304T052931_VV_gamma0-rtc_db.tif S1A__IW___;S1A__IW___D_20170304T052931_VH_gamma0-rtc_db.tif S1A__IW__1;S1A__IW___D_20170304T052931_localIncidenceAngle.tif S1A__IW__2;S1A__IW___D_20170304T052931_layoverShadowMask.tif S1A__IW__3\",\n",
    "    bilinear_interpolate_values=\"BILINEAR\"\n",
    ")"
   ]
  }
 ],
 "metadata": {
  "kernelspec": {
   "display_name": "ArcGISPro",
   "language": "Python",
   "name": "python3"
  },
  "language_info": {
   "file_extension": ".py",
   "name": "python",
   "version": "3"
  }
 },
 "nbformat": 4,
 "nbformat_minor": 2
}
