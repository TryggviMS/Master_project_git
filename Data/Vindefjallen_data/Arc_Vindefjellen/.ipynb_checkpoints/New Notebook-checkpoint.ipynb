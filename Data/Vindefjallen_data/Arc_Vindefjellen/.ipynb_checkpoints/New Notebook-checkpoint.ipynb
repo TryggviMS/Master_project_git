{
 "cells": [
  {
   "cell_type": "code",
   "execution_count": 3,
   "metadata": {},
   "outputs": [],
   "source": [
    "arcpy.env.workspace = r'C:\\Users\\tryggvisi\\Documents\\my-awesome-masters-project\\Testing\\Vindefjallen_testing\\Arc_Vindefjellen\\Arc_Vindefjellen.gdb'\n",
    "\n",
    "# Specify the feature class and field name\n",
    "feature_class = 'Vindefjallen_VV_MDR_1_1'\n",
    "field_name = 'dags'"
   ]
  },
  {
   "cell_type": "code",
   "execution_count": 4,
   "metadata": {},
   "outputs": [
    {
     "ename": "TypeError",
     "evalue": "unsupported operand type(s) for +=: 'datetime.datetime' and 'int'",
     "output_type": "error",
     "traceback": [
      "\u001b[0;31m---------------------------------------------------------------------------\u001b[0m\n\u001b[0;31mTypeError\u001b[0m                                 Traceback (most recent call last)",
      "In  \u001b[0;34m[4]\u001b[0m:\nLine \u001b[0;34m6\u001b[0m:     row[\u001b[34m0\u001b[39;49;00m] += increment_value\n",
      "\u001b[0;31mTypeError\u001b[0m: unsupported operand type(s) for +=: 'datetime.datetime' and 'int'\n\u001b[0;31m---------------------------------------------------------------------------\u001b[0m"
     ]
    }
   ],
   "source": [
    "with arcpy.da.UpdateCursor(feature_class, [field_name]) as cursor:\n",
    "    increment_value = 1  # You can change this value based on your requirements\n",
    "\n",
    "    for row in cursor:\n",
    "        # Update the field value for each row\n",
    "        row[0] += increment_value\n",
    "        cursor.updateRow(row)\n",
    "\n",
    "print(f\"Field '{field_name}' updated successfully.\")"
   ]
  }
 ],
 "metadata": {
  "kernelspec": {
   "display_name": "ArcGISPro",
   "language": "Python",
   "name": "python3"
  },
  "language_info": {
   "file_extension": ".py",
   "name": "python",
   "version": "3"
  }
 },
 "nbformat": 4,
 "nbformat_minor": 2
}
