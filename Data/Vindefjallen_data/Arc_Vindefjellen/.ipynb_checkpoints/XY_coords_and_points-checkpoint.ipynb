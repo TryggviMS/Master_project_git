{
 "cells": [
  {
   "cell_type": "markdown",
   "metadata": {},
   "source": [
    "#### XY coords og points og merge\n",
    "\n",
    "Bók sem tekur Nokkur excel skjöl og býr til punkta shp með því að loopa í gegnum mörg excel skjöl og nota XY to points\n",
    "\n",
    "Síðan eru punkta skrárnar teknar og mergeaðar í eina juicy skrá"
   ]
  }
 ],
 "metadata": {
  "kernelspec": {
   "display_name": "ArcGISPro",
   "language": "Python",
   "name": "python3"
  },
  "language_info": {
   "file_extension": ".py",
   "name": "python",
   "version": "3"
  }
 },
 "nbformat": 4,
 "nbformat_minor": 2
}
